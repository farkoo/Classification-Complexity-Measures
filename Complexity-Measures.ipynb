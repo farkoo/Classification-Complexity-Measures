{
 "cells": [
  {
   "cell_type": "code",
   "execution_count": 1,
   "metadata": {},
   "outputs": [],
   "source": [
    "import typing as t\n",
    "import numpy as np\n",
    "import itertools\n",
    "from sklearn.decomposition import PCA\n",
    "from sklearn.preprocessing import StandardScaler\n",
    "from sklearn.preprocessing import MinMaxScaler\n",
    "from sklearn.neighbors import KNeighborsClassifier\n",
    "from sklearn.model_selection import LeaveOneOut\n",
    "from scipy.sparse.csgraph import minimum_spanning_tree\n",
    "from sklearn.metrics import accuracy_score\n",
    "from scipy.spatial import distance\n",
    "import matplotlib.pyplot as plt\n",
    "import math\n",
    "import random\n",
    "import gower"
   ]
  },
  {
   "cell_type": "code",
   "execution_count": 2,
   "metadata": {},
   "outputs": [],
   "source": [
    "from sklearn.datasets import load_iris\n",
    "from sklearn.datasets import load_breast_cancer\n",
    "from sklearn.datasets import load_wine\n",
    "\n",
    "data_iris = load_iris()\n",
    "Y_iris = data_iris.target\n",
    "X_iris = data_iris.data\n",
    "\n",
    "data_wine = load_wine()\n",
    "Y_wine = data_wine.target\n",
    "X_wine = data_wine.data\n",
    "X_wine = X_wine[:,0:4]\n",
    "\n",
    "X_wine_bal = X_wine\n",
    "Y_wine_bal = Y_wine"
   ]
  },
  {
   "cell_type": "code",
   "execution_count": 3,
   "metadata": {},
   "outputs": [
    {
     "name": "stdout",
     "output_type": "stream",
     "text": [
      "[0 1 2] [71 71 71]\n"
     ]
    }
   ],
   "source": [
    "classes, class_freqs = np.unique(Y_wine, return_counts=True)\n",
    "a = max(class_freqs) - class_freqs[0]\n",
    "b = max(class_freqs) - class_freqs[1]\n",
    "c = max(class_freqs) - class_freqs[2]\n",
    "counter =  a + b + c\n",
    "while counter > 0:\n",
    "    r = random.randint(0, X_wine.shape[0]-1)\n",
    "    if Y_wine[r] == classes[0] and a > 0:\n",
    "        a = a -1\n",
    "        X_wine_bal = np.append(X_wine_bal, [X_wine[r]], axis=0)\n",
    "        Y_wine_bal = np.append(Y_wine_bal, [Y_wine[r]], axis=0)\n",
    "        counter = counter - 1\n",
    "    elif Y_wine[r] == classes[1] and b > 0:\n",
    "        b = b - 1\n",
    "        X_wine_bal = np.append(X_wine_bal, [X_wine[r]], axis=0)\n",
    "        Y_wine_bal = np.append(Y_wine_bal, [Y_wine[r]], axis=0)\n",
    "        counter = counter - 1\n",
    "    elif Y_wine[r] == classes[2] and c > 0:\n",
    "        c = c - 1\n",
    "        X_wine_bal = np.append(X_wine_bal, [X_wine[r]], axis=0)\n",
    "        Y_wine_bal = np.append(Y_wine_bal, [Y_wine[r]], axis=0)\n",
    "        counter = counter - 1\n",
    "classes, class_freqs = np.unique(Y_wine_bal, return_counts=True)\n",
    "print(classes, class_freqs)"
   ]
  },
  {
   "cell_type": "code",
   "execution_count": 4,
   "metadata": {},
   "outputs": [],
   "source": [
    "from sklearn.model_selection import train_test_split\n",
    "X_train_iris, X_test_iris, Y_train_iris, Y_test_iris = train_test_split(X_iris, Y_iris, test_size = 0.1)\n",
    "X_train_wine, X_test_wine, Y_train_wine, Y_test_wine = train_test_split(X_wine, Y_wine, test_size = 0.1)\n",
    "X_train_wine_bal, X_test_wine_bal, Y_train_wine_bal, Y_test_wine_bal = train_test_split(X_wine_bal, Y_wine_bal, test_size = 0.1)"
   ]
  },
  {
   "cell_type": "code",
   "execution_count": 5,
   "metadata": {
    "scrolled": false
   },
   "outputs": [
    {
     "name": "stdout",
     "output_type": "stream",
     "text": [
      "Iris dataset train accuracy: 0.9925925925925926\n",
      "Iris dataset test accuracy: 1.0\n",
      "-----------------------------------------------\n",
      "wine dataset train accuracy: 0.88125\n",
      "wine dataset test accuracy: 0.7222222222222222\n",
      "-----------------------------------------------\n",
      "wine(balanced) dataset train accuracy: 0.8586387434554974\n",
      "wine(balanced) dataset test accuracy: 0.7777777777777778\n"
     ]
    }
   ],
   "source": [
    "from sklearn.svm import SVC\n",
    "model_iris = SVC(kernel = 'linear')\n",
    "model_iris.fit(X_train_iris, Y_train_iris)\n",
    "print(\"Iris dataset train accuracy: \" + str(model_iris.score(X_train_iris, Y_train_iris)))\n",
    "print(\"Iris dataset test accuracy: \" + str(model_iris.score(X_test_iris, Y_test_iris)))\n",
    "print(\"-----------------------------------------------\")\n",
    "model_wine = SVC(kernel = 'linear')\n",
    "model_wine.fit(X_train_wine, Y_train_wine)\n",
    "print(\"wine dataset train accuracy: \" + str(model_wine.score(X_train_wine, Y_train_wine)))\n",
    "print(\"wine dataset test accuracy: \" + str(model_wine.score(X_test_wine, Y_test_wine)))\n",
    "print(\"-----------------------------------------------\")\n",
    "model_wine = SVC(kernel = 'linear')\n",
    "model_wine.fit(X_train_wine_bal, Y_train_wine_bal)\n",
    "print(\"wine(balanced) dataset train accuracy: \" + str(model_wine.score(X_train_wine_bal, Y_train_wine_bal)))\n",
    "print(\"wine(balanced) dataset test accuracy: \" + str(model_wine.score(X_test_wine, Y_test_wine)))"
   ]
  },
  {
   "cell_type": "code",
   "execution_count": 6,
   "metadata": {},
   "outputs": [],
   "source": [
    "def precompute_fx(X: np.ndarray, Y: np.ndarray) -> t.Dict[str, t.Any]:\n",
    "\n",
    "    prepcomp_vals = {}\n",
    "    \n",
    "    classes, class_freqs = np.unique(Y, return_counts=True)\n",
    "    cls_index = [np.equal(Y, i) for i in range(classes.shape[0])]\n",
    "\n",
    "    #cls_n_ex = np.array([np.sum(aux) for aux in cls_index])\n",
    "    cls_n_ex = list(class_freqs)\n",
    "    ovo_comb = list(itertools.combinations(range(classes.shape[0]), 2))\n",
    "    prepcomp_vals[\"ovo_comb\"] = ovo_comb\n",
    "    prepcomp_vals[\"cls_index\"] = cls_index\n",
    "    prepcomp_vals[\"cls_n_ex\"] = cls_n_ex\n",
    "    return prepcomp_vals"
   ]
  },
  {
   "cell_type": "code",
   "execution_count": 7,
   "metadata": {},
   "outputs": [],
   "source": [
    "# iris dataset precompute\n",
    "precomp_fx_iris = precompute_fx(X_iris, Y_iris)\n",
    "cls_index_iris = precomp_fx_iris['cls_index'] #true-false\n",
    "cls_n_ex_iris = precomp_fx_iris['cls_n_ex']   # number of elements in each class\n",
    "ovo_comb_iris = precomp_fx_iris['ovo_comb']   # pairs\n",
    "\n",
    "# wine dataset precompute\n",
    "precomp_fx_wine = precompute_fx(X_wine, Y_wine)\n",
    "cls_index_wine = precomp_fx_wine['cls_index'] #true-false\n",
    "cls_n_ex_wine = precomp_fx_wine['cls_n_ex']   # number of elements in each class\n",
    "ovo_comb_wine = precomp_fx_wine['ovo_comb']   # pairs\n",
    "\n",
    "# wine(balanced) dataset precompute\n",
    "precomp_fx_wine_bal = precompute_fx(X_wine_bal, Y_wine_bal)\n",
    "cls_index_wine_bal = precomp_fx_wine_bal['cls_index'] #true-false\n",
    "cls_n_ex_wine_bal = precomp_fx_wine_bal['cls_n_ex']   # number of elements in each class\n",
    "ovo_comb_wine_bal = precomp_fx_wine_bal['ovo_comb']   # pairs"
   ]
  },
  {
   "cell_type": "markdown",
   "metadata": {},
   "source": [
    "## 2.1 Feature-based Measures"
   ]
  },
  {
   "cell_type": "markdown",
   "metadata": {},
   "source": [
    "### 2.1.1 Maximum Fisher’s Discriminant Ratio (F1)"
   ]
  },
  {
   "cell_type": "code",
   "execution_count": 19,
   "metadata": {},
   "outputs": [],
   "source": [
    "def numerator (X: np.ndarray, cls_index: np.ndarray, cls_n_ex: np.ndarray, f: int) -> float:\n",
    "    summation = 0\n",
    "    for j in range(len(cls_n_ex)):\n",
    "        for k in range(len(cls_n_ex)): \n",
    "            summation += cls_n_ex[j]/sum(cls_n_ex) * cls_n_ex[k]/sum(cls_n_ex) * np.power((np.mean(X[cls_index[j], f])- np.mean(X[cls_index[k], f])), 2)\n",
    "    return summation\n",
    "# according to aquation(2)"
   ]
  },
  {
   "cell_type": "code",
   "execution_count": 20,
   "metadata": {},
   "outputs": [],
   "source": [
    "def denominator (X: np.ndarray, cls_index: np.ndarray, cls_n_ex: np.ndarray, f: int) -> float:\n",
    "    summation = 0\n",
    "    for j in range(len(cls_n_ex)):\n",
    "        summation += cls_n_ex[j]/sum(cls_n_ex) * np.power(np.std(X[cls_index[j], f]), 2)\n",
    "    return summation\n",
    "# according to aquation(2)"
   ]
  },
  {
   "cell_type": "code",
   "execution_count": 21,
   "metadata": {},
   "outputs": [],
   "source": [
    "def compute_rfi (X: np.ndarray, cls_index, cls_n_ex) -> float:\n",
    "    return [numerator (X, cls_index, cls_n_ex, i)/denominator(X, cls_index, cls_n_ex, i) for i in range(np.shape(X)[1])]"
   ]
  },
  {
   "cell_type": "code",
   "execution_count": 10,
   "metadata": {},
   "outputs": [],
   "source": [
    "def ft_F1(X: np.ndarray, cls_index: np.ndarray, cls_n_ex: np.ndarray) -> float:\n",
    "    return 1/(1 + np.max(compute_rfi (X, cls_index, cls_n_ex)))"
   ]
  },
  {
   "cell_type": "code",
   "execution_count": 11,
   "metadata": {},
   "outputs": [
    {
     "name": "stdout",
     "output_type": "stream",
     "text": [
      "iris dataset F1 score:  0.030199410224796608\n",
      "wine dataset F1 score:  0.24464900311262436\n"
     ]
    }
   ],
   "source": [
    "print(\"iris dataset F1 score: \", str(ft_F1(X_iris, cls_index_iris, cls_n_ex_iris)))\n",
    "print(\"wine dataset F1 score: \", str(ft_F1(X_wine, cls_index_wine, cls_n_ex_wine)))"
   ]
  },
  {
   "cell_type": "code",
   "execution_count": 12,
   "metadata": {},
   "outputs": [],
   "source": [
    "def numerator (X: np.ndarray, cls_index, cls_n_ex, i) -> float:\n",
    "    return np.sum([cls_n_ex[j]*np.power((np.mean(X[cls_index[j], i])-np.mean(X[:, i], axis=0)),2) for j in range (len(cls_index))])\n",
    "# according to aquation(3)"
   ]
  },
  {
   "cell_type": "code",
   "execution_count": 13,
   "metadata": {},
   "outputs": [],
   "source": [
    "def denominator (X: np.ndarray, cls_index, cls_n_ex, i) -> float:\n",
    "    return np.sum([np.sum(np.power(X[cls_index[j], i]-np.mean(X[cls_index[j], i], axis=0), 2)) for j in range(0, len(cls_n_ex))])\n",
    "# according to aquation(3)"
   ]
  },
  {
   "cell_type": "code",
   "execution_count": 14,
   "metadata": {},
   "outputs": [],
   "source": [
    "def compute_rfi (X: np.ndarray, cls_index, cls_n_ex) -> float:\n",
    "    return [numerator (X, cls_index, cls_n_ex, i)/denominator(X, cls_index, cls_n_ex, i) for i in range(np.shape(X)[1])]"
   ]
  },
  {
   "cell_type": "code",
   "execution_count": 15,
   "metadata": {},
   "outputs": [],
   "source": [
    "def ft_F1(X: np.ndarray, cls_index: np.ndarray, cls_n_ex: np.ndarray) -> float:\n",
    "    return 1/(1 + np.max(compute_rfi (X, cls_index, cls_n_ex)))"
   ]
  },
  {
   "cell_type": "code",
   "execution_count": 16,
   "metadata": {},
   "outputs": [
    {
     "name": "stdout",
     "output_type": "stream",
     "text": [
      "iris dataset F1 score:  0.05862828094263205\n",
      "wine dataset F1 score:  0.39312127756629367\n"
     ]
    }
   ],
   "source": [
    "print(\"iris dataset F1 score: \", str(ft_F1(X_iris, cls_index_iris, cls_n_ex_iris)))\n",
    "print(\"wine dataset F1 score: \", str(ft_F1(X_wine, cls_index_wine, cls_n_ex_wine)))"
   ]
  },
  {
   "cell_type": "markdown",
   "metadata": {},
   "source": [
    "### 2.1.2 The Directional-vector MaximumFisher's Discreminant Ratio (F1v)"
   ]
  },
  {
   "cell_type": "code",
   "execution_count": 181,
   "metadata": {},
   "outputs": [],
   "source": [
    "def dVector(X: np.ndarray, y_class1: np.ndarray, y_class2: np.ndarray) -> float:\n",
    "    X_class1 = X[y_class1]; u_class1 = np.mean(X_class1, axis= 0)\n",
    "    X_class2 = X[y_class2]; u_class2 = np.mean(X_class2, axis= 0)\n",
    "    W = ((np.shape(X_class1)[0]/ (np.shape(X_class1)[0] + np.shape(X_class2)[0]))* np.cov(X_class1.T)) \\\n",
    "     + (np.shape(X_class2)[0]/(np.shape(X_class1)[0] + (np.shape(X_class2)[0])) * np.cov(X_class2.T))\n",
    "    d = np.dot(np.linalg.inv(W), (u_class1 - u_class2))\n",
    "    B = np.dot((u_class1 - u_class2)[np.newaxis].T,(u_class1 - u_class2).reshape(1,(u_class1 - u_class2).shape[0]))\n",
    "    dv = np.dot(np.dot(d.T, B), d)/ np.dot(np.dot(d.T, W), d)\n",
    "    return dv"
   ]
  },
  {
   "cell_type": "code",
   "execution_count": 182,
   "metadata": {},
   "outputs": [],
   "source": [
    "def ft_F1v(X: np.ndarray, ovo_comb: np.ndarray, cls_index: np.ndarray) ->float:\n",
    "    df_list = []\n",
    "    \n",
    "    for idx1, idx2 in ovo_comb:\n",
    "        y_class1 = cls_index[idx1]\n",
    "        y_class2 = cls_index[idx2]\n",
    "        dF = dVector(X, y_class1, y_class2)\n",
    "        df_list.append(dF)\n",
    "    aux = np.mean(df_list)\n",
    "    f1v = 1/(1+aux)\n",
    "    return f1v"
   ]
  },
  {
   "cell_type": "code",
   "execution_count": 183,
   "metadata": {},
   "outputs": [
    {
     "name": "stdout",
     "output_type": "stream",
     "text": [
      "iris dataset F1v score:  0.00950456052931095\n",
      "wine dataset F1v score:  0.0977672280750478\n"
     ]
    }
   ],
   "source": [
    "print(\"iris dataset F1v score: \", str(ft_F1v(X_iris, ovo_comb_iris, cls_index_iris)))\n",
    "print(\"wine dataset F1v score: \", str(ft_F1v(X_wine, ovo_comb_wine, cls_index_wine)))"
   ]
  },
  {
   "cell_type": "markdown",
   "metadata": {},
   "source": [
    "### 2.1.3 Volume of Overlapping Region (F2)¶"
   ]
  },
  {
   "cell_type": "code",
   "execution_count": 149,
   "metadata": {},
   "outputs": [
    {
     "data": {
      "text/plain": [
       "array([[ 1,  2,  3,  4],\n",
       "       [ 2,  4,  6,  8],\n",
       "       [ 3,  6,  9, 12],\n",
       "       [ 4,  8, 12, 16]])"
      ]
     },
     "execution_count": 149,
     "metadata": {},
     "output_type": "execute_result"
    }
   ],
   "source": [
    "b = [[1],[2],[3],[4]]\n",
    "b = np.asarray(b)\n",
    "np.dot(b, b.T)"
   ]
  },
  {
   "cell_type": "code",
   "execution_count": 157,
   "metadata": {},
   "outputs": [
    {
     "data": {
      "text/plain": [
       "(4, 1)"
      ]
     },
     "execution_count": 157,
     "metadata": {},
     "output_type": "execute_result"
    }
   ],
   "source": [
    "c = np.asarray([1, 2, 3, 4])[np.newaxis]\n",
    "c.T.shape"
   ]
  },
  {
   "cell_type": "code",
   "execution_count": 160,
   "metadata": {},
   "outputs": [
    {
     "data": {
      "text/plain": [
       "(1, 4)"
      ]
     },
     "execution_count": 160,
     "metadata": {},
     "output_type": "execute_result"
    }
   ],
   "source": [
    "d = np.asarray([1, 2, 3, 4]).reshape(1,4)\n",
    "d.shape"
   ]
  },
  {
   "cell_type": "code",
   "execution_count": 20,
   "metadata": {},
   "outputs": [],
   "source": [
    "def _minmax(X: np.ndarray, class1: np.ndarray, class2: np.ndarray) -> np.ndarray:\n",
    "    \"\"\" This function computes the minimum of the maximum values per class\n",
    "    for all features.\n",
    "    \"\"\"\n",
    "    max_cls = np.zeros((2, X.shape[1]))\n",
    "    max_cls[0, :] = np.max(X[class1], axis=0)\n",
    "    max_cls[1, :] = np.max(X[class2], axis=0)\n",
    "    aux = np.min(max_cls, axis=0)\n",
    "    \n",
    "    return aux"
   ]
  },
  {
   "cell_type": "code",
   "execution_count": 21,
   "metadata": {},
   "outputs": [],
   "source": [
    "def _minmin(X: np.ndarray, class1: np.ndarray, class2: np.ndarray) -> np.ndarray:\n",
    "    \"\"\" This function computes the minimum of the minimum values per class\n",
    "    for all features.\n",
    "    \"\"\"\n",
    "    min_cls = np.zeros((2, X.shape[1]))\n",
    "    min_cls[0, :] = np.min(X[class1], axis=0)\n",
    "    min_cls[1, :] = np.min(X[class2], axis=0)\n",
    "    aux = np.min(min_cls, axis=0)\n",
    "    \n",
    "    return aux"
   ]
  },
  {
   "cell_type": "code",
   "execution_count": 22,
   "metadata": {},
   "outputs": [],
   "source": [
    "def _maxmin(X: np.ndarray, class1: np.ndarray, class2: np.ndarray) -> np.ndarray:\n",
    "    \"\"\" This function computes the maximum of the minimum values per class\n",
    "    for all features.\n",
    "    \"\"\"\n",
    "    min_cls = np.zeros((2, X.shape[1]))\n",
    "    min_cls[0, :] = np.min(X[class1], axis=0)\n",
    "    min_cls[1, :] = np.min(X[class2], axis=0)\n",
    "    aux = np.max(min_cls, axis=0)\n",
    "    \n",
    "    return aux"
   ]
  },
  {
   "cell_type": "code",
   "execution_count": 23,
   "metadata": {},
   "outputs": [],
   "source": [
    "def _maxmax(X: np.ndarray, class1: np.ndarray, class2: np.ndarray) -> np.ndarray:\n",
    "    \"\"\" This function computes the maximum of the maximum values per class\n",
    "    for all features. \n",
    "    \"\"\"\n",
    "    max_cls = np.zeros((2, X.shape[1]))\n",
    "    max_cls[0, :] = np.max(X[class1], axis=0)\n",
    "    max_cls[1, :] = np.max(X[class2], axis=0)\n",
    "    aux = np.max(max_cls, axis=0)\n",
    "    return aux"
   ]
  },
  {
   "cell_type": "code",
   "execution_count": 24,
   "metadata": {},
   "outputs": [],
   "source": [
    "def ft_F2(X: np.ndarray, ovo_comb: np.ndarray, cls_index: np.ndarray) -> float:\n",
    "    f2_list = []\n",
    "    \n",
    "    for idx1, idx2 in ovo_comb:\n",
    "        y_class1 = cls_index[idx1]\n",
    "        y_class2 = cls_index[idx2]\n",
    "        zero_ = np.zeros(np.shape(X)[1])\n",
    "        overlap_ = np.maximum(zero_, _minmax(X, y_class1, y_class2)-_maxmin(X, y_class1, y_class2))\n",
    "        range_ = _maxmax(X, y_class1, y_class2)-_minmin(X, y_class1, y_class2)\n",
    "        ratio = overlap_/range_\n",
    "        f2_list.append(np.prod(ratio))\n",
    "        \n",
    "    return np.mean(f2_list)"
   ]
  },
  {
   "cell_type": "code",
   "execution_count": 25,
   "metadata": {},
   "outputs": [
    {
     "name": "stdout",
     "output_type": "stream",
     "text": [
      "iris dataset F2 score:  0.0063817663817663794\n",
      "wine dataset F2 score:  0.0853552067458055\n"
     ]
    }
   ],
   "source": [
    "print(\"iris dataset F2 score: \", str(ft_F2(X_iris, ovo_comb_iris, cls_index_iris)))\n",
    "print(\"wine dataset F2 score: \", str(ft_F2(X_wine, ovo_comb_wine, cls_index_wine)))"
   ]
  },
  {
   "cell_type": "markdown",
   "metadata": {},
   "source": [
    "### 2.1.4 Maximum Individual Feature Efficiency (F3)"
   ]
  },
  {
   "cell_type": "code",
   "execution_count": 26,
   "metadata": {},
   "outputs": [],
   "source": [
    "def _compute_f3(X_: np.ndarray, minmax_: np.ndarray, maxmin_: np.ndarray) -> np.ndarray:\n",
    "    \"\"\" This function computes the F3 complexity measure given minmax and maxmin.\"\"\"\n",
    "\n",
    "    overlapped_region_by_feature = np.logical_and(X_ >= maxmin_, X_ <= minmax_)\n",
    "\n",
    "    n_fi = np.sum(overlapped_region_by_feature, axis=0)\n",
    "    idx_min = np.argmin(n_fi)\n",
    "\n",
    "    return idx_min, n_fi, overlapped_region_by_feature"
   ]
  },
  {
   "cell_type": "code",
   "execution_count": 27,
   "metadata": {},
   "outputs": [],
   "source": [
    "def ft_F3(X: np.ndarray, ovo_comb: np.ndarray, cls_index: np.ndarray, cls_n_ex: np.ndarray) -> np.ndarray:\n",
    "    \n",
    "    f3 = []\n",
    "    for idx1, idx2 in ovo_comb:\n",
    "        idx_min, n_fi, _ = _compute_f3(X, _minmax(X, cls_index[idx1], cls_index[idx2]),\n",
    "        _maxmin(X, cls_index[idx1], cls_index[idx2]))\n",
    "    f3.append(n_fi[idx_min] / (cls_n_ex[idx1] + cls_n_ex[idx2]))\n",
    "\n",
    "    return np.mean(f3)/len(cls_index)"
   ]
  },
  {
   "cell_type": "code",
   "execution_count": 28,
   "metadata": {},
   "outputs": [
    {
     "name": "stdout",
     "output_type": "stream",
     "text": [
      "iris dataset F3 score:  0.12333333333333334\n",
      "wine dataset F3 score:  0.3361344537815126\n"
     ]
    }
   ],
   "source": [
    "print(\"iris dataset F3 score: \", str(ft_F3(X_iris, ovo_comb_iris, cls_index_iris, cls_n_ex_iris)))\n",
    "print(\"wine dataset F3 score: \", str(ft_F3(X_wine, ovo_comb_wine, cls_index_wine, cls_n_ex_wine)))"
   ]
  },
  {
   "cell_type": "code",
   "execution_count": 98,
   "metadata": {},
   "outputs": [],
   "source": [
    "def ft_F3(X: np.ndarray, cls_index: np.ndarray, cls_n_ex: np.ndarray) -> np.ndarray:\n",
    "    \n",
    "    mima = np.zeros((X.shape[1]))\n",
    "    mami = np.zeros((X.shape[1]))\n",
    "    for i in range(X.shape[1]):\n",
    "        maxx = []\n",
    "        minn = []\n",
    "        for j in range(len(cls_n_ex)):\n",
    "            maxx.append(max(X[cls_index[j]][:,i]))\n",
    "            minn.append(min(X[cls_index[j]][:,i]))\n",
    "        mima[i] = min(maxx)\n",
    "        mami[i] = max(minn)\n",
    "#     print(mima, mami)\n",
    "    count = np.zeros((X.shape[1]))\n",
    "    for i in range(X.shape[1]):\n",
    "        for j in range(X.shape[0]):\n",
    "            \n",
    "              if X[j, i] > mami[i]:\n",
    "                    if X[j, i] < mima[i]:\n",
    "                          count[i] = count[i] + 1\n",
    "    return min(count)/X.shape[0]"
   ]
  },
  {
   "cell_type": "code",
   "execution_count": 99,
   "metadata": {},
   "outputs": [
    {
     "name": "stdout",
     "output_type": "stream",
     "text": [
      "iris dataset F3 score:  0.0\n",
      "wine dataset F3 score:  0.39325842696629215\n"
     ]
    }
   ],
   "source": [
    "print(\"iris dataset F3 score: \", str(ft_F3(X_iris, cls_index_iris, cls_n_ex_iris)))\n",
    "print(\"wine dataset F3 score: \", str(ft_F3(X_wine, cls_index_wine, cls_n_ex_wine)))"
   ]
  },
  {
   "cell_type": "markdown",
   "metadata": {},
   "source": [
    "### 2.1.5 Colective Feature Efficiency (F4)"
   ]
  },
  {
   "cell_type": "code",
   "execution_count": 30,
   "metadata": {},
   "outputs": [],
   "source": [
    "def ft_F4(X: np.ndarray, ovo_comb: np.ndarray, cls_index: np.ndarray, cls_n_ex: np.ndarray) -> np.ndarray:\n",
    "\n",
    "    f4 = []\n",
    "    for idx1, idx2 in ovo_comb:\n",
    "        aux = 0\n",
    "\n",
    "        y_class1 = cls_index[idx1]\n",
    "        y_class2 = cls_index[idx2]\n",
    "        sub_set = np.logical_or(y_class1, y_class2)\n",
    "        y_class1 = y_class1[sub_set]\n",
    "        y_class2 = y_class2[sub_set]\n",
    "        X_ = X[sub_set, :]\n",
    "        # X_ = X[np.logical_or(y_class1, y_class2),:]\n",
    "    \n",
    "        while X_.shape[1] > 0 and X_.shape[0] > 0:\n",
    "            # True if the example is in the overlapping region\n",
    "            idx_min, _, overlapped_region_by_feature = _compute_f3(X_,_minmax(X_, y_class1, y_class2),_maxmin(X_, y_class1, y_class2))\n",
    "\n",
    "            # boolean that if True, this example is in the overlapping region\n",
    "            overlapped_region = overlapped_region_by_feature[:, idx_min]\n",
    "\n",
    "            # removing the non overlapped features\n",
    "            X_ = X_[overlapped_region, :]\n",
    "            y_class1 = y_class1[overlapped_region]\n",
    "            y_class2 = y_class2[overlapped_region]\n",
    "\n",
    "            if X_.shape[0] > 0:\n",
    "                aux = X_.shape[0]\n",
    "            else:\n",
    "                aux = 0\n",
    "            # removing the most efficient feature\n",
    "            X_ = np.delete(X_, idx_min, axis=1)\n",
    "\n",
    "        f4.append(aux/(cls_n_ex[idx1] + cls_n_ex[idx2]))\n",
    "        \n",
    "    return np.mean(f4)"
   ]
  },
  {
   "cell_type": "code",
   "execution_count": 31,
   "metadata": {},
   "outputs": [
    {
     "name": "stdout",
     "output_type": "stream",
     "text": [
      "iris dataset F4 score:  0.043333333333333335\n",
      "wine dataset F4 score:  0.2864472891960523\n"
     ]
    }
   ],
   "source": [
    "print(\"iris dataset F4 score: \", str(ft_F4(X_iris, ovo_comb_iris, cls_index_iris, cls_n_ex_iris)))\n",
    "print(\"wine dataset F4 score: \", str(ft_F4(X_wine, ovo_comb_wine, cls_index_wine, cls_n_ex_wine)))"
   ]
  },
  {
   "cell_type": "markdown",
   "metadata": {},
   "source": [
    "## 2.2 Measures of Linearity"
   ]
  },
  {
   "cell_type": "markdown",
   "metadata": {},
   "source": [
    "### 2.2.1 Sum of the Error Distance by Linear Programming (L1)"
   ]
  },
  {
   "cell_type": "code",
   "execution_count": 57,
   "metadata": {},
   "outputs": [],
   "source": [
    "def ft_R1(model, X: np.ndarray, Y: np.ndarray) -> float:\n",
    "    y = model.decision_function(X)\n",
    "    w_norm = np.linalg.norm(model.coef_)\n",
    "    dist = y / w_norm\n",
    "    Y_predicted = model.predict(X)\n",
    "    distance = 0\n",
    "    for i in range(Y.shape[0]):\n",
    "        \n",
    "        if(Y_predicted[i] != Y[i]):\n",
    "           distance += abs(dist[i, Y[i]])\n",
    "           print(i,Y_predicted[i], Y[i], dist[i,:])\n",
    "    SumErrorDist = distance/(Y.shape[0])\n",
    "#             distance += dist[i, 0] + dist[i, 1] + dist[i, 2]\n",
    "#     SumErrorDist = distance/(Y.shape[0]*3)\n",
    "    \n",
    "    L1 = SumErrorDist/(SumErrorDist + 1)\n",
    "    \n",
    "    return L1"
   ]
  },
  {
   "cell_type": "code",
   "execution_count": 59,
   "metadata": {},
   "outputs": [
    {
     "name": "stdout",
     "output_type": "stream",
     "text": [
      "83 2 1 [-0.08106626  0.36886405  0.65771206]\n",
      "iris dataset L1 score:  0.002453061390608475\n"
     ]
    }
   ],
   "source": [
    "model_iris = SVC(kernel = 'linear')\n",
    "model_iris.fit(X_iris, Y_iris)\n",
    "print(\"iris dataset L1 score: \", str(ft_R1(model_iris, X_iris, Y_iris)))\n",
    "# print(\"wine dataset L1 score: \", str(ft_R1(model_wine, X_wine, Y_wine)))"
   ]
  },
  {
   "cell_type": "markdown",
   "metadata": {},
   "source": [
    "### 2.2.2 Error Rate of Linear Classifier (L2)"
   ]
  },
  {
   "cell_type": "code",
   "execution_count": 57,
   "metadata": {},
   "outputs": [],
   "source": [
    "def ft_R2(model, X: np.ndarray, Y: np.ndarray) -> float:\n",
    "    Y_predicted = model.predict(X)\n",
    "    counter = 0\n",
    "    for i in range(Y.shape[0]):\n",
    "        if(Y_predicted[i] != Y[i]):\n",
    "            counter += 1\n",
    "    L2 = counter / Y.shape[0]\n",
    "    return L2"
   ]
  },
  {
   "cell_type": "code",
   "execution_count": 58,
   "metadata": {},
   "outputs": [
    {
     "name": "stdout",
     "output_type": "stream",
     "text": [
      "iris dataset L2 score:  0.006666666666666667\n",
      "wine dataset L2 score:  0.14606741573033707\n"
     ]
    }
   ],
   "source": [
    "print(\"iris dataset L2 score: \", str(ft_R2(model_iris, X_iris, Y_iris)))\n",
    "print(\"wine dataset L2 score: \", str(ft_R2(model_wine, X_wine, Y_wine)))"
   ]
  },
  {
   "cell_type": "markdown",
   "metadata": {},
   "source": [
    "### 2.2.3 Non-Linearity of a Linear Classifier (L3)"
   ]
  },
  {
   "cell_type": "code",
   "execution_count": 59,
   "metadata": {},
   "outputs": [],
   "source": [
    "def ft_R3(model, X: np.ndarray, cls_index: np.ndarray, cls_n_ex: np.ndarray) -> float:\n",
    "    temp_x = []\n",
    "    temp_y = []\n",
    "    for i in range(len(cls_n_ex)):\n",
    "        for j in range(cls_n_ex[i]):\n",
    "            index = np.random.choice(cls_n_ex[i], 2, replace=False)\n",
    "            points = X[cls_index[i]][index]\n",
    "            rand = random.uniform(0, 1)\n",
    "            temp_x.append(((points[1] - points[0])*rand) + points[0])\n",
    "            temp_y.append(i)\n",
    "\n",
    "    temp_x = np.asarray(temp_x)\n",
    "    temp_y = np.asarray(temp_y)\n",
    "    R3 = ft_R2(model, temp_x, temp_y) \n",
    "    return R3"
   ]
  },
  {
   "cell_type": "code",
   "execution_count": 78,
   "metadata": {},
   "outputs": [
    {
     "name": "stdout",
     "output_type": "stream",
     "text": [
      "wine dataset L3 score:  0.006666666666666667\n",
      "iris dataset L3 score:  0.09550561797752809\n"
     ]
    }
   ],
   "source": [
    "print(\"wine dataset L3 score: \", str(ft_R3(model_iris, X_iris, cls_index_iris, cls_n_ex_iris)))\n",
    "print(\"iris dataset L3 score: \", str(ft_R3(model_wine, X_wine, cls_index_wine, cls_n_ex_wine)))"
   ]
  },
  {
   "cell_type": "markdown",
   "metadata": {},
   "source": [
    "## 2.3 Neighborhood Measures"
   ]
  },
  {
   "cell_type": "markdown",
   "metadata": {},
   "source": [
    "### 2.3.1 Fraction of Borderline Points (N1)"
   ]
  },
  {
   "cell_type": "code",
   "execution_count": 42,
   "metadata": {},
   "outputs": [],
   "source": [
    "def ft_N1(X: np.ndarray, y: np.ndarray, metric: str = \"euclidean\") -> np.ndarray:\n",
    "    scaler = MinMaxScaler(feature_range=(0, 1)).fit(X)\n",
    "    X_ = scaler.transform(X)\n",
    "    dist_m = gower.gower_matrix(X)\n",
    "    mst = minimum_spanning_tree(dist_m)\n",
    "    node_i, node_j = np.where(mst.toarray() > 0)\n",
    "    which_have_diff_cls = y[node_i] != y[node_j]\n",
    "    aux = np.unique(np.concatenate([node_i[which_have_diff_cls],node_j[which_have_diff_cls]])).shape[0]\n",
    "    return aux/X.shape[0]"
   ]
  },
  {
   "cell_type": "code",
   "execution_count": 43,
   "metadata": {
    "scrolled": true
   },
   "outputs": [
    {
     "name": "stdout",
     "output_type": "stream",
     "text": [
      "iris dataset N1 score:  0.10666666666666667\n",
      "wine dataset N1 score:  0.3146067415730337\n"
     ]
    }
   ],
   "source": [
    "print(\"iris dataset N1 score: \", str(ft_N1(X_iris, Y_iris)))\n",
    "print(\"wine dataset N1 score: \", str(ft_N1(X_wine, Y_wine)))"
   ]
  },
  {
   "cell_type": "markdown",
   "metadata": {},
   "source": [
    "### 2.3.2 Ratio of Intra/Extra Class Nearest Neighbor Distance (N2)"
   ]
  },
  {
   "cell_type": "code",
   "execution_count": 8,
   "metadata": {},
   "outputs": [],
   "source": [
    "def inter(X, Y, dst, i):\n",
    "    precomp = precompute_fx(X, Y)\n",
    "    cls_index_ = precomp['cls_index']\n",
    "    np.logical_not(cls_index_[Y[i]])\n",
    "    return min(dst[i, np.logical_not(cls_index_[Y[i]])])"
   ]
  },
  {
   "cell_type": "code",
   "execution_count": 9,
   "metadata": {},
   "outputs": [],
   "source": [
    "def intra(X, Y, dst, i):\n",
    "    precomp = precompute_fx(X, Y)\n",
    "    cls_index_ = precomp['cls_index']\n",
    "    cls_index_[Y[i]][i] = False\n",
    "    return min(dst[i,cls_index_[Y[i]]])"
   ]
  },
  {
   "cell_type": "code",
   "execution_count": 204,
   "metadata": {},
   "outputs": [],
   "source": [
    "def ft_N2 (X: np.ndarray, Y: np.ndarray) -> float:\n",
    "    inter_ = np.zeros(X.shape[0])\n",
    "    intra_ = np.zeros(X.shape[0])\n",
    "    dst = gower.gower_matrix(X)\n",
    "    for i in range(X.shape[0]):\n",
    "        inter_[i] = inter(X, Y, dst, i)\n",
    "        intra_[i] = intra(X, Y, dst, i)\n",
    "    intra_inter = intra_.sum()/inter_.sum()\n",
    "    return intra_inter/(1+intra_inter)"
   ]
  },
  {
   "cell_type": "code",
   "execution_count": 205,
   "metadata": {},
   "outputs": [
    {
     "name": "stdout",
     "output_type": "stream",
     "text": [
      "iris dataset N2 score:  0.1579103939429765\n",
      "wine dataset N2 score:  0.3748779579263009\n"
     ]
    }
   ],
   "source": [
    "print(\"iris dataset N2 score: \", str(ft_N2(X_iris, Y_iris)))\n",
    "print(\"wine dataset N2 score: \", str(ft_N2(X_wine, Y_wine)))"
   ]
  },
  {
   "cell_type": "markdown",
   "metadata": {},
   "source": [
    "### 2.3.3 Error Rate of the Nearest Neighbor Classifier (N3)"
   ]
  },
  {
   "cell_type": "code",
   "execution_count": 24,
   "metadata": {},
   "outputs": [],
   "source": [
    "def ft_N3 (X: np.ndarray, Y: np.ndarray, metric: str = \"euclidean\") -> float:\n",
    "    \n",
    "    dst = np.asarray(gower.gower_matrix(X))\n",
    "    loo = LeaveOneOut()\n",
    "    loo.get_n_splits(X, Y)\n",
    "\n",
    "    y_test_ = []\n",
    "    pred_y_ = []\n",
    "    for train_index, test_index in loo.split(X):\n",
    "        dst[test_index, test_index] = 100\n",
    "        fnn_index = np.argmin(dst[test_index])\n",
    "        y_test_.append(Y[test_index])\n",
    "        pred_y_.append(Y[fnn_index])\n",
    "   \n",
    "    error = 1 - accuracy_score(y_test_, pred_y_)\n",
    "    return error\n"
   ]
  },
  {
   "cell_type": "code",
   "execution_count": 25,
   "metadata": {},
   "outputs": [
    {
     "name": "stdout",
     "output_type": "stream",
     "text": [
      "iris dataset N3 score:  0.06000000000000005\n",
      "wine dataset N3 score:  0.2078651685393258\n"
     ]
    }
   ],
   "source": [
    "print(\"iris dataset N3 score: \", str(ft_N3(X_iris, Y_iris)))\n",
    "print(\"wine dataset N3 score: \", str(ft_N3(X_wine, Y_wine)))"
   ]
  },
  {
   "cell_type": "markdown",
   "metadata": {},
   "source": [
    "### 2.3.4 Non-Linearity of the Nearest Neighbor Classifier (N4)"
   ]
  },
  {
   "cell_type": "code",
   "execution_count": 34,
   "metadata": {},
   "outputs": [],
   "source": [
    "def ft_N4(X: np.ndarray, y: np.ndarray, cls_index: np.ndarray, \n",
    "          metric: str = \"euclidean\", p=2, n_neighbors=1) -> np.ndarray:\n",
    "    interp_X = []\n",
    "    interp_y = []\n",
    "\n",
    "    scaler = MinMaxScaler(feature_range=(0, 1)).fit(X)\n",
    "    X = scaler.transform(X)\n",
    "    \n",
    "    for idx in cls_index:\n",
    "        X_ = X[idx]\n",
    "        A = np.random.choice(X_.shape[0], X_.shape[0])\n",
    "        A = X_[A]\n",
    "        B = np.random.choice(X_.shape[0], X_.shape[0])\n",
    "        B = X_[B]\n",
    "        delta = np.random.ranf(X_.shape)\n",
    "        interp_X_ = A + ((B - A) * delta)\n",
    "        interp_y_ = y[idx]\n",
    "        interp_X.append(interp_X_)\n",
    "        interp_y.append(interp_y_)\n",
    "    \n",
    "    # join the datasets\n",
    "    X_test = np.concatenate(interp_X)\n",
    "    y_test = np.concatenate(interp_y)\n",
    "    \n",
    "    dst = np.asarray(gower.gower_matrix(X, X_test))\n",
    "    y_test_ = []\n",
    "    pred_y_ = []\n",
    "    for test_index in range(X_test.shape[0]):\n",
    "        fnn_index = np.argmin(dst[test_index])\n",
    "        y_test_.append(y_test[test_index])\n",
    "        pred_y_.append(y[fnn_index])\n",
    "    \n",
    "    error = 1 - accuracy_score(y_test_, pred_y_)\n",
    "    return error"
   ]
  },
  {
   "cell_type": "code",
   "execution_count": 41,
   "metadata": {},
   "outputs": [
    {
     "name": "stdout",
     "output_type": "stream",
     "text": [
      "iris dataset N4 score:  0.013333333333333308\n",
      "wine dataset N4 score:  0.1123595505617978\n"
     ]
    }
   ],
   "source": [
    "print(\"iris dataset N4 score: \", str(ft_N4(X_iris, Y_iris, cls_index_iris)))\n",
    "print(\"wine dataset N4 score: \", str(ft_N4(X_wine, Y_wine, cls_index_wine)))"
   ]
  },
  {
   "cell_type": "markdown",
   "metadata": {},
   "source": [
    "### 2.3.5 Fraction of Hyperspheres Covering Data (T1)"
   ]
  },
  {
   "cell_type": "code",
   "execution_count": 113,
   "metadata": {},
   "outputs": [],
   "source": [
    "def distance_matrix (X: np.ndarray):\n",
    "    scaler = MinMaxScaler(feature_range=(0, 1)).fit(X)\n",
    "    X = scaler.transform(X)\n",
    "    dist = distance.cdist(X, X, 'euclidean')\n",
    "    return dist"
   ]
  },
  {
   "cell_type": "code",
   "execution_count": 114,
   "metadata": {},
   "outputs": [],
   "source": [
    "def radios (D: np.ndarray, y: np.ndarray, X: np.ndarray, \n",
    "                        cls_index:np.ndarray, i: int) -> float:\n",
    "    d_i, x_j = extra_nearest(X, y, cls_index, i)\n",
    "    d_j, x_k = extra_nearest(X, y, cls_index, x_j[0])\n",
    "    if (i == x_k[0]):\n",
    "        return d_i/2\n",
    "    else :\n",
    "        d_t = radios (D, y, X, cls_index, x_j[0]) \n",
    "        var = d_i - d_t\n",
    "        return d_i - d_t"
   ]
  },
  {
   "cell_type": "code",
   "execution_count": 115,
   "metadata": {},
   "outputs": [],
   "source": [
    "def hyperspher (D: np.ndarray, y: np.ndarray, X: np.ndarray, cls_index:np.ndarray) -> np.ndarray:\n",
    "    aux = [radios(D, y, X, cls_index, i) for i in range(X.shape[0])]\n",
    "    return aux"
   ]
  },
  {
   "cell_type": "code",
   "execution_count": 116,
   "metadata": {},
   "outputs": [],
   "source": [
    "def ft_T1(X: np.ndarray, Y: np.ndarray, cls_index: np.ndarray, eps: float) -> float:\n",
    "    D = distance_matrix(X)\n",
    "    hyper_list = hyperspher(D, Y, X, cls_index)\n",
    "    \n",
    "    for i in range(len(hyper_list)):\n",
    "        flag = True\n",
    "        while flag == True:\n",
    "            r = hyper_list[i] + eps\n",
    "            d, p = extra_nearest(X, Y, cls_index, i)\n",
    "            if d > hyper_list[i] + 2*eps:\n",
    "                hyper_list[i] = hyper_list[i] + eps\n",
    "            else:\n",
    "                flag = False\n",
    "    \n",
    "    checking = np.zeros(len(hyper_list))\n",
    "    for i in range(len(hyper_list)):\n",
    "        for j in range(len(hyper_list)):\n",
    "            if Y[i] == Y[j] and i != j:\n",
    "#                 print(i,j,D[i, j], hyper_list[i], hyper_list[j])\n",
    "                if D[i, j] + hyper_list[i] <= hyper_list[j]:\n",
    "                    checking[i] = 1\n",
    "                    break\n",
    "\n",
    "    counter = 0\n",
    "    backup = hyper_list\n",
    "    remnants = np.zeros(len(hyper_list))\n",
    "    while counter < 150:\n",
    "        if max(backup) == 0:\n",
    "            break\n",
    "        index = hyper_list.index(max(backup))\n",
    "        for i in range(len(hyper_list)):\n",
    "            if D[index, i] <= backup[index] and checking[i] != 1:\n",
    "                counter += 1\n",
    "                checking[i] = 1\n",
    "                remnants[index] = 1\n",
    "            backup[index] = 0\n",
    "    num = remnants.sum()\n",
    "    return num/len(X)"
   ]
  },
  {
   "cell_type": "code",
   "execution_count": 117,
   "metadata": {},
   "outputs": [
    {
     "name": "stdout",
     "output_type": "stream",
     "text": [
      "iris dataset T1 score:  0.98\n",
      "wine dataset T1 score:  0.8370786516853933\n"
     ]
    }
   ],
   "source": [
    "print(\"iris dataset T1 score: \", str(ft_T1(X_iris, Y_iris, cls_index_iris, 0.001)))\n",
    "print(\"wine dataset T1 score: \", str(ft_T1(X_wine, Y_wine, cls_index_wine, 0.001)))"
   ]
  },
  {
   "cell_type": "markdown",
   "metadata": {},
   "source": [
    "### 2.3.6 Local Set Average Cardinality (LSC)"
   ]
  },
  {
   "cell_type": "code",
   "execution_count": 231,
   "metadata": {},
   "outputs": [],
   "source": [
    "def LS_i (X: np.ndarray, y: np.ndarray, i: int):\n",
    "    dst = np.asarray(gower.gower_matrix(X))\n",
    "    dist_enemy = inter(X, y, dst, i)\n",
    "    counter = 0\n",
    "    for index in range(X.shape[0]):\n",
    "        if dst[i][index] < dist_enemy:\n",
    "            counter += 1\n",
    "    return counter"
   ]
  },
  {
   "cell_type": "code",
   "execution_count": 234,
   "metadata": {},
   "outputs": [],
   "source": [
    "def LSC (X: np.ndarray, y: np.ndarray) -> float:\n",
    "    n = np.shape(X)[0]\n",
    "    x = [LS_i(X, y, i) for i in range(n)]\n",
    "#     print(np.sum(x))\n",
    "    return 1 - np.sum(x)/n**2"
   ]
  },
  {
   "cell_type": "code",
   "execution_count": 236,
   "metadata": {},
   "outputs": [
    {
     "name": "stdout",
     "output_type": "stream",
     "text": [
      "iris dataset LSC score:  0.8166222222222222\n",
      "wine dataset LSC score:  0.9433783613180154\n"
     ]
    }
   ],
   "source": [
    "print(\"iris dataset LSC score: \", str(LSC(X_iris, Y_iris)))\n",
    "print(\"wine dataset LSC score: \", str(LSC(X_wine, Y_wine)))"
   ]
  },
  {
   "cell_type": "code",
   "execution_count": 226,
   "metadata": {},
   "outputs": [],
   "source": [
    "dst = np.asarray(gower.gower_matrix(X_iris))\n",
    "\n",
    "r = np.zeros(X_iris.shape[0])\n",
    "c = np.zeros(X_iris.shape[0])\n",
    "\n",
    "for i in range(X_iris.shape[0]):\n",
    "    r[i] = inter(X_iris, Y_iris, dst, i)\n",
    "for i in range(X_iris.shape[0]):\n",
    "    for j in range(X_iris.shape[0]):\n",
    "        if dst[i][j] < r[i]:\n",
    "            c[i] += 1"
   ]
  },
  {
   "cell_type": "code",
   "execution_count": 227,
   "metadata": {},
   "outputs": [
    {
     "data": {
      "text/plain": [
       "(4126.0, 0.8166222222222222)"
      ]
     },
     "execution_count": 227,
     "metadata": {},
     "output_type": "execute_result"
    }
   ],
   "source": [
    "c.sum(), 1 - c.sum()/(150*150)"
   ]
  },
  {
   "cell_type": "markdown",
   "metadata": {},
   "source": [
    "## 2.4 Network measures"
   ]
  },
  {
   "cell_type": "code",
   "execution_count": 90,
   "metadata": {},
   "outputs": [],
   "source": [
    "def produce_adjucent_matrix(X, Y):\n",
    "    F = gower.gower_matrix(X)\n",
    "    G = gower.gower_matrix(X)\n",
    "    connected = np.zeros((F.shape))\n",
    "    for k in range(len(X)):\n",
    "        l = []\n",
    "        G[k].sort()\n",
    "        for i in range(1,int(0.15*X.shape[0])+1):\n",
    "            for j in range(len(X)):\n",
    "                if G[k,i] == F[k,j]:\n",
    "                    try:\n",
    "                        l.index(j)\n",
    "                    except:\n",
    "                        if Y[k] == Y[j]:\n",
    "                            connected[k, j] = 1\n",
    "                            l.append(j)\n",
    "                        break\n",
    "    return connected"
   ]
  },
  {
   "cell_type": "markdown",
   "metadata": {},
   "source": [
    "### 2.4.1 Average density of the network (Density)"
   ]
  },
  {
   "cell_type": "code",
   "execution_count": 93,
   "metadata": {},
   "outputs": [],
   "source": [
    "def ft_Density(X: np.ndarray, Y: np.ndarray) -> float:\n",
    "    connected = produce_adjucent_matrix(X, Y)\n",
    "    return 1-(connected.sum()/(X.shape[0]*(X.shape[0]-1)))"
   ]
  },
  {
   "cell_type": "code",
   "execution_count": 94,
   "metadata": {},
   "outputs": [
    {
     "name": "stdout",
     "output_type": "stream",
     "text": [
      "iris dataset Density score:  0.8659060402684564\n",
      "wine dataset Density score:  0.8936075668126706\n"
     ]
    }
   ],
   "source": [
    "print(\"iris dataset Density score: \", str(ft_Density(X_iris, Y_iris)))\n",
    "print(\"wine dataset Density score: \", str(ft_Density(X_wine, Y_wine)))"
   ]
  },
  {
   "cell_type": "markdown",
   "metadata": {},
   "source": [
    "### 2.4.2 Clustering coefficient (ClsCoef)"
   ]
  },
  {
   "cell_type": "code",
   "execution_count": 123,
   "metadata": {},
   "outputs": [],
   "source": [
    "def ft_ClsCoef(X: np.ndarray, Y: np.ndarray) -> float:\n",
    "    connected = produce_adjucent_matrix(X, Y)\n",
    "#     connected = test(X, Y)\n",
    "    summation = 0\n",
    "    for i in range(connected.shape[0]):\n",
    "        neighbors = []\n",
    "        for k in range(connected[i, :].shape[0]):\n",
    "            if connected[i, k] == 1:\n",
    "                neighbors.append(k)\n",
    "        edge = 0\n",
    "        for m in range(len(neighbors)):\n",
    "            for n in range(m + 1, len(neighbors)):\n",
    "                if connected[m, n] == 1:\n",
    "                    edge = edge + 1\n",
    "        if len(neighbors) > 1:\n",
    "            summation = summation + (2*edge)/(len(neighbors)*(len(neighbors) - 1))\n",
    "    aux = 1 - summation/connected.shape[0]\n",
    "    return aux"
   ]
  },
  {
   "cell_type": "code",
   "execution_count": 124,
   "metadata": {},
   "outputs": [
    {
     "name": "stdout",
     "output_type": "stream",
     "text": [
      "iris dataset ClsCoef score:  0.15443716931284934\n",
      "wine dataset ClsCoef score:  0.4088077102828107\n"
     ]
    }
   ],
   "source": [
    "print(\"iris dataset ClsCoef score: \", str(ft_ClsCoef(X_iris, Y_iris)))\n",
    "print(\"wine dataset ClsCoef score: \", str(ft_ClsCoef(X_wine, Y_wine)))"
   ]
  },
  {
   "cell_type": "markdown",
   "metadata": {},
   "source": [
    "### 2.4.3 Hub score (Hubs)"
   ]
  },
  {
   "cell_type": "code",
   "execution_count": 125,
   "metadata": {},
   "outputs": [],
   "source": [
    "def ft_Hubs2(X: np.ndarray, Y: np.ndarray, k: int) -> float:\n",
    "    connected = produce_adjucent_matrix(X, Y)\n",
    "    hubs = []\n",
    "    for i in range(connected.shape[0]):\n",
    "        hubs.append(sum(connected[i, :]))\n",
    "    hubs = hubs/sum(hubs)\n",
    "    for i in range(k):\n",
    "        for m in range(connected.shape[0]):\n",
    "            summation = 0\n",
    "            for n in range(connected.shape[1]):\n",
    "                if(connected[m, n] == 1):\n",
    "                    summation = summation + hubs[n]\n",
    "            hubs[m] = summation\n",
    "        hubs = hubs/sum(hubs)\n",
    "    return 1-sum(hubs)/len(hubs)"
   ]
  },
  {
   "cell_type": "code",
   "execution_count": 126,
   "metadata": {},
   "outputs": [],
   "source": [
    "def ft_Hubs(X: np.ndarray, Y: np.ndarray, k: int) -> float:\n",
    "    connected = produce_adjucent_matrix(X, Y) \n",
    "#     connected = test(X, Y)\n",
    "    y0 = np.ones(connected.shape[0])\n",
    "    r = np.matmul(connected, y0)\n",
    "    r = r/np.sqrt(np.power(r, 2).sum())\n",
    "    for i in range(k):\n",
    "        r = np.matmul(connected, r)\n",
    "        r = r/np.sqrt(np.power(r, 2).sum())\n",
    "    return 1 - r.mean()"
   ]
  },
  {
   "cell_type": "code",
   "execution_count": 127,
   "metadata": {},
   "outputs": [
    {
     "name": "stdout",
     "output_type": "stream",
     "text": [
      "iris dataset Hub score:  0.937333879580517\n",
      "wine dataset Hub score:  0.9474969504132738\n"
     ]
    }
   ],
   "source": [
    "k = 6\n",
    "print(\"iris dataset Hub score: \", ft_Hubs(X_iris, Y_iris, k))\n",
    "print(\"wine dataset Hub score: \", ft_Hubs(X_wine, Y_wine, k))"
   ]
  },
  {
   "cell_type": "markdown",
   "metadata": {},
   "source": [
    "## 2.5 Dimensionality Measures"
   ]
  },
  {
   "cell_type": "code",
   "execution_count": 128,
   "metadata": {},
   "outputs": [],
   "source": [
    "def precompute_pca_tx(X: np.ndarray) -> t.Dict[str, t.Any]:\n",
    "    prepcomp_vals = {}\n",
    "\n",
    "    scaler = StandardScaler().fit(X)\n",
    "    X = scaler.transform(X)\n",
    "    pca = PCA(n_components=0.95)\n",
    "    pca.fit(X)\n",
    "\n",
    "    m_ = pca.explained_variance_ratio_.shape[0]\n",
    "    m = X.shape[1]\n",
    "    n = X.shape[0]\n",
    "\n",
    "    prepcomp_vals[\"m_\"] = m_\n",
    "    prepcomp_vals[\"m\"] = m\n",
    "    prepcomp_vals[\"n\"] = n\n",
    "\n",
    "    return prepcomp_vals"
   ]
  },
  {
   "cell_type": "code",
   "execution_count": 129,
   "metadata": {},
   "outputs": [],
   "source": [
    "precomp_pca = precompute_pca_tx(X_iris)\n",
    "iris_m = precomp_pca['m']\n",
    "iris_n = precomp_pca['n']\n",
    "iris_m_ = precomp_pca['m_']\n",
    "\n",
    "precomp_pca = precompute_pca_tx(X_wine)\n",
    "wine_m = precomp_pca['m']\n",
    "wine_n = precomp_pca['n']\n",
    "wine_m_ = precomp_pca['m_']"
   ]
  },
  {
   "cell_type": "markdown",
   "metadata": {},
   "source": [
    "### 2.5.1 Average number of features per points (T2)"
   ]
  },
  {
   "cell_type": "code",
   "execution_count": 130,
   "metadata": {},
   "outputs": [],
   "source": [
    "def ft_T2(m: int, n: int) -> float:\n",
    "    return m/n"
   ]
  },
  {
   "cell_type": "code",
   "execution_count": 131,
   "metadata": {},
   "outputs": [
    {
     "name": "stdout",
     "output_type": "stream",
     "text": [
      "iris dataset T2 score:  0.02666666666666667\n",
      "wine dataset T2 score:  0.02247191011235955\n"
     ]
    }
   ],
   "source": [
    "print(\"iris dataset T2 score: \", ft_T2(iris_m, iris_n))\n",
    "print(\"wine dataset T2 score: \", ft_T2(wine_m, wine_n))"
   ]
  },
  {
   "cell_type": "markdown",
   "metadata": {},
   "source": [
    "### 2.5.2 Average number of PCA dimensions per points (T3)"
   ]
  },
  {
   "cell_type": "code",
   "execution_count": 132,
   "metadata": {},
   "outputs": [],
   "source": [
    "def ft_T3(m_: int, n: int) -> float:\n",
    "    return m_/n"
   ]
  },
  {
   "cell_type": "code",
   "execution_count": 133,
   "metadata": {},
   "outputs": [
    {
     "name": "stdout",
     "output_type": "stream",
     "text": [
      "iris dataset T3 score:  0.013333333333333334\n",
      "wine dataset T3 score:  0.02247191011235955\n"
     ]
    }
   ],
   "source": [
    "print(\"iris dataset T3 score: \", ft_T3(iris_m_, iris_n))\n",
    "print(\"wine dataset T3 score: \", ft_T3(wine_m_, wine_n))"
   ]
  },
  {
   "cell_type": "markdown",
   "metadata": {},
   "source": [
    "### 2.5.3 Ratio of the PCA Dimension to the Original Dimension (T4)"
   ]
  },
  {
   "cell_type": "code",
   "execution_count": 134,
   "metadata": {},
   "outputs": [],
   "source": [
    "def ft_T4(m: int, m_: int) -> float:\n",
    "    return m_/m"
   ]
  },
  {
   "cell_type": "code",
   "execution_count": 135,
   "metadata": {},
   "outputs": [
    {
     "name": "stdout",
     "output_type": "stream",
     "text": [
      "iris dataset T4 score:  0.5\n",
      "wine dataset T4 score:  1.0\n"
     ]
    }
   ],
   "source": [
    "print(\"iris dataset T4 score: \", ft_T4(iris_m, iris_m_))\n",
    "print(\"wine dataset T4 score: \", ft_T4(wine_m, wine_m_))"
   ]
  },
  {
   "cell_type": "markdown",
   "metadata": {},
   "source": [
    "## 2.6 Class Imbalance Measures"
   ]
  },
  {
   "cell_type": "markdown",
   "metadata": {},
   "source": [
    "### 2.6.1 Entropy of class proportions (C1)"
   ]
  },
  {
   "cell_type": "code",
   "execution_count": 136,
   "metadata": {},
   "outputs": [],
   "source": [
    "def ft_C1(cls_n_ex: np.ndarray) -> float:\n",
    "    nc = len(cls_n_ex)\n",
    "    n = sum(cls_n_ex)\n",
    "    summation = 0\n",
    "    for i in range(nc):\n",
    "        pi = cls_n_ex[i]/n\n",
    "        summation = summation + pi * math.log(pi)\n",
    "    aux = 1 + summation / math.log(nc)\n",
    "    return aux"
   ]
  },
  {
   "cell_type": "code",
   "execution_count": 137,
   "metadata": {},
   "outputs": [
    {
     "name": "stdout",
     "output_type": "stream",
     "text": [
      "iris dataset C1 score:  2.220446049250313e-16\n",
      "wine dataset C1 score:  0.011445206973490718\n",
      "wine(balanced) dataset C1 score:  2.220446049250313e-16\n"
     ]
    }
   ],
   "source": [
    "print(\"iris dataset C1 score: \", ft_C1(cls_n_ex_iris))\n",
    "print(\"wine dataset C1 score: \", ft_C1(cls_n_ex_wine))\n",
    "print(\"wine(balanced) dataset C1 score: \", ft_C1(cls_n_ex_wine_bal))"
   ]
  },
  {
   "cell_type": "markdown",
   "metadata": {},
   "source": [
    "### 2.6.2 Imbalance ratio (C2)"
   ]
  },
  {
   "cell_type": "code",
   "execution_count": 53,
   "metadata": {},
   "outputs": [],
   "source": [
    "def ft_C2(cls_n_ex: np.ndarray) -> float:\n",
    "    nc = len(cls_n_ex)\n",
    "    n = sum(cls_n_ex)\n",
    "    summation = 0\n",
    "    for i in range(nc):\n",
    "        summation = summation + cls_n_ex[i]/(n - cls_n_ex[i])\n",
    "    aux = ((nc - 1)/nc) * summation\n",
    "    aux = 1 - (1/aux)\n",
    "    return aux"
   ]
  },
  {
   "cell_type": "code",
   "execution_count": 54,
   "metadata": {},
   "outputs": [
    {
     "name": "stdout",
     "output_type": "stream",
     "text": [
      "iris dataset C2 score:  0.0\n",
      "wine dataset C2 score:  0.018697406258052607\n",
      "wine(balanced) dataset C2 score:  0.0\n"
     ]
    }
   ],
   "source": [
    "print(\"iris dataset C2 score: \", ft_C2(cls_n_ex_iris))\n",
    "print(\"wine dataset C2 score: \", ft_C2(cls_n_ex_wine))\n",
    "print(\"wine(balanced) dataset C2 score: \", ft_C2(cls_n_ex_wine_bal))"
   ]
  },
  {
   "cell_type": "code",
   "execution_count": null,
   "metadata": {},
   "outputs": [],
   "source": []
  }
 ],
 "metadata": {
  "kernelspec": {
   "display_name": "Python 3",
   "language": "python",
   "name": "python3"
  },
  "language_info": {
   "codemirror_mode": {
    "name": "ipython",
    "version": 3
   },
   "file_extension": ".py",
   "mimetype": "text/x-python",
   "name": "python",
   "nbconvert_exporter": "python",
   "pygments_lexer": "ipython3",
   "version": "3.8.8"
  }
 },
 "nbformat": 4,
 "nbformat_minor": 4
}
