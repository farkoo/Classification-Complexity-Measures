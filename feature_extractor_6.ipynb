{
  "nbformat": 4,
  "nbformat_minor": 0,
  "metadata": {
    "colab": {
      "name": "feature-extractor.ipynb",
      "provenance": [],
      "collapsed_sections": []
    },
    "kernelspec": {
      "display_name": "Python 3",
      "name": "python3"
    },
    "language_info": {
      "name": "python"
    }
  },
  "cells": [
    {
      "cell_type": "code",
      "metadata": {
        "colab": {
          "base_uri": "https://localhost:8080/"
        },
        "id": "9NhiWBVyAwgn",
        "outputId": "888f7e4d-13a7-4e34-d09f-fdab6befcd5b"
      },
      "source": [
        "%cd drive/MyDrive/Complexity-Measure/"
      ],
      "execution_count": 1,
      "outputs": [
        {
          "output_type": "stream",
          "text": [
            "/content/drive/MyDrive/Complexity-Measure\n"
          ],
          "name": "stdout"
        }
      ]
    },
    {
      "cell_type": "code",
      "metadata": {
        "colab": {
          "base_uri": "https://localhost:8080/"
        },
        "id": "iD1ka41M21Da",
        "outputId": "b5118d24-73e1-4520-ea20-90914de0265d"
      },
      "source": [
        "!pip install gower;"
      ],
      "execution_count": 3,
      "outputs": [
        {
          "output_type": "stream",
          "text": [
            "Collecting gower\n",
            "  Downloading gower-0.0.5.tar.gz (4.4 kB)\n",
            "Requirement already satisfied: numpy in /usr/local/lib/python3.7/dist-packages (from gower) (1.19.5)\n",
            "Requirement already satisfied: scipy in /usr/local/lib/python3.7/dist-packages (from gower) (1.4.1)\n",
            "Building wheels for collected packages: gower\n",
            "  Building wheel for gower (setup.py) ... \u001b[?25l\u001b[?25hdone\n",
            "  Created wheel for gower: filename=gower-0.0.5-py3-none-any.whl size=4231 sha256=0fe13ef85a298e20089fa66732bd73a7b914e111d92dafb5e3ca41f57eb07015\n",
            "  Stored in directory: /root/.cache/pip/wheels/3e/f9/9a/67122a959a424e9cbb4557a8366c871a30e31cd75f0d003db4\n",
            "Successfully built gower\n",
            "Installing collected packages: gower\n",
            "Successfully installed gower-0.0.5\n"
          ],
          "name": "stdout"
        }
      ]
    },
    {
      "cell_type": "code",
      "metadata": {
        "id": "V97iWnn8tr0O"
      },
      "source": [
        "from tensorflow.keras.applications import VGG16, Xception, ResNet50V2\n",
        "from tensorflow.keras.layers import *\n",
        "from tensorflow.keras.models import Model, Sequential\n",
        "from tensorflow.keras import optimizers\n",
        "from tensorflow.keras import regularizers\n",
        "import numpy as np\n",
        "import cv2\n",
        "from tensorflow.keras.datasets import mnist, cifar10\n",
        "from measures import *\n",
        "import math\n",
        "from sklearn.preprocessing import StandardScaler\n",
        "from sklearn.decomposition import PCA, KernelPCA\n",
        "from sklearn.svm import SVC\n",
        "from sklearn import svm"
      ],
      "execution_count": 4,
      "outputs": []
    },
    {
      "cell_type": "code",
      "metadata": {
        "id": "He3HPWXsuNH1"
      },
      "source": [
        "from keras import backend as K\n",
        "K.clear_session()"
      ],
      "execution_count": 5,
      "outputs": []
    },
    {
      "cell_type": "markdown",
      "metadata": {
        "id": "NxZVNOCJhOX0"
      },
      "source": [
        "# Classify datasets using neural network\n",
        "\n"
      ]
    },
    {
      "cell_type": "code",
      "metadata": {
        "id": "6PiCryAeT5uD"
      },
      "source": [
        "import keras\n",
        "from keras.models import Sequential, Input, Model \n",
        "from keras.layers import Dense, Dropout, Flatten\n",
        "from keras.layers import Conv2D, MaxPooling2D\n",
        "from keras.layers.normalization import BatchNormalization\n",
        "from keras.layers.advanced_activations import LeakyReLU\n",
        "from sklearn.metrics import classification_report"
      ],
      "execution_count": null,
      "outputs": []
    },
    {
      "cell_type": "code",
      "metadata": {
        "id": "8WL9EQ18T9X7"
      },
      "source": [
        "batch_size = 64\n",
        "epochs = 20\n",
        "num_classes = 10\n",
        "classes = 10"
      ],
      "execution_count": null,
      "outputs": []
    },
    {
      "cell_type": "markdown",
      "metadata": {
        "id": "nwVdaqfshlVi"
      },
      "source": [
        "## Generate the base model"
      ]
    },
    {
      "cell_type": "code",
      "metadata": {
        "id": "6O0sZKRiUFjA"
      },
      "source": [
        "def train_model(x, y, z,train_X, train_label, valid_X, valid_label, test_X, test_Y_one_hot, Y_test_label):\n",
        "  model = Sequential()\n",
        "  model.add(Conv2D(32, kernel_size = (3, 3), activation = 'linear', input_shape=(x,y,z), padding = 'same'))\n",
        "  model.add(LeakyReLU(alpha = 0.1))\n",
        "  model.add(MaxPooling2D((2,2), padding = 'same'))\n",
        "  model.add(Dropout(0.25))\n",
        "\n",
        "  model.add(Conv2D(64, (3, 3), activation = 'linear', padding = 'same'))\n",
        "  model.add(LeakyReLU(alpha = 0.1))\n",
        "  model.add(MaxPooling2D(pool_size = (2,2), padding = 'same'))\n",
        "  model.add(Dropout(0.25))\n",
        "\n",
        "  model.add(Conv2D(128, (3, 3), activation = 'linear', padding = 'same'))\n",
        "  model.add(LeakyReLU(alpha = 0.1))                  \n",
        "  model.add(MaxPooling2D(pool_size=(2, 2), padding = 'same'))\n",
        "  model.add(Dropout(0.4))\n",
        "\n",
        "  model.add(Flatten())\n",
        "  model.add(Dense(128, activation = 'linear'))\n",
        "  model.add(LeakyReLU(alpha = 0.1)) \n",
        "  model.add(Dropout(0.3))\n",
        "  model.add(Dense(num_classes, activation = 'softmax'))\n",
        "\n",
        "  model.compile(loss = keras.losses.categorical_crossentropy, optimizer = keras.optimizers.Adam(), metrics = ['accuracy'])\n",
        "\n",
        "  history = model.fit(train_X, train_label, batch_size=batch_size,epochs=epochs,verbose=1,validation_data=(valid_X, valid_label)) \n",
        "\n",
        "  plt.plot(history.history['accuracy'])\n",
        "  plt.plot(history.history['val_accuracy'])\n",
        "  plt.title('Model Accuracy')\n",
        "  plt.ylabel('accuracy')\n",
        "  plt.xlabel('epoch')\n",
        "  plt.legend(['train','validation'],loc='lower right')\n",
        "  plt.show()\n",
        "\n",
        "  test_eval = model.evaluate(test_X, test_Y_one_hot, verbose = 0)\n",
        "  print('Test loss: ', test_eval[0])\n",
        "  print('Test accuracy: ', test_eval[1])\n",
        "\n",
        "  predictes_classes = model.predict(test_X)\n",
        "  predicted_classes = np.argmax(np.round(predictes_classes), axis = 1)\n",
        "\n",
        "  target_names = [\"Class {}\".format(i) for i in range(classes)]\n",
        "  print(classification_report(Y_test_label, predicted_classes, target_names = target_names))\n",
        "\n",
        "  return model"
      ],
      "execution_count": null,
      "outputs": []
    },
    {
      "cell_type": "markdown",
      "metadata": {
        "id": "tvPYuJdehuwr"
      },
      "source": [
        "## Classify MNIST dataset"
      ]
    },
    {
      "cell_type": "code",
      "metadata": {
        "colab": {
          "base_uri": "https://localhost:8080/"
        },
        "id": "MZtnFOUvwEfu",
        "outputId": "f79b25e0-a815-4037-fb45-59e417a959e2"
      },
      "source": [
        "(X_train_mnist, Y_train_mnist), (X_test_mnist, Y_test_mnist) = mnist.load_data()\n",
        "X_train_mnist.shape, Y_train_mnist.shape, X_test_mnist.shape, Y_test_mnist.shape"
      ],
      "execution_count": 6,
      "outputs": [
        {
          "output_type": "stream",
          "text": [
            "Downloading data from https://storage.googleapis.com/tensorflow/tf-keras-datasets/mnist.npz\n",
            "11493376/11490434 [==============================] - 0s 0us/step\n"
          ],
          "name": "stdout"
        },
        {
          "output_type": "execute_result",
          "data": {
            "text/plain": [
              "((60000, 28, 28), (60000,), (10000, 28, 28), (10000,))"
            ]
          },
          "metadata": {
            "tags": []
          },
          "execution_count": 6
        }
      ]
    },
    {
      "cell_type": "code",
      "metadata": {
        "colab": {
          "base_uri": "https://localhost:8080/"
        },
        "id": "inMJzRiXS_fy",
        "outputId": "eebed9dc-87d1-43d9-bb0b-47bbf6306919"
      },
      "source": [
        "train_X = X_train_mnist.reshape(-1, 28, 28, 1)\n",
        "test_X = X_test_mnist.reshape(-1, 28, 28, 1)\n",
        "\n",
        "train_X = train_X.astype('float32')\n",
        "test_X = test_X.astype('float32')\n",
        "train_X = train_X / 255\n",
        "test_X = test_X / 255\n",
        "\n",
        "from tensorflow.keras.utils import to_categorical\n",
        "\n",
        "train_Y_one_hot = to_categorical(Y_train_mnist)\n",
        "test_Y_one_hot = to_categorical(Y_test_mnist)\n",
        "\n",
        "from sklearn.model_selection import train_test_split\n",
        "train_X, valid_X, train_label, valid_label = train_test_split(train_X, train_Y_one_hot, test_size = 0.2)\n",
        "\n",
        "train_X.shape, valid_X.shape, train_label.shape, valid_label.shape"
      ],
      "execution_count": null,
      "outputs": [
        {
          "output_type": "execute_result",
          "data": {
            "text/plain": [
              "((48000, 28, 28, 1), (12000, 28, 28, 1), (48000, 10), (12000, 10))"
            ]
          },
          "metadata": {
            "tags": []
          },
          "execution_count": 7
        }
      ]
    },
    {
      "cell_type": "code",
      "metadata": {
        "colab": {
          "base_uri": "https://localhost:8080/",
          "height": 1000
        },
        "id": "KfksHtCfGyMt",
        "outputId": "1f446b15-1a20-4c8a-ee89-aaa8393b8092"
      },
      "source": [
        "model = train_model(28,28,1,train_X, train_label,valid_X, valid_label, test_X, test_Y_one_hot, Y_test_mnist)"
      ],
      "execution_count": null,
      "outputs": [
        {
          "output_type": "stream",
          "text": [
            "Epoch 1/20\n",
            "750/750 [==============================] - 12s 14ms/step - loss: 0.6019 - accuracy: 0.7951 - val_loss: 0.0696 - val_accuracy: 0.9786\n",
            "Epoch 2/20\n",
            "750/750 [==============================] - 10s 13ms/step - loss: 0.0885 - accuracy: 0.9720 - val_loss: 0.0442 - val_accuracy: 0.9872\n",
            "Epoch 3/20\n",
            "750/750 [==============================] - 10s 13ms/step - loss: 0.0628 - accuracy: 0.9806 - val_loss: 0.0414 - val_accuracy: 0.9872\n",
            "Epoch 4/20\n",
            "750/750 [==============================] - 10s 13ms/step - loss: 0.0506 - accuracy: 0.9835 - val_loss: 0.0354 - val_accuracy: 0.9891\n",
            "Epoch 5/20\n",
            "750/750 [==============================] - 9s 13ms/step - loss: 0.0485 - accuracy: 0.9841 - val_loss: 0.0338 - val_accuracy: 0.9902\n",
            "Epoch 6/20\n",
            "750/750 [==============================] - 9s 12ms/step - loss: 0.0381 - accuracy: 0.9876 - val_loss: 0.0353 - val_accuracy: 0.9896\n",
            "Epoch 7/20\n",
            "750/750 [==============================] - 10s 13ms/step - loss: 0.0351 - accuracy: 0.9886 - val_loss: 0.0315 - val_accuracy: 0.9913\n",
            "Epoch 8/20\n",
            "750/750 [==============================] - 9s 12ms/step - loss: 0.0318 - accuracy: 0.9902 - val_loss: 0.0379 - val_accuracy: 0.9891\n",
            "Epoch 9/20\n",
            "750/750 [==============================] - 10s 13ms/step - loss: 0.0299 - accuracy: 0.9912 - val_loss: 0.0298 - val_accuracy: 0.9923\n",
            "Epoch 10/20\n",
            "750/750 [==============================] - 9s 12ms/step - loss: 0.0303 - accuracy: 0.9897 - val_loss: 0.0309 - val_accuracy: 0.9919\n",
            "Epoch 11/20\n",
            "750/750 [==============================] - 10s 13ms/step - loss: 0.0279 - accuracy: 0.9907 - val_loss: 0.0371 - val_accuracy: 0.9896\n",
            "Epoch 12/20\n",
            "750/750 [==============================] - 9s 12ms/step - loss: 0.0255 - accuracy: 0.9918 - val_loss: 0.0343 - val_accuracy: 0.9908\n",
            "Epoch 13/20\n",
            "750/750 [==============================] - 10s 13ms/step - loss: 0.0257 - accuracy: 0.9918 - val_loss: 0.0349 - val_accuracy: 0.9918\n",
            "Epoch 14/20\n",
            "750/750 [==============================] - 10s 13ms/step - loss: 0.0233 - accuracy: 0.9927 - val_loss: 0.0343 - val_accuracy: 0.9921\n",
            "Epoch 15/20\n",
            "750/750 [==============================] - 10s 13ms/step - loss: 0.0236 - accuracy: 0.9917 - val_loss: 0.0309 - val_accuracy: 0.9923\n",
            "Epoch 16/20\n",
            "750/750 [==============================] - 9s 12ms/step - loss: 0.0213 - accuracy: 0.9931 - val_loss: 0.0298 - val_accuracy: 0.9918\n",
            "Epoch 17/20\n",
            "750/750 [==============================] - 9s 12ms/step - loss: 0.0210 - accuracy: 0.9935 - val_loss: 0.0335 - val_accuracy: 0.9914\n",
            "Epoch 18/20\n",
            "750/750 [==============================] - 10s 13ms/step - loss: 0.0233 - accuracy: 0.9922 - val_loss: 0.0363 - val_accuracy: 0.9918\n",
            "Epoch 19/20\n",
            "750/750 [==============================] - 9s 12ms/step - loss: 0.0190 - accuracy: 0.9934 - val_loss: 0.0323 - val_accuracy: 0.9917\n",
            "Epoch 20/20\n",
            "750/750 [==============================] - 9s 12ms/step - loss: 0.0197 - accuracy: 0.9944 - val_loss: 0.0332 - val_accuracy: 0.9929\n"
          ],
          "name": "stdout"
        },
        {
          "output_type": "display_data",
          "data": {
            "image/png": "[encoded data removed]",
            "text/plain": [
              "<Figure size 432x288 with 1 Axes>"
            ]
          },
          "metadata": {
            "tags": [],
            "needs_background": "light"
          }
        },
        {
          "output_type": "stream",
          "text": [
            "Test loss:  0.021731534972786903\n",
            "Test accuracy:  0.9940999746322632\n",
            "              precision    recall  f1-score   support\n",
            "\n",
            "     Class 0       0.99      1.00      0.99       980\n",
            "     Class 1       0.99      1.00      1.00      1135\n",
            "     Class 2       1.00      1.00      1.00      1032\n",
            "     Class 3       0.99      1.00      0.99      1010\n",
            "     Class 4       0.99      0.99      0.99       982\n",
            "     Class 5       1.00      0.99      0.99       892\n",
            "     Class 6       1.00      0.99      0.99       958\n",
            "     Class 7       1.00      0.99      0.99      1028\n",
            "     Class 8       1.00      0.99      0.99       974\n",
            "     Class 9       0.99      0.99      0.99      1009\n",
            "\n",
            "    accuracy                           0.99     10000\n",
            "   macro avg       0.99      0.99      0.99     10000\n",
            "weighted avg       0.99      0.99      0.99     10000\n",
            "\n"
          ],
          "name": "stdout"
        }
      ]
    },
    {
      "cell_type": "markdown",
      "metadata": {
        "id": "7t8Lvg7nh9bc"
      },
      "source": [
        "##Classify CIFAR dataset"
      ]
    },
    {
      "cell_type": "code",
      "metadata": {
        "colab": {
          "base_uri": "https://localhost:8080/"
        },
        "id": "U4oz6zDJf9wt",
        "outputId": "fe8ecf6f-dca7-4603-eb55-d9ed3be09d6b"
      },
      "source": [
        "(X_train_cifar, Y_train_cifar), (X_test_cifar, Y_test_cifar) = cifar10.load_data()\n",
        "X_train_cifar.shape, Y_train_cifar.shape"
      ],
      "execution_count": 7,
      "outputs": [
        {
          "output_type": "stream",
          "text": [
            "Downloading data from https://www.cs.toronto.edu/~kriz/cifar-10-python.tar.gz\n",
            "170500096/170498071 [==============================] - 2s 0us/step\n"
          ],
          "name": "stdout"
        },
        {
          "output_type": "execute_result",
          "data": {
            "text/plain": [
              "((50000, 32, 32, 3), (50000, 1))"
            ]
          },
          "metadata": {
            "tags": []
          },
          "execution_count": 7
        }
      ]
    },
    {
      "cell_type": "code",
      "metadata": {
        "colab": {
          "base_uri": "https://localhost:8080/"
        },
        "id": "5NQKisxPHzJD",
        "outputId": "88e8a979-449b-4d90-c4ce-d76d2bff6638"
      },
      "source": [
        "train_X = X_train_cifar.reshape(-1, 32, 32, 3)\n",
        "test_X = X_test_cifar.reshape(-1, 32, 32, 3)\n",
        "\n",
        "train_X = train_X.astype('float32')\n",
        "test_X = test_X.astype('float32')\n",
        "train_X = train_X / 255\n",
        "test_X = test_X / 255\n",
        "\n",
        "from tensorflow.keras.utils import to_categorical\n",
        "\n",
        "train_Y_one_hot = to_categorical(Y_train_cifar)\n",
        "test_Y_one_hot = to_categorical(Y_test_cifar)\n",
        "\n",
        "from sklearn.model_selection import train_test_split\n",
        "train_X, valid_X, train_label, valid_label = train_test_split(train_X, train_Y_one_hot, test_size = 0.2)\n",
        "\n",
        "train_X.shape, valid_X.shape, train_label.shape, valid_label.shape"
      ],
      "execution_count": null,
      "outputs": [
        {
          "output_type": "execute_result",
          "data": {
            "text/plain": [
              "((40000, 32, 32, 3), (10000, 32, 32, 3), (40000, 10), (10000, 10))"
            ]
          },
          "metadata": {
            "tags": []
          },
          "execution_count": 53
        }
      ]
    },
    {
      "cell_type": "code",
      "metadata": {
        "colab": {
          "base_uri": "https://localhost:8080/",
          "height": 1000
        },
        "id": "hR9zfom83qBl",
        "outputId": "b8c02946-2a9a-445a-e4bd-703d6540e425"
      },
      "source": [
        "model = train_model(32,32,3,train_X, train_label,valid_X, valid_label, test_X, test_Y_one_hot, Y_test_cifar)"
      ],
      "execution_count": null,
      "outputs": [
        {
          "output_type": "stream",
          "text": [
            "Epoch 1/20\n",
            "625/625 [==============================] - 12s 16ms/step - loss: 1.8597 - accuracy: 0.3101 - val_loss: 1.2824 - val_accuracy: 0.5396\n",
            "Epoch 2/20\n",
            "625/625 [==============================] - 10s 16ms/step - loss: 1.3001 - accuracy: 0.5359 - val_loss: 1.0701 - val_accuracy: 0.6173\n",
            "Epoch 3/20\n",
            "625/625 [==============================] - 10s 16ms/step - loss: 1.1264 - accuracy: 0.6002 - val_loss: 0.9744 - val_accuracy: 0.6520\n",
            "Epoch 4/20\n",
            "625/625 [==============================] - 10s 15ms/step - loss: 1.0109 - accuracy: 0.6396 - val_loss: 0.9418 - val_accuracy: 0.6703\n",
            "Epoch 5/20\n",
            "625/625 [==============================] - 9s 15ms/step - loss: 0.9292 - accuracy: 0.6761 - val_loss: 0.8267 - val_accuracy: 0.7112\n",
            "Epoch 6/20\n",
            "625/625 [==============================] - 9s 15ms/step - loss: 0.8959 - accuracy: 0.6826 - val_loss: 0.8217 - val_accuracy: 0.7125\n",
            "Epoch 7/20\n",
            "625/625 [==============================] - 9s 14ms/step - loss: 0.8600 - accuracy: 0.7031 - val_loss: 0.7670 - val_accuracy: 0.7293\n",
            "Epoch 8/20\n",
            "625/625 [==============================] - 9s 14ms/step - loss: 0.8253 - accuracy: 0.7097 - val_loss: 0.7473 - val_accuracy: 0.7398\n",
            "Epoch 9/20\n",
            "625/625 [==============================] - 9s 15ms/step - loss: 0.7869 - accuracy: 0.7223 - val_loss: 0.7312 - val_accuracy: 0.7457\n",
            "Epoch 10/20\n",
            "625/625 [==============================] - 9s 14ms/step - loss: 0.7595 - accuracy: 0.7316 - val_loss: 0.7080 - val_accuracy: 0.7515\n",
            "Epoch 11/20\n",
            "625/625 [==============================] - 9s 14ms/step - loss: 0.7408 - accuracy: 0.7385 - val_loss: 0.7129 - val_accuracy: 0.7490\n",
            "Epoch 12/20\n",
            "625/625 [==============================] - 9s 14ms/step - loss: 0.7170 - accuracy: 0.7449 - val_loss: 0.6774 - val_accuracy: 0.7615\n",
            "Epoch 13/20\n",
            "625/625 [==============================] - 9s 15ms/step - loss: 0.7047 - accuracy: 0.7488 - val_loss: 0.6915 - val_accuracy: 0.7614\n",
            "Epoch 14/20\n",
            "625/625 [==============================] - 9s 14ms/step - loss: 0.6817 - accuracy: 0.7593 - val_loss: 0.6640 - val_accuracy: 0.7675\n",
            "Epoch 15/20\n",
            "625/625 [==============================] - 9s 14ms/step - loss: 0.6747 - accuracy: 0.7606 - val_loss: 0.7434 - val_accuracy: 0.7443\n",
            "Epoch 16/20\n",
            "625/625 [==============================] - 9s 14ms/step - loss: 0.6704 - accuracy: 0.7613 - val_loss: 0.6680 - val_accuracy: 0.7721\n",
            "Epoch 17/20\n",
            "625/625 [==============================] - 9s 14ms/step - loss: 0.6373 - accuracy: 0.7780 - val_loss: 0.6677 - val_accuracy: 0.7712\n",
            "Epoch 18/20\n",
            "625/625 [==============================] - 9s 14ms/step - loss: 0.6301 - accuracy: 0.7769 - val_loss: 0.6547 - val_accuracy: 0.7704\n",
            "Epoch 19/20\n",
            "625/625 [==============================] - 9s 14ms/step - loss: 0.6255 - accuracy: 0.7779 - val_loss: 0.6667 - val_accuracy: 0.7683\n",
            "Epoch 20/20\n",
            "625/625 [==============================] - 9s 14ms/step - loss: 0.6253 - accuracy: 0.7787 - val_loss: 0.6599 - val_accuracy: 0.7769\n"
          ],
          "name": "stdout"
        },
        {
          "output_type": "display_data",
          "data": {
            "image/png": "[encoded data removed]",
            "text/plain": [
              "<Figure size 432x288 with 1 Axes>"
            ]
          },
          "metadata": {
            "tags": [],
            "needs_background": "light"
          }
        },
        {
          "output_type": "stream",
          "text": [
            "Test loss:  0.6759867668151855\n",
            "Test accuracy:  0.7714999914169312\n",
            "              precision    recall  f1-score   support\n",
            "\n",
            "     Class 0       0.42      0.83      0.55      1000\n",
            "     Class 1       0.92      0.86      0.89      1000\n",
            "     Class 2       0.80      0.60      0.68      1000\n",
            "     Class 3       0.67      0.55      0.60      1000\n",
            "     Class 4       0.74      0.74      0.74      1000\n",
            "     Class 5       0.83      0.51      0.63      1000\n",
            "     Class 6       0.81      0.87      0.84      1000\n",
            "     Class 7       0.89      0.74      0.81      1000\n",
            "     Class 8       0.83      0.90      0.86      1000\n",
            "     Class 9       0.90      0.81      0.86      1000\n",
            "\n",
            "    accuracy                           0.74     10000\n",
            "   macro avg       0.78      0.74      0.75     10000\n",
            "weighted avg       0.78      0.74      0.75     10000\n",
            "\n"
          ],
          "name": "stdout"
        }
      ]
    },
    {
      "cell_type": "markdown",
      "metadata": {
        "id": "7CO_MdcViCRD"
      },
      "source": [
        "# Classify datasets using PCA and SVM"
      ]
    },
    {
      "cell_type": "markdown",
      "metadata": {
        "id": "-VF2A17wiWLw"
      },
      "source": [
        "## MNIST:"
      ]
    },
    {
      "cell_type": "code",
      "metadata": {
        "id": "ltpobGQSSgMI"
      },
      "source": [
        "PCA_X_mnist = X_train_mnist\n",
        "PCA_Y_mnist = Y_train_mnist\n",
        "PCA_X_mnist = PCA_X_mnist/255\n",
        "X_mnist_flat = PCA_X_mnist.reshape(-1, 28*28)\n",
        "pca_mnist = PCA(0.9)\n",
        "principalComponents_mnist = pca_mnist.fit_transform(X_mnist_flat)\n",
        "\n",
        "PCA_X_mnist_test = X_test_mnist\n",
        "PCA_X_mnist_test = PCA_X_mnist_test/255\n",
        "X_mnist_flat = PCA_X_mnist_test.reshape(-1, 28*28)\n",
        "pca_mnist = PCA(n_components=principalComponents_mnist.shape[1])\n",
        "principalComponents_mnist_test = pca_mnist.fit_transform(X_mnist_flat)"
      ],
      "execution_count": 8,
      "outputs": []
    },
    {
      "cell_type": "code",
      "metadata": {
        "colab": {
          "base_uri": "https://localhost:8080/"
        },
        "id": "g7bqOK58Boch",
        "outputId": "6455b1e6-0319-4518-989e-1b1d1d5d1213"
      },
      "source": [
        "pca_model_mnist = SVC(kernel = 'linear')\n",
        "pca_model_mnist.fit(principalComponents_mnist, PCA_Y_mnist)\n",
        "print(\"MNIST(linear SVM) dataset train accuracy: \" + str(pca_model_mnist.score(principalComponents_mnist, PCA_Y_mnist)))\n",
        "print(\"MNIST(linear SVM) dataset test accuracy: \" + str(pca_model_mnist.score(principalComponents_mnist_test, Y_test_mnist)))"
      ],
      "execution_count": 11,
      "outputs": [
        {
          "output_type": "stream",
          "text": [
            "MNIST(linear SVM) dataset train accuracy: 0.9478833333333333\n",
            "MNIST(linear SVM) dataset test accuracy: 0.1185\n"
          ],
          "name": "stdout"
        }
      ]
    },
    {
      "cell_type": "code",
      "metadata": {
        "colab": {
          "base_uri": "https://localhost:8080/"
        },
        "id": "l6WSt_q_UoPd",
        "outputId": "e97406e7-7d94-4838-b450-c5a49b2c7654"
      },
      "source": [
        "pca_model_mnist_l = svm.NuSVC(gamma='auto')\n",
        "pca_model_mnist_l.fit(principalComponents_mnist, PCA_Y_mnist)\n",
        "print(\"MNIST dataset train accuracy: \" + str(pca_model_mnist_l.score(principalComponents_mnist, PCA_Y_mnist)))\n",
        "print(\"MNIST dataset test accuracy: \" + str(pca_model_mnist_l.score(principalComponents_mnist_test, Y_test_mnist)))"
      ],
      "execution_count": null,
      "outputs": [
        {
          "output_type": "stream",
          "text": [
            "MNIST dataset train accuracy: 0.9073833333333333\n",
            "MNIST dataset test accuracy: 0.1487\n"
          ],
          "name": "stdout"
        }
      ]
    },
    {
      "cell_type": "markdown",
      "metadata": {
        "id": "MULAxysLlisd"
      },
      "source": [
        "## CIFAR:"
      ]
    },
    {
      "cell_type": "code",
      "metadata": {
        "id": "Zrb_T4O7SiF1"
      },
      "source": [
        "PCA_X_cifar = X_train_cifar\n",
        "PCA_Y_cifar = Y_train_cifar\n",
        "PCA_X_cifar = PCA_X_cifar/255\n",
        "X_cifar_flat = PCA_X_cifar.reshape(-1, 32*32*3)\n",
        "pca_cifar = PCA(0.9)\n",
        "principalComponents_cifar = pca_cifar.fit_transform(X_cifar_flat)\n",
        "\n",
        "PCA_X_cifar_test = X_test_cifar\n",
        "PCA_X_cifar_test = PCA_X_cifar_test/255\n",
        "X_cifar_flat = PCA_X_cifar_test.reshape(-1, 32*32*3)\n",
        "pca_cifar = PCA(n_components=principalComponents_cifar.shape[1])\n",
        "principalComponents_cifar_test = pca_cifar.fit_transform(X_cifar_flat)"
      ],
      "execution_count": 9,
      "outputs": []
    },
    {
      "cell_type": "code",
      "metadata": {
        "colab": {
          "base_uri": "https://localhost:8080/"
        },
        "id": "cRiX0lcxB5qV",
        "outputId": "8cb4bcae-9044-4007-b0f4-45a7b49004f8"
      },
      "source": [
        "pca_model_cifar_l = SVC(kernel = 'linear')\n",
        "pca_model_cifar_l.fit(principalComponents_cifar, PCA_Y_cifar)\n",
        "print(\"CIFAR(linear SVM) dataset train accuracy: \" + str(pca_model_cifar_l.score(principalComponents_cifar, PCA_Y_cifar)))\n",
        "print(\"CIFAR(linear SVM) dataset test accuracy: \" + str(pca_model_cifar_l.score(principalComponents_cifar_test, Y_test_cifar)))"
      ],
      "execution_count": 10,
      "outputs": [
        {
          "output_type": "stream",
          "text": [
            "/usr/local/lib/python3.7/dist-packages/sklearn/utils/validation.py:760: DataConversionWarning: A column-vector y was passed when a 1d array was expected. Please change the shape of y to (n_samples, ), for example using ravel().\n",
            "  y = column_or_1d(y, warn=True)\n"
          ],
          "name": "stderr"
        },
        {
          "output_type": "stream",
          "text": [
            "CIFAR(linear SVM) dataset train accuracy: 0.42042\n",
            "CIFAR(linear SVM) dataset test accuracy: 0.1959\n"
          ],
          "name": "stdout"
        }
      ]
    },
    {
      "cell_type": "code",
      "metadata": {
        "colab": {
          "base_uri": "https://localhost:8080/"
        },
        "id": "MazWKYnEeFuX",
        "outputId": "91a78279-d444-478d-e3bb-b8473f21d468"
      },
      "source": [
        "pca_model_cifar = svm.NuSVC(gamma='auto')\n",
        "pca_model_cifar.fit(principalComponents_cifar, PCA_Y_cifar)\n",
        "print(\"CIFAR dataset train accuracy: \" + str(pca_model_cifar.score(principalComponents_cifar, PCA_Y_cifar)))\n",
        "print(\"CIFAR dataset test accuracy: \" + str(pca_model_cifar.score(principalComponents_cifar_test, Y_test_cifar)))"
      ],
      "execution_count": null,
      "outputs": [
        {
          "output_type": "stream",
          "text": [
            "/usr/local/lib/python3.7/dist-packages/sklearn/utils/validation.py:760: DataConversionWarning: A column-vector y was passed when a 1d array was expected. Please change the shape of y to (n_samples, ), for example using ravel().\n",
            "  y = column_or_1d(y, warn=True)\n"
          ],
          "name": "stderr"
        },
        {
          "output_type": "stream",
          "text": [
            "CIFAR dataset train accuracy: 0.65506\n",
            "CIFAR dataset test accuracy: 0.2422\n"
          ],
          "name": "stdout"
        }
      ]
    },
    {
      "cell_type": "code",
      "metadata": {
        "id": "Op4M_9YrStZZ"
      },
      "source": [
        "FTR_X_mnist = np.load(\"vgg16_features_mnist.npy\")\n",
        "FTR_X_mnist = FTR_X_mnist[0:3000]\n",
        "Y_mnist = Y_train_mnist[0:3000].reshape(3000)"
      ],
      "execution_count": null,
      "outputs": []
    },
    {
      "cell_type": "code",
      "metadata": {
        "id": "n6OwXj5IStSi"
      },
      "source": [
        "FTR_X_cifar = np.load(\"vgg16_features_cifar.npy\")\n",
        "FTR_X_cifar = FTR_X_cifar[0:3000]\n",
        "Y_cifar = Y_train_cifar[0:3000].reshape(3000)"
      ],
      "execution_count": null,
      "outputs": []
    },
    {
      "cell_type": "code",
      "metadata": {
        "id": "EtOWpBcK-SK7"
      },
      "source": [
        "def one_to_three_dim(x_train, dim):\n",
        "  img_lst = []\n",
        "  for i in range(len(x_train)):\n",
        "    img = cv2.resize(x_train[i], dim, interpolation = cv2.INTER_AREA) \n",
        "    img = np.asarray(np.dstack((img, img, img)), dtype=np.uint8)\n",
        "    img_lst.append(img)\n",
        "  rgb_arr = np.stack([img_lst],axis=4)\n",
        "  rgb_arr_to_3d = np.squeeze(rgb_arr, axis=4)\n",
        "  return rgb_arr_to_3d"
      ],
      "execution_count": null,
      "outputs": []
    },
    {
      "cell_type": "code",
      "metadata": {
        "id": "ZCo4LOq2_Gnr"
      },
      "source": [
        "def feature_extractor(images, model, x, y, z):\n",
        "  feature_list = []\n",
        "  for i in range(len(images)):\n",
        "    img_array = np.expand_dims(images[i], axis=0)\n",
        "    features = model.predict(img_array)\n",
        "    feature_list.append(features)\n",
        "  feat_lt = np.reshape(feature_list, (-1, x*y*z))\n",
        "  return feat_lt"
      ],
      "execution_count": null,
      "outputs": []
    },
    {
      "cell_type": "code",
      "metadata": {
        "colab": {
          "base_uri": "https://localhost:8080/"
        },
        "id": "05__77bX2JmS",
        "outputId": "55af3d4a-bc4b-4cb0-d5f8-199bc91fe74c"
      },
      "source": [
        "dim = (32, 32)\n",
        "rgb_list = one_to_three_dim(x_train_mnist, dim)\n",
        "print(rgb_list.shape)"
      ],
      "execution_count": null,
      "outputs": [
        {
          "output_type": "stream",
          "text": [
            "(60000, 32, 32, 3)\n"
          ],
          "name": "stdout"
        }
      ]
    },
    {
      "cell_type": "code",
      "metadata": {
        "colab": {
          "base_uri": "https://localhost:8080/"
        },
        "id": "jutDBsFZ3pu7",
        "outputId": "78f0e0d3-bb40-4c1d-c638-8bd38d4d0904"
      },
      "source": [
        "vgg = VGG16(weights='imagenet',\n",
        "            include_top=False,\n",
        "            input_shape=(32, 32, 3))\n",
        "\n",
        "for layers in vgg.layers:\n",
        "  layers.trainable=False\n",
        "\n",
        "print(vgg.output)\n"
      ],
      "execution_count": null,
      "outputs": [
        {
          "output_type": "stream",
          "text": [
            "Downloading data from https://storage.googleapis.com/tensorflow/keras-applications/vgg16/vgg16_weights_tf_dim_ordering_tf_kernels_notop.h5\n",
            "58892288/58889256 [==============================] - 1s 0us/step\n",
            "KerasTensor(type_spec=TensorSpec(shape=(None, 1, 1, 512), dtype=tf.float32, name=None), name='block5_pool/MaxPool:0', description=\"created by layer 'block5_pool'\")\n"
          ],
          "name": "stdout"
        }
      ]
    },
    {
      "cell_type": "code",
      "metadata": {
        "id": "Q_h5s7fQCNlS"
      },
      "source": [
        "vgg_features_mnist = feature_extractor(rgb_list[0:10000], vgg, 1, 1, 512)\n",
        "np.save(\"vgg16_features_mnist.npy\", vgg_features_mnist)\n",
        "vgg_features_cifar = feature_extractor(x_train_cifar[0:10000], vgg, 1, 1, 512)\n",
        "np.save(\"vgg16_features_cifar.npy\", vgg_features_cifar)"
      ],
      "execution_count": null,
      "outputs": []
    },
    {
      "cell_type": "code",
      "metadata": {
        "colab": {
          "base_uri": "https://localhost:8080/"
        },
        "id": "uh1xqV5a_O9E",
        "outputId": "56fecf9e-80d8-48d4-83c1-d3716b9e4813"
      },
      "source": [
        "compute_all_measures(principalComponents_mnist, PCA_Y_mnist)"
      ],
      "execution_count": null,
      "outputs": [
        {
          "output_type": "stream",
          "text": [
            "F1 score:  0.3359367224187276\n",
            "F1v score:  0.005616823738062841\n",
            "F2 score:  2.8485389080841306e-08\n",
            "F3 score:  0.32066666666666666\n",
            "F4 score:  0.0\n",
            "R1 score:  0.0005524411151404332\n",
            "R2 score:  0.0033333333333333335\n",
            "R3 score:  0.0016666666666666668\n",
            "N1 score:  0.22466666666666665\n",
            "N2 score:  0.43902639994577486\n",
            "N3 score:  0.10966666666666669\n",
            "N4 score:  0.010000000000000009\n",
            "LSC score:  0.9938476666666667\n",
            "Density score:  0.9454222518617317\n",
            "ClsCoef score:  0.9397549228535682\n",
            "Hubs score:  0.9925745949720821\n",
            "T2 score:  0.027666666666666666\n",
            "T3 score:  0.026333333333333334\n",
            "T4 score:  0.9518072289156626\n",
            "C1 score:  0.0013590429648728808\n",
            "C2 score:  0.0007740423882753866\n"
          ],
          "name": "stdout"
        }
      ]
    },
    {
      "cell_type": "code",
      "metadata": {
        "colab": {
          "base_uri": "https://localhost:8080/"
        },
        "id": "bDI0PR_Pq2Vw",
        "outputId": "38bc261c-93d1-4a7d-d9a5-32c2e499023d"
      },
      "source": [
        "compute_all_measures(principalComponents_cifar, PCA_Y_cifar)"
      ],
      "execution_count": null,
      "outputs": [
        {
          "output_type": "stream",
          "text": [
            "F1 score:  0.8423932549142479\n",
            "F1v score:  0.023228950602909984\n",
            "F2 score:  1.3256690020637442e-09\n",
            "F3 score:  0.909\n",
            "\n",
            "\n",
            "\n",
            "\n",
            "\n",
            "\n",
            "\n",
            "\n",
            "\n",
            "\n",
            "\n",
            "\n",
            "\n",
            "\n",
            "F4 score:  0.0\n",
            "R1 score:  0.0982323995978822\n",
            "R2 score:  0.46366666666666667\n",
            "R3 score:  0.3913333333333333\n",
            "N1 score:  0.823\n",
            "N2 score:  0.5106303173317676\n",
            "N3 score:  0.7603333333333333\n",
            "N4 score:  0.17966666666666664\n",
            "LSC score:  0.9997744444444444\n",
            "Density score:  0.9164176947871513\n",
            "ClsCoef score:  0.9183178221149395\n",
            "Hubs score:  0.9854144878013009\n",
            "T2 score:  0.03166666666666667\n",
            "T3 score:  0.030333333333333334\n",
            "T4 score:  0.9578947368421052\n",
            "C1 score:  0.0004004502936129084\n",
            "C2 score:  0.0002273608255608517\n"
          ],
          "name": "stdout"
        }
      ]
    },
    {
      "cell_type": "code",
      "metadata": {
        "colab": {
          "base_uri": "https://localhost:8080/"
        },
        "id": "9dMO5pW7AOGV",
        "outputId": "cb96d010-d394-4a85-85b3-5d4d2170461c"
      },
      "source": [
        "compute_all_measures(FTR_X_mnist, Y_mnist)"
      ],
      "execution_count": null,
      "outputs": [
        {
          "output_type": "stream",
          "text": [
            "F1 score:  0.2711741534621569\n",
            "F1v score:  0\n",
            "F2 score:  0.0\n"
          ],
          "name": "stdout"
        },
        {
          "output_type": "stream",
          "text": [
            "/content/drive/MyDrive/Complexity-Measure/measures.py:163: RuntimeWarning: invalid value encountered in true_divide\n",
            "  ratio = overlap_/range_\n"
          ],
          "name": "stderr"
        },
        {
          "output_type": "stream",
          "text": [
            "F3 score:  0.0\n",
            "\n",
            "\n",
            "\n",
            "\n",
            "\n",
            "\n",
            "\n",
            "\n",
            "F4 score:  0.0\n",
            "R1 score:  0.0\n",
            "R2 score:  0.0\n",
            "R3 score:  0.0\n",
            "N1 score:  0.21133333333333335\n",
            "N2 score:  0.4259964227012036\n",
            "N3 score:  0.1166666666666667\n",
            "N4 score:  0.057666666666666644\n",
            "LSC score:  0.9936381111111111\n",
            "Density score:  0.899673224408136\n",
            "ClsCoef score:  0.900232645730753\n",
            "Hubs score:  0.983892474439038\n",
            "T2 score:  0.17066666666666666\n",
            "T3 score:  0.07066666666666667\n",
            "T4 score:  0.4140625\n",
            "C1 score:  0.0013590429648728808\n",
            "C2 score:  0.0007740423882753866\n"
          ],
          "name": "stdout"
        }
      ]
    },
    {
      "cell_type": "code",
      "metadata": {
        "id": "1XsfNNRowS-E",
        "colab": {
          "base_uri": "https://localhost:8080/"
        },
        "outputId": "22818cf5-8e18-4341-dedc-6590bf6ac987"
      },
      "source": [
        "compute_all_measures(FTR_X_cifar, Y_cifar)"
      ],
      "execution_count": null,
      "outputs": [
        {
          "output_type": "stream",
          "text": [
            "F1 score:  0.7404271001611011\n",
            "F1v score:  0\n",
            "F2 score:  0.0\n"
          ],
          "name": "stdout"
        },
        {
          "output_type": "stream",
          "text": [
            "/content/drive/MyDrive/Complexity-Measure/measures.py:163: RuntimeWarning: invalid value encountered in true_divide\n",
            "  ratio = overlap_/range_\n"
          ],
          "name": "stderr"
        },
        {
          "output_type": "stream",
          "text": [
            "F3 score:  0.0\n",
            "\n",
            "\n",
            "\n",
            "\n",
            "\n",
            "\n",
            "\n",
            "\n",
            "\n",
            "\n",
            "F4 score:  0.0\n",
            "R1 score:  0.0\n",
            "R2 score:  0.0\n",
            "R3 score:  0.0\n",
            "N1 score:  0.721\n",
            "N2 score:  0.5049166394624254\n",
            "N3 score:  0.608\n",
            "N4 score:  0.1266666666666667\n",
            "LSC score:  0.9996926666666667\n",
            "Density score:  0.9001158163832389\n",
            "ClsCoef score:  0.898845411965076\n",
            "Hubs score:  0.98248540919774\n",
            "T2 score:  0.17066666666666666\n",
            "T3 score:  0.12233333333333334\n",
            "T4 score:  0.716796875\n",
            "C1 score:  0.0004004502936129084\n",
            "C2 score:  0.0002273608255608517\n"
          ],
          "name": "stdout"
        }
      ]
    },
    {
      "cell_type": "markdown",
      "metadata": {
        "id": "EpHIFM-wnCbD"
      },
      "source": [
        "# Classify balanced wine dataset using SVM"
      ]
    },
    {
      "cell_type": "code",
      "metadata": {
        "id": "OyHoLHkEUTAh"
      },
      "source": [
        "from sklearn.datasets import load_wine\n",
        "\n",
        "data_wine = load_wine()\n",
        "Y_wine = data_wine.target\n",
        "X_wine = data_wine.data\n",
        "X_wine = X_wine[:,0:4]\n",
        "\n",
        "X_wine_bal = X_wine\n",
        "Y_wine_bal = Y_wine"
      ],
      "execution_count": 20,
      "outputs": []
    },
    {
      "cell_type": "code",
      "metadata": {
        "colab": {
          "base_uri": "https://localhost:8080/"
        },
        "id": "2G4xXRLCl7h-",
        "outputId": "1bb2240b-2b52-446c-d082-c9f15f1bae3c"
      },
      "source": [
        "classes, class_freqs = np.unique(Y_wine, return_counts=True)\n",
        "a = max(class_freqs) - class_freqs[0]\n",
        "b = max(class_freqs) - class_freqs[1]\n",
        "c = max(class_freqs) - class_freqs[2]\n",
        "counter =  a + b + c\n",
        "while counter > 0:\n",
        "    r = random.randint(0, X_wine.shape[0])\n",
        "    if Y_wine[r] == classes[0] and a > 0:\n",
        "        a = a -1\n",
        "        X_wine_bal = np.append(X_wine_bal, [X_wine[r]], axis=0)\n",
        "        Y_wine_bal = np.append(Y_wine_bal, [Y_wine[r]], axis=0)\n",
        "        counter = counter - 1\n",
        "    elif Y_wine[r] == classes[1] and b > 0:\n",
        "        b = b - 1\n",
        "        X_wine_bal = np.append(X_wine_bal, [X_wine[r]], axis=0)\n",
        "        Y_wine_bal = np.append(Y_wine_bal, [Y_wine[r]], axis=0)\n",
        "        counter = counter - 1\n",
        "    elif Y_wine[r] == classes[2] and c > 0:\n",
        "        c = c - 1\n",
        "        X_wine_bal = np.append(X_wine_bal, [X_wine[r]], axis=0)\n",
        "        Y_wine_bal = np.append(Y_wine_bal, [Y_wine[r]], axis=0)\n",
        "        counter = counter - 1\n",
        "classes, class_freqs = np.unique(Y_wine_bal, return_counts=True)\n",
        "print(classes, class_freqs)"
      ],
      "execution_count": 21,
      "outputs": [
        {
          "output_type": "stream",
          "text": [
            "[0 1 2] [71 71 71]\n"
          ],
          "name": "stdout"
        }
      ]
    },
    {
      "cell_type": "code",
      "metadata": {
        "id": "frfM8ia_l7aR"
      },
      "source": [
        "from sklearn.model_selection import train_test_split\n",
        "X_train_wine, X_test_wine, Y_train_wine, Y_test_wine = train_test_split(X_wine, Y_wine, test_size = 0.1)\n",
        "X_train_wine_bal, X_test_wine_bal, Y_train_wine_bal, Y_test_wine_bal = train_test_split(X_wine_bal, Y_wine_bal, test_size = 0.1)"
      ],
      "execution_count": 22,
      "outputs": []
    },
    {
      "cell_type": "code",
      "metadata": {
        "colab": {
          "base_uri": "https://localhost:8080/"
        },
        "id": "K5rDR_yYl7Qy",
        "outputId": "d60a34ab-5f6b-4ef8-ae95-78361f9121ac"
      },
      "source": [
        "model_wine = SVC(kernel = 'linear')\n",
        "model_wine.fit(X_train_wine, Y_train_wine)\n",
        "print(\"wine dataset train accuracy: \" + str(model_wine.score(X_train_wine, Y_train_wine)))\n",
        "print(\"wine dataset test accuracy: \" + str(model_wine.score(X_test_wine, Y_test_wine)))\n",
        "print(\"-----------------------------------------------\")\n",
        "model_wine_bl = SVC(kernel = 'linear')\n",
        "model_wine_bl.fit(X_train_wine_bal, Y_train_wine_bal)\n",
        "print(\"wine(balanced) dataset train accuracy: \" + str(model_wine_bl.score(X_train_wine_bal, Y_train_wine_bal)))\n",
        "print(\"wine(balanced) dataset test accuracy: \" + str(model_wine_bl.score(X_test_wine, Y_test_wine)))"
      ],
      "execution_count": 23,
      "outputs": [
        {
          "output_type": "stream",
          "text": [
            "wine dataset train accuracy: 0.86875\n",
            "wine dataset test accuracy: 0.7222222222222222\n",
            "-----------------------------------------------\n",
            "wine(balanced) dataset train accuracy: 0.8586387434554974\n",
            "wine(balanced) dataset test accuracy: 0.8333333333333334\n"
          ],
          "name": "stdout"
        }
      ]
    }
  ]
}