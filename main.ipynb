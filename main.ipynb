{
  "nbformat": 4,
  "nbformat_minor": 0,
  "metadata": {
    "colab": {
      "name": "main.ipynb",
      "provenance": []
    },
    "kernelspec": {
      "name": "python3",
      "display_name": "Python 3"
    },
    "language_info": {
      "name": "python"
    }
  },
  "cells": [
    {
      "cell_type": "code",
      "metadata": {
        "colab": {
          "base_uri": "https://localhost:8080/"
        },
        "id": "2GoRaMRSnl12",
        "outputId": "b85d61d8-6d12-4e40-fcea-9fe075e1bf76"
      },
      "source": [
        "%cd drive/MyDrive/Complexity-Measure/"
      ],
      "execution_count": 1,
      "outputs": [
        {
          "output_type": "stream",
          "text": [
            "/content/drive/MyDrive/Complexity-Measure\n"
          ],
          "name": "stdout"
        }
      ]
    },
    {
      "cell_type": "code",
      "metadata": {
        "colab": {
          "base_uri": "https://localhost:8080/"
        },
        "id": "mwffCtufn2Xo",
        "outputId": "38193dfc-ac2b-4639-f093-9147e588b4eb"
      },
      "source": [
        "!pip install gower"
      ],
      "execution_count": 6,
      "outputs": [
        {
          "output_type": "stream",
          "text": [
            "Collecting gower\n",
            "  Downloading gower-0.0.5.tar.gz (4.4 kB)\n",
            "Requirement already satisfied: numpy in /usr/local/lib/python3.7/dist-packages (from gower) (1.19.5)\n",
            "Requirement already satisfied: scipy in /usr/local/lib/python3.7/dist-packages (from gower) (1.4.1)\n",
            "Building wheels for collected packages: gower\n",
            "  Building wheel for gower (setup.py) ... \u001b[?25l\u001b[?25hdone\n",
            "  Created wheel for gower: filename=gower-0.0.5-py3-none-any.whl size=4231 sha256=3239b918f327a89ab0782513a4793d1a7592757470d4c000a5bf70e04d6b0502\n",
            "  Stored in directory: /root/.cache/pip/wheels/3e/f9/9a/67122a959a424e9cbb4557a8366c871a30e31cd75f0d003db4\n",
            "Successfully built gower\n",
            "Installing collected packages: gower\n",
            "Successfully installed gower-0.0.5\n"
          ],
          "name": "stdout"
        }
      ]
    },
    {
      "cell_type": "code",
      "metadata": {
        "id": "JVDTI2uSnnb_"
      },
      "source": [
        "from sklearn.datasets import load_iris \n",
        "data_iris = load_iris() \n",
        "Y_iris = data_iris.target \n",
        "X_iris = data_iris.data"
      ],
      "execution_count": 4,
      "outputs": []
    },
    {
      "cell_type": "code",
      "metadata": {
        "colab": {
          "base_uri": "https://localhost:8080/"
        },
        "id": "OpzJ15einqyT",
        "outputId": "cdcadef7-19d6-4d3c-ada3-ce7674c97497"
      },
      "source": [
        "from measures import * \n",
        "compute_all_measures(X_iris, Y_iris)"
      ],
      "execution_count": 8,
      "outputs": [
        {
          "output_type": "stream",
          "text": [
            "F1 score:  0.05862828094263205\n",
            "F1v score:  0.009504560529310946\n",
            "F2 score:  0.0063817663817663794\n",
            "F3 score:  0.0\n",
            "F4 score:  0.043333333333333335\n",
            "R1 score:  0.0024530613906084773\n",
            "R2 score:  0.006666666666666667\n",
            "R3 score:  0.006666666666666667\n",
            "N1 score:  0.10666666666666667\n",
            "N2 score:  0.1579103939429765\n",
            "N3 score:  0.06000000000000005\n",
            "N4 score:  0.06666666666666665\n",
            "LSC score:  0.8166222222222222\n",
            "Density score:  0.8659060402684564\n",
            "ClsCoef score:  0.5841352870269286\n",
            "Hubs score:  0.9254792751658363\n",
            "T2 score:  0.02666666666666667\n",
            "T3 score:  0.013333333333333334\n",
            "T4 score:  0.5\n",
            "C1 score:  2.220446049250313e-16\n",
            "C2 score:  0.0\n"
          ],
          "name": "stdout"
        }
      ]
    },
    {
      "cell_type": "code",
      "metadata": {
        "id": "chxyGRREnvpp"
      },
      "source": [
        ""
      ],
      "execution_count": null,
      "outputs": []
    }
  ]
}