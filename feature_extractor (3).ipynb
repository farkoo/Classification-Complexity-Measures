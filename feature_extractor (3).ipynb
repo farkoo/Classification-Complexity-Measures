{
  "nbformat": 4,
  "nbformat_minor": 0,
  "metadata": {
    "colab": {
      "name": "feature-extractor.ipynb",
      "provenance": [],
      "collapsed_sections": []
    },
    "kernelspec": {
      "display_name": "Python 3",
      "name": "python3"
    },
    "language_info": {
      "name": "python"
    }
  },
  "cells": [
    {
      "cell_type": "code",
      "metadata": {
        "colab": {
          "base_uri": "https://localhost:8080/"
        },
        "id": "9NhiWBVyAwgn",
        "outputId": "835a9247-bc1d-4f37-f563-617243c3a6da"
      },
      "source": [
        "%cd drive/MyDrive/Complexity-Measure/"
      ],
      "execution_count": 1,
      "outputs": [
        {
          "output_type": "stream",
          "text": [
            "/content/drive/MyDrive/Complexity-Measure\n"
          ],
          "name": "stdout"
        }
      ]
    },
    {
      "cell_type": "code",
      "metadata": {
        "colab": {
          "base_uri": "https://localhost:8080/"
        },
        "id": "iD1ka41M21Da",
        "outputId": "d0972996-f64a-4b67-c5e3-cd0b24d9639a"
      },
      "source": [
        "!pip install gower;"
      ],
      "execution_count": 2,
      "outputs": [
        {
          "output_type": "stream",
          "text": [
            "Collecting gower\n",
            "  Downloading gower-0.0.5.tar.gz (4.4 kB)\n",
            "Requirement already satisfied: numpy in /usr/local/lib/python3.7/dist-packages (from gower) (1.19.5)\n",
            "Requirement already satisfied: scipy in /usr/local/lib/python3.7/dist-packages (from gower) (1.4.1)\n",
            "Building wheels for collected packages: gower\n",
            "  Building wheel for gower (setup.py) ... \u001b[?25l\u001b[?25hdone\n",
            "  Created wheel for gower: filename=gower-0.0.5-py3-none-any.whl size=4231 sha256=ffd09c6577b6af301cd0a4031c25290d6c575d1dc52f6613f797ccefc76f04b4\n",
            "  Stored in directory: /root/.cache/pip/wheels/3e/f9/9a/67122a959a424e9cbb4557a8366c871a30e31cd75f0d003db4\n",
            "Successfully built gower\n",
            "Installing collected packages: gower\n",
            "Successfully installed gower-0.0.5\n"
          ],
          "name": "stdout"
        }
      ]
    },
    {
      "cell_type": "code",
      "metadata": {
        "id": "V97iWnn8tr0O"
      },
      "source": [
        "from tensorflow.keras.applications import VGG16, Xception, ResNet50V2\n",
        "from tensorflow.keras.layers import *\n",
        "from tensorflow.keras.models import Model, Sequential\n",
        "from tensorflow.keras import optimizers\n",
        "from tensorflow.keras import regularizers\n",
        "import numpy as np\n",
        "import cv2\n",
        "from tensorflow.keras.datasets import mnist, cifar10\n",
        "from measures import *\n",
        "import math\n",
        "from sklearn.preprocessing import StandardScaler\n",
        "from sklearn.decomposition import PCA, KernelPCA"
      ],
      "execution_count": 3,
      "outputs": []
    },
    {
      "cell_type": "code",
      "metadata": {
        "id": "He3HPWXsuNH1"
      },
      "source": [
        "from keras import backend as K\n",
        "K.clear_session()"
      ],
      "execution_count": 4,
      "outputs": []
    },
    {
      "cell_type": "code",
      "metadata": {
        "colab": {
          "base_uri": "https://localhost:8080/"
        },
        "id": "MZtnFOUvwEfu",
        "outputId": "daecc100-8131-445d-9b5e-45dea637b0c8"
      },
      "source": [
        "(x_train_mnist, y_train_mnist), (x_test, y_test) = mnist.load_data()\n",
        "x_train_mnist.shape, y_train_mnist.shape"
      ],
      "execution_count": 5,
      "outputs": [
        {
          "output_type": "stream",
          "text": [
            "Downloading data from https://storage.googleapis.com/tensorflow/tf-keras-datasets/mnist.npz\n",
            "11493376/11490434 [==============================] - 0s 0us/step\n"
          ],
          "name": "stdout"
        },
        {
          "output_type": "execute_result",
          "data": {
            "text/plain": [
              "((60000, 28, 28), (60000,))"
            ]
          },
          "metadata": {
            "tags": []
          },
          "execution_count": 5
        }
      ]
    },
    {
      "cell_type": "code",
      "metadata": {
        "colab": {
          "base_uri": "https://localhost:8080/"
        },
        "id": "U4oz6zDJf9wt",
        "outputId": "09558989-6f67-4d10-da6b-21cd0c807f99"
      },
      "source": [
        "(x_train_cifar, y_train_cifar), (x_test, y_test) = cifar10.load_data()\n",
        "x_train_cifar.shape, y_train_cifar.shape"
      ],
      "execution_count": 6,
      "outputs": [
        {
          "output_type": "stream",
          "text": [
            "Downloading data from https://www.cs.toronto.edu/~kriz/cifar-10-python.tar.gz\n",
            "170500096/170498071 [==============================] - 2s 0us/step\n"
          ],
          "name": "stdout"
        },
        {
          "output_type": "execute_result",
          "data": {
            "text/plain": [
              "((50000, 32, 32, 3), (50000, 1))"
            ]
          },
          "metadata": {
            "tags": []
          },
          "execution_count": 6
        }
      ]
    },
    {
      "cell_type": "code",
      "metadata": {
        "id": "EtOWpBcK-SK7"
      },
      "source": [
        "def one_to_three_dim(x_train, dim):\n",
        "  img_lst = []\n",
        "  for i in range(len(x_train)):\n",
        "    img = cv2.resize(x_train[i], dim, interpolation = cv2.INTER_AREA) \n",
        "    img = np.asarray(np.dstack((img, img, img)), dtype=np.uint8)\n",
        "    img_lst.append(img)\n",
        "  rgb_arr = np.stack([img_lst],axis=4)\n",
        "  rgb_arr_to_3d = np.squeeze(rgb_arr, axis=4)\n",
        "  return rgb_arr_to_3d"
      ],
      "execution_count": null,
      "outputs": []
    },
    {
      "cell_type": "code",
      "metadata": {
        "id": "ZCo4LOq2_Gnr"
      },
      "source": [
        "def feature_extractor(images, model, x, y, z):\n",
        "  feature_list = []\n",
        "  for i in range(len(images)):\n",
        "    img_array = np.expand_dims(images[i], axis=0)\n",
        "    features = model.predict(img_array)\n",
        "    feature_list.append(features)\n",
        "  feat_lt = np.reshape(feature_list, (-1, x*y*z))\n",
        "  return feat_lt"
      ],
      "execution_count": null,
      "outputs": []
    },
    {
      "cell_type": "code",
      "metadata": {
        "colab": {
          "base_uri": "https://localhost:8080/"
        },
        "id": "05__77bX2JmS",
        "outputId": "55af3d4a-bc4b-4cb0-d5f8-199bc91fe74c"
      },
      "source": [
        "dim = (32, 32)\n",
        "rgb_list = one_to_three_dim(x_train_mnist, dim)\n",
        "print(rgb_list.shape)"
      ],
      "execution_count": null,
      "outputs": [
        {
          "output_type": "stream",
          "text": [
            "(60000, 32, 32, 3)\n"
          ],
          "name": "stdout"
        }
      ]
    },
    {
      "cell_type": "code",
      "metadata": {
        "colab": {
          "base_uri": "https://localhost:8080/"
        },
        "id": "jutDBsFZ3pu7",
        "outputId": "78f0e0d3-bb40-4c1d-c638-8bd38d4d0904"
      },
      "source": [
        "vgg = VGG16(weights='imagenet',\n",
        "            include_top=False,\n",
        "            input_shape=(32, 32, 3))\n",
        "\n",
        "for layers in vgg.layers:\n",
        "  layers.trainable=False\n",
        "\n",
        "print(vgg.output)\n"
      ],
      "execution_count": null,
      "outputs": [
        {
          "output_type": "stream",
          "text": [
            "Downloading data from https://storage.googleapis.com/tensorflow/keras-applications/vgg16/vgg16_weights_tf_dim_ordering_tf_kernels_notop.h5\n",
            "58892288/58889256 [==============================] - 1s 0us/step\n",
            "KerasTensor(type_spec=TensorSpec(shape=(None, 1, 1, 512), dtype=tf.float32, name=None), name='block5_pool/MaxPool:0', description=\"created by layer 'block5_pool'\")\n"
          ],
          "name": "stdout"
        }
      ]
    },
    {
      "cell_type": "code",
      "metadata": {
        "id": "Q_h5s7fQCNlS"
      },
      "source": [
        "vgg_features_mnist = feature_extractor(rgb_list[0:10000], vgg, 1, 1, 512)\n",
        "np.save(\"vgg16_features_mnist.npy\", vgg_features_mnist)\n",
        "vgg_features_cifar = feature_extractor(x_train_cifar[0:10000], vgg, 1, 1, 512)\n",
        "np.save(\"vgg16_features_cifar.npy\", vgg_features_cifar)"
      ],
      "execution_count": null,
      "outputs": []
    },
    {
      "cell_type": "code",
      "metadata": {
        "colab": {
          "base_uri": "https://localhost:8080/"
        },
        "id": "y-_6zPwhZy3b",
        "outputId": "58eb808a-e2bd-4144-87d5-ef948cae1b9f"
      },
      "source": [
        "PCA_X_mnist = x_train_mnist[0:10000]\n",
        "PCA_Y_mnist = y_train_mnist[0:10000]\n",
        "PCA_X_mnist = PCA_X_mnist/255\n",
        "X_mnist_flat = PCA_X_mnist.reshape(-1, 28*28)\n",
        "pca_mnist = PCA(0.9)\n",
        "principalComponents_mnist = pca_mnist.fit_transform(X_mnist_flat)\n",
        "principalComponents_mnist.shape"
      ],
      "execution_count": 16,
      "outputs": [
        {
          "output_type": "execute_result",
          "data": {
            "text/plain": [
              "(10000, 85)"
            ]
          },
          "metadata": {
            "tags": []
          },
          "execution_count": 16
        }
      ]
    },
    {
      "cell_type": "code",
      "metadata": {
        "colab": {
          "base_uri": "https://localhost:8080/"
        },
        "id": "uh1xqV5a_O9E",
        "outputId": "de347d86-11f5-44bf-9e61-2ab1c9c2bfa5"
      },
      "source": [
        "compute_all_measures(principalComponents_mnist, PCA_Y_mnist)"
      ],
      "execution_count": null,
      "outputs": [
        {
          "output_type": "stream",
          "text": [
            "F1 score:  0.3291913251953884\n",
            "F1v score:  0.009387770114908826\n",
            "F2 score:  1.7578469154652546e-07\n",
            "F3 score:  3.7027312477213457\n",
            "\n",
            "\n",
            "\n",
            "\n",
            "\n",
            "\n",
            "\n",
            "\n",
            "F4 score:  0.15668849313386993\n",
            "R1 score:  0.0036440538195428363\n",
            "R2 score:  0.0272\n",
            "R3 score:  0.0129\n",
            "N1 score:  0.1412\n",
            "N2 score:  0.4292963703427572\n",
            "N3 score:  0.07110000000000005\n",
            "N4 score:  0.015000000000000013\n",
            "LSC score:  0.99540873\n",
            "Density score:  0.9233215921592159\n",
            "ClsCoef score:  0.9202931282054626\n",
            "Hubs score:  0.9941303588420946\n",
            "T2 score:  0.0085\n",
            "T3 score:  1.0493827160493827\n",
            "T4 score:  117.6470588235294\n",
            "C1 score:  0.0009846166111157073\n",
            "C2 score:  0.0005563602001831258\n"
          ],
          "name": "stdout"
        }
      ]
    },
    {
      "cell_type": "code",
      "metadata": {
        "colab": {
          "base_uri": "https://localhost:8080/"
        },
        "id": "e7HxeYg7qjHi",
        "outputId": "b586f691-ad4f-41d0-a17a-310c53530ee6"
      },
      "source": [
        "PCA_X_cifar = x_train_cifar[0:10000]\n",
        "PCA_Y_cifar = y_train_cifar[0:10000].reshape(10000)\n",
        "PCA_X_cifar = PCA_X_cifar/255\n",
        "X_cifar_flat = PCA_X_cifar.reshape(-1, 32*32*3)\n",
        "pca_cifar = PCA(0.9)\n",
        "principalComponents_cifar = pca_cifar.fit_transform(X_cifar_flat)\n",
        "principalComponents_cifar.shape"
      ],
      "execution_count": 17,
      "outputs": [
        {
          "output_type": "execute_result",
          "data": {
            "text/plain": [
              "(10000, 96)"
            ]
          },
          "metadata": {
            "tags": []
          },
          "execution_count": 17
        }
      ]
    },
    {
      "cell_type": "code",
      "metadata": {
        "colab": {
          "base_uri": "https://localhost:8080/"
        },
        "id": "bDI0PR_Pq2Vw",
        "outputId": "e587e06a-a41b-4ecf-d31f-87cdb34f5f1f"
      },
      "source": [
        "compute_all_measures(principalComponents_cifar, PCA_Y_cifar)"
      ],
      "execution_count": null,
      "outputs": [
        {
          "output_type": "stream",
          "text": [
            "F1 score:  0.8593337119300521\n",
            "F1v score:  0.04442644318520848\n",
            "F2 score:  3.00057906810976e-08\n",
            "F3 score:  4.902795564973681\n",
            "F4 score:  0.6822646324459863\n",
            "R1 score:  0.17487009631787268\n",
            "R2 score:  0.5517\n",
            "R3 score:  0.4747\n",
            "N1 score:  0.7992\n",
            "N2 score:  0.507231135804327\n",
            "N3 score:  0.7303999999999999\n",
            "N4 score:  0.23909999999999998\n",
            "LSC score:  0.99992041\n",
            "Density score:  0.9047292929292929\n",
            "ClsCoef score:  0.904920420662385\n",
            "Hubs score:  0.9905723421217026\n",
            "T2 score:  0.0096\n",
            "T3 score:  1.0434782608695652\n",
            "T4 score:  104.16666666666667\n",
            "C1 score:  0.00017168016136659414\n",
            "C2 score:  9.649163956748641e-05\n"
          ],
          "name": "stdout"
        }
      ]
    },
    {
      "cell_type": "code",
      "metadata": {
        "id": "RkNJhkUQh8aC"
      },
      "source": [
        "FTR_X_mnist = np.load(\"vgg16_features_mnist.npy\")\n",
        "FTR_X_mnist = FTR_X_mnist[0:3000]\n",
        "Y_mnist = y_train_mnist[0:3000].reshape(3000)"
      ],
      "execution_count": 11,
      "outputs": []
    },
    {
      "cell_type": "code",
      "metadata": {
        "colab": {
          "base_uri": "https://localhost:8080/"
        },
        "id": "9dMO5pW7AOGV",
        "outputId": "a9e934fe-a94f-4746-b826-02ac284c7246"
      },
      "source": [
        "compute_all_measures(FTR_X_mnist, Y_mnist)"
      ],
      "execution_count": 12,
      "outputs": [
        {
          "output_type": "stream",
          "text": [
            "F1 score:  0.2711741534621569\n"
          ],
          "name": "stdout"
        },
        {
          "output_type": "stream",
          "text": [
            "/usr/local/lib/python3.7/dist-packages/numpy/core/fromnumeric.py:3373: RuntimeWarning: Mean of empty slice.\n",
            "  out=out, **kwargs)\n",
            "/usr/local/lib/python3.7/dist-packages/numpy/core/_methods.py:170: RuntimeWarning: invalid value encountered in double_scalars\n",
            "  ret = ret.dtype.type(ret / rcount)\n",
            "/content/drive/MyDrive/Complexity-Measure/measures.py:159: RuntimeWarning: invalid value encountered in true_divide\n",
            "  ratio = overlap_/range_\n"
          ],
          "name": "stderr"
        },
        {
          "output_type": "stream",
          "text": [
            "F1v score:  nan\n",
            "F2 score:  0.0\n",
            "F3 score:  0.0\n",
            "\n",
            "\n",
            "\n",
            "\n",
            "\n",
            "\n",
            "\n",
            "\n",
            "F4 score:  0.0\n",
            "R1 score:  0.0\n",
            "R2 score:  0.0\n",
            "R3 score:  0.0\n",
            "N1 score:  0.21133333333333335\n",
            "N2 score:  0.4259964227012036\n",
            "N3 score:  0.1166666666666667\n",
            "N4 score:  0.07566666666666666\n",
            "LSC score:  0.9936381111111111\n",
            "Density score:  0.899673224408136\n",
            "ClsCoef score:  0.900232645730753\n",
            "Hubs score:  0.983892474439038\n",
            "T2 score:  0.17066666666666666\n",
            "T3 score:  2.4150943396226414\n",
            "T4 score:  5.859375\n",
            "C1 score:  0.0013590429648728808\n",
            "C2 score:  0.0007740423882753866\n"
          ],
          "name": "stdout"
        }
      ]
    },
    {
      "cell_type": "code",
      "metadata": {
        "id": "imGSOgSQwGEa"
      },
      "source": [
        "FTR_X_cifar = np.load(\"vgg16_features_cifar.npy\")\n",
        "FTR_X_cifar = FTR_X_cifar[0:3000]\n",
        "Y_cifar = y_train_cifar[0:3000].reshape(3000)"
      ],
      "execution_count": 13,
      "outputs": []
    },
    {
      "cell_type": "code",
      "metadata": {
        "id": "1XsfNNRowS-E",
        "colab": {
          "base_uri": "https://localhost:8080/"
        },
        "outputId": "60712745-f5ba-4c08-c610-b1cdd604203e"
      },
      "source": [
        "compute_all_measures(FTR_X_cifar, Y_cifar)"
      ],
      "execution_count": 14,
      "outputs": [
        {
          "output_type": "stream",
          "text": [
            "F1 score:  0.7404271001611011\n"
          ],
          "name": "stdout"
        },
        {
          "output_type": "stream",
          "text": [
            "/usr/local/lib/python3.7/dist-packages/numpy/core/fromnumeric.py:3373: RuntimeWarning: Mean of empty slice.\n",
            "  out=out, **kwargs)\n",
            "/usr/local/lib/python3.7/dist-packages/numpy/core/_methods.py:170: RuntimeWarning: invalid value encountered in double_scalars\n",
            "  ret = ret.dtype.type(ret / rcount)\n",
            "/content/drive/MyDrive/Complexity-Measure/measures.py:159: RuntimeWarning: invalid value encountered in true_divide\n",
            "  ratio = overlap_/range_\n"
          ],
          "name": "stderr"
        },
        {
          "output_type": "stream",
          "text": [
            "F1v score:  nan\n",
            "F2 score:  0.0\n",
            "F3 score:  0.0\n",
            "\n",
            "\n",
            "\n",
            "\n",
            "\n",
            "\n",
            "\n",
            "\n",
            "\n",
            "\n",
            "F4 score:  0.0\n",
            "R1 score:  0.0\n",
            "R2 score:  0.0\n",
            "R3 score:  0.0\n",
            "N1 score:  0.721\n",
            "N2 score:  0.5049166394624254\n",
            "N3 score:  0.608\n",
            "N4 score:  0.1266666666666667\n",
            "LSC score:  0.9996926666666667\n",
            "Density score:  0.9001158163832389\n",
            "ClsCoef score:  0.898845411965076\n",
            "Hubs score:  0.98248540919774\n",
            "T2 score:  0.17066666666666666\n",
            "T3 score:  1.3950953678474114\n",
            "T4 score:  5.859375\n",
            "C1 score:  0.0004004502936129084\n",
            "C2 score:  0.0002273608255608517\n"
          ],
          "name": "stdout"
        }
      ]
    },
    {
      "cell_type": "code",
      "metadata": {
        "id": "61Tc5BlNwXMu",
        "colab": {
          "base_uri": "https://localhost:8080/"
        },
        "outputId": "bb7ac62f-2c26-4840-9ac5-5c353f6f7d07"
      },
      "source": [
        "compute_all_measures(principalComponents_mnist[0:3000], PCA_Y_mnist[0:3000])"
      ],
      "execution_count": 18,
      "outputs": [
        {
          "output_type": "stream",
          "text": [
            "F1 score:  0.33171914840455174\n",
            "F1v score:  0.005406322899842282\n",
            "F2 score:  1.697273214524083e-08\n",
            "F3 score:  3.239426738146546\n",
            "\n",
            "\n",
            "\n",
            "\n",
            "\n",
            "\n",
            "F4 score:  0.0\n",
            "R1 score:  0.0006476492032878354\n",
            "R2 score:  0.0036666666666666666\n",
            "R3 score:  0.0016666666666666668\n",
            "N1 score:  0.22266666666666668\n",
            "N2 score:  0.43930449339441946\n",
            "N3 score:  0.1136666666666667\n",
            "N4 score:  0.012666666666666715\n",
            "LSC score:  0.9937476666666667\n",
            "Density score:  0.9447480271201512\n",
            "ClsCoef score:  0.9371864477717142\n",
            "Hubs score:  0.9925139826088891\n",
            "T2 score:  0.028333333333333332\n",
            "T3 score:  1.0625\n",
            "T4 score:  35.294117647058826\n",
            "C1 score:  0.0013590429648728808\n",
            "C2 score:  0.0007740423882753866\n"
          ],
          "name": "stdout"
        }
      ]
    },
    {
      "cell_type": "code",
      "metadata": {
        "colab": {
          "base_uri": "https://localhost:8080/"
        },
        "id": "0IgBiburMISe",
        "outputId": "7c4f07f4-8c71-4884-b11b-74aa5021b901"
      },
      "source": [
        "compute_all_measures(principalComponents_cifar[0:3000], PCA_Y_cifar[0:3000])"
      ],
      "execution_count": 19,
      "outputs": [
        {
          "output_type": "stream",
          "text": [
            "F1 score:  0.8357211560360295\n",
            "F1v score:  0.02219045827966898\n",
            "F2 score:  1.5342934172728558e-09\n",
            "F3 score:  4.728473643913595\n",
            "\n",
            "\n",
            "\n",
            "\n",
            "\n",
            "\n",
            "\n",
            "\n",
            "\n",
            "\n",
            "\n",
            "\n",
            "F4 score:  0.0\n",
            "R1 score:  0.09366829702308506\n",
            "R2 score:  0.45366666666666666\n",
            "R3 score:  0.38866666666666666\n",
            "N1 score:  0.8286666666666667\n",
            "N2 score:  0.5107003368140132\n",
            "N3 score:  0.762\n",
            "N4 score:  0.18000000000000005\n",
            "LSC score:  0.9997692222222222\n",
            "Density score:  0.914973657885962\n",
            "ClsCoef score:  0.9167401681457262\n",
            "Hubs score:  0.9852263046821048\n",
            "T2 score:  0.032\n",
            "T3 score:  1.0666666666666667\n",
            "T4 score:  31.25\n",
            "C1 score:  0.0004004502936129084\n",
            "C2 score:  0.0002273608255608517\n"
          ],
          "name": "stdout"
        }
      ]
    },
    {
      "cell_type": "code",
      "metadata": {
        "id": "437CkKV9MOgK"
      },
      "source": [
        ""
      ],
      "execution_count": null,
      "outputs": []
    }
  ]
}