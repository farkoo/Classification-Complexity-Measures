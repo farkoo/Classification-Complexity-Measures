{
  "nbformat": 4,
  "nbformat_minor": 0,
  "metadata": {
    "accelerator": "GPU",
    "colab": {
      "name": "feature-extractor.ipynb",
      "provenance": [],
      "collapsed_sections": []
    },
    "kernelspec": {
      "display_name": "Python 3",
      "name": "python3"
    },
    "language_info": {
      "name": "python"
    }
  },
  "cells": [
    {
      "cell_type": "code",
      "metadata": {
        "colab": {
          "base_uri": "https://localhost:8080/"
        },
        "id": "9NhiWBVyAwgn",
        "outputId": "4b65ba88-08c1-4c30-e0b3-8d4e34bbdae5"
      },
      "source": [
        "%cd drive/MyDrive/Complexity-Measure/"
      ],
      "execution_count": null,
      "outputs": [
        {
          "output_type": "stream",
          "text": [
            "/content/drive/MyDrive/Complexity-Measure\n"
          ],
          "name": "stdout"
        }
      ]
    },
    {
      "cell_type": "code",
      "metadata": {
        "colab": {
          "base_uri": "https://localhost:8080/"
        },
        "id": "iD1ka41M21Da",
        "outputId": "3e7b2acc-f73c-477c-b816-c69a577d1636"
      },
      "source": [
        "!pip install gower;"
      ],
      "execution_count": null,
      "outputs": [
        {
          "output_type": "stream",
          "text": [
            "Collecting gower\n",
            "  Downloading gower-0.0.5.tar.gz (4.4 kB)\n",
            "Requirement already satisfied: numpy in /usr/local/lib/python3.7/dist-packages (from gower) (1.19.5)\n",
            "Requirement already satisfied: scipy in /usr/local/lib/python3.7/dist-packages (from gower) (1.4.1)\n",
            "Building wheels for collected packages: gower\n",
            "  Building wheel for gower (setup.py) ... \u001b[?25l\u001b[?25hdone\n",
            "  Created wheel for gower: filename=gower-0.0.5-py3-none-any.whl size=4231 sha256=a6157b375d10cc80472ed22f97eb7186a795c3d5bca2aafb04cb74a0275623af\n",
            "  Stored in directory: /root/.cache/pip/wheels/3e/f9/9a/67122a959a424e9cbb4557a8366c871a30e31cd75f0d003db4\n",
            "Successfully built gower\n",
            "Installing collected packages: gower\n",
            "Successfully installed gower-0.0.5\n"
          ],
          "name": "stdout"
        }
      ]
    },
    {
      "cell_type": "code",
      "metadata": {
        "id": "V97iWnn8tr0O"
      },
      "source": [
        "from tensorflow.keras.applications import VGG16, Xception, ResNet50V2\n",
        "from tensorflow.keras.layers import *\n",
        "from tensorflow.keras.models import Model, Sequential\n",
        "from tensorflow.keras import optimizers\n",
        "from tensorflow.keras import regularizers\n",
        "import numpy as np\n",
        "import cv2\n",
        "from tensorflow.keras.datasets import mnist, cifar10\n",
        "from measures import *\n",
        "import math\n",
        "from sklearn.preprocessing import StandardScaler\n",
        "from sklearn.decomposition import PCA, KernelPCA"
      ],
      "execution_count": null,
      "outputs": []
    },
    {
      "cell_type": "code",
      "metadata": {
        "id": "He3HPWXsuNH1"
      },
      "source": [
        "from keras import backend as K\n",
        "K.clear_session()"
      ],
      "execution_count": null,
      "outputs": []
    },
    {
      "cell_type": "code",
      "metadata": {
        "colab": {
          "base_uri": "https://localhost:8080/"
        },
        "id": "MZtnFOUvwEfu",
        "outputId": "a9b16370-53c3-440c-c7b1-cb4e3f86a117"
      },
      "source": [
        "(x_train_mnist, y_train_mnist), (x_test, y_test) = mnist.load_data()\n",
        "x_train_mnist.shape, y_train_mnist.shape"
      ],
      "execution_count": null,
      "outputs": [
        {
          "output_type": "stream",
          "text": [
            "Downloading data from https://storage.googleapis.com/tensorflow/tf-keras-datasets/mnist.npz\n",
            "11493376/11490434 [==============================] - 0s 0us/step\n"
          ],
          "name": "stdout"
        },
        {
          "output_type": "execute_result",
          "data": {
            "text/plain": [
              "((60000, 28, 28), (60000,))"
            ]
          },
          "metadata": {
            "tags": []
          },
          "execution_count": 6
        }
      ]
    },
    {
      "cell_type": "code",
      "metadata": {
        "colab": {
          "base_uri": "https://localhost:8080/"
        },
        "id": "U4oz6zDJf9wt",
        "outputId": "b37240e0-52c0-42e6-ba8b-1341fb48a44a"
      },
      "source": [
        "(x_train_cifar, y_train_cifar), (x_test, y_test) = cifar10.load_data()\n",
        "x_train_cifar.shape, y_train_cifar.shape"
      ],
      "execution_count": null,
      "outputs": [
        {
          "output_type": "stream",
          "text": [
            "Downloading data from https://www.cs.toronto.edu/~kriz/cifar-10-python.tar.gz\n",
            "170500096/170498071 [==============================] - 2s 0us/step\n"
          ],
          "name": "stdout"
        },
        {
          "output_type": "execute_result",
          "data": {
            "text/plain": [
              "((50000, 32, 32, 3), (50000, 1))"
            ]
          },
          "metadata": {
            "tags": []
          },
          "execution_count": 8
        }
      ]
    },
    {
      "cell_type": "code",
      "metadata": {
        "id": "EtOWpBcK-SK7"
      },
      "source": [
        "def one_to_three_dim(x_train, dim):\n",
        "  img_lst = []\n",
        "  for i in range(len(x_train)):\n",
        "    img = cv2.resize(x_train[i], dim, interpolation = cv2.INTER_AREA) \n",
        "    img = np.asarray(np.dstack((img, img, img)), dtype=np.uint8)\n",
        "    img_lst.append(img)\n",
        "  rgb_arr = np.stack([img_lst],axis=4)\n",
        "  rgb_arr_to_3d = np.squeeze(rgb_arr, axis=4)\n",
        "  return rgb_arr_to_3d"
      ],
      "execution_count": null,
      "outputs": []
    },
    {
      "cell_type": "code",
      "metadata": {
        "id": "ZCo4LOq2_Gnr"
      },
      "source": [
        "def feature_extractor(images, model, x, y, z):\n",
        "  feature_list = []\n",
        "  for i in range(len(images)):\n",
        "    img_array = np.expand_dims(images[i], axis=0)\n",
        "    features = model.predict(img_array)\n",
        "    feature_list.append(features)\n",
        "  feat_lt = np.reshape(feature_list, (-1, x*y*z))\n",
        "  return feat_lt"
      ],
      "execution_count": null,
      "outputs": []
    },
    {
      "cell_type": "code",
      "metadata": {
        "colab": {
          "base_uri": "https://localhost:8080/"
        },
        "id": "05__77bX2JmS",
        "outputId": "55af3d4a-bc4b-4cb0-d5f8-199bc91fe74c"
      },
      "source": [
        "dim = (32, 32)\n",
        "rgb_list = one_to_three_dim(x_train_mnist, dim)\n",
        "print(rgb_list.shape)"
      ],
      "execution_count": null,
      "outputs": [
        {
          "output_type": "stream",
          "text": [
            "(60000, 32, 32, 3)\n"
          ],
          "name": "stdout"
        }
      ]
    },
    {
      "cell_type": "code",
      "metadata": {
        "colab": {
          "base_uri": "https://localhost:8080/"
        },
        "id": "jutDBsFZ3pu7",
        "outputId": "78f0e0d3-bb40-4c1d-c638-8bd38d4d0904"
      },
      "source": [
        "vgg = VGG16(weights='imagenet',\n",
        "            include_top=False,\n",
        "            input_shape=(32, 32, 3))\n",
        "\n",
        "for layers in vgg.layers:\n",
        "  layers.trainable=False\n",
        "\n",
        "print(vgg.output)\n"
      ],
      "execution_count": null,
      "outputs": [
        {
          "output_type": "stream",
          "text": [
            "Downloading data from https://storage.googleapis.com/tensorflow/keras-applications/vgg16/vgg16_weights_tf_dim_ordering_tf_kernels_notop.h5\n",
            "58892288/58889256 [==============================] - 1s 0us/step\n",
            "KerasTensor(type_spec=TensorSpec(shape=(None, 1, 1, 512), dtype=tf.float32, name=None), name='block5_pool/MaxPool:0', description=\"created by layer 'block5_pool'\")\n"
          ],
          "name": "stdout"
        }
      ]
    },
    {
      "cell_type": "code",
      "metadata": {
        "id": "Q_h5s7fQCNlS"
      },
      "source": [
        "vgg_features_mnist = feature_extractor(rgb_list[0:10000], vgg, 1, 1, 512)\n",
        "np.save(\"vgg16_features_mnist.npy\", vgg_features_mnist)\n",
        "vgg_features_cifar = feature_extractor(x_train_cifar[0:10000], vgg, 1, 1, 512)\n",
        "np.save(\"vgg16_features_cifar.npy\", vgg_features_cifar)"
      ],
      "execution_count": null,
      "outputs": []
    },
    {
      "cell_type": "code",
      "metadata": {
        "colab": {
          "base_uri": "https://localhost:8080/"
        },
        "id": "y-_6zPwhZy3b",
        "outputId": "5cf8eed2-c396-4abb-a5c6-8db7378748a2"
      },
      "source": [
        "PCA_X_mnist = x_train_mnist[0:10000]\n",
        "PCA_Y_mnist = y_train_mnist[0:10000]\n",
        "PCA_X_mnist = PCA_X_mnist/255\n",
        "X_mnist_flat = PCA_X_mnist.reshape(-1, 28*28)\n",
        "pca_mnist = PCA(0.9)\n",
        "principalComponents_mnist = pca_mnist.fit_transform(X_mnist_flat)\n",
        "principalComponents_mnist.shape"
      ],
      "execution_count": null,
      "outputs": [
        {
          "output_type": "execute_result",
          "data": {
            "text/plain": [
              "(10000, 85)"
            ]
          },
          "metadata": {
            "tags": []
          },
          "execution_count": 15
        }
      ]
    },
    {
      "cell_type": "code",
      "metadata": {
        "colab": {
          "base_uri": "https://localhost:8080/"
        },
        "id": "uh1xqV5a_O9E",
        "outputId": "de347d86-11f5-44bf-9e61-2ab1c9c2bfa5"
      },
      "source": [
        "compute_all_measures(principalComponents_mnist, PCA_Y_mnist)"
      ],
      "execution_count": null,
      "outputs": [
        {
          "output_type": "stream",
          "text": [
            "F1 score:  0.3291913251953884\n",
            "F1v score:  0.009387770114908826\n",
            "F2 score:  1.7578469154652546e-07\n",
            "F3 score:  3.7027312477213457\n",
            "\n",
            "\n",
            "\n",
            "\n",
            "\n",
            "\n",
            "\n",
            "\n",
            "F4 score:  0.15668849313386993\n",
            "R1 score:  0.0036440538195428363\n",
            "R2 score:  0.0272\n",
            "R3 score:  0.0129\n",
            "N1 score:  0.1412\n",
            "N2 score:  0.4292963703427572\n",
            "N3 score:  0.07110000000000005\n",
            "N4 score:  0.015000000000000013\n",
            "LSC score:  0.99540873\n",
            "Density score:  0.9233215921592159\n",
            "ClsCoef score:  0.9202931282054626\n",
            "Hubs score:  0.9941303588420946\n",
            "T2 score:  0.0085\n",
            "T3 score:  1.0493827160493827\n",
            "T4 score:  117.6470588235294\n",
            "C1 score:  0.0009846166111157073\n",
            "C2 score:  0.0005563602001831258\n"
          ],
          "name": "stdout"
        }
      ]
    },
    {
      "cell_type": "code",
      "metadata": {
        "colab": {
          "base_uri": "https://localhost:8080/"
        },
        "id": "e7HxeYg7qjHi",
        "outputId": "93e8bdcf-7fb8-414e-97ec-d213ab25d356"
      },
      "source": [
        "PCA_X_cifar = x_train_cifar[0:10000]\n",
        "PCA_Y_cifar = y_train_cifar[0:10000].reshape(10000)\n",
        "PCA_X_cifar = PCA_X_cifar/255\n",
        "X_cifar_flat = PCA_X_cifar.reshape(-1, 32*32*3)\n",
        "pca_cifar = PCA(0.9)\n",
        "principalComponents_cifar = pca_cifar.fit_transform(X_cifar_flat)\n",
        "principalComponents_cifar.shape"
      ],
      "execution_count": null,
      "outputs": [
        {
          "output_type": "execute_result",
          "data": {
            "text/plain": [
              "((10000, 96), array([6, 9, 9, ..., 1, 1, 5], dtype=uint8))"
            ]
          },
          "metadata": {
            "tags": []
          },
          "execution_count": 27
        }
      ]
    },
    {
      "cell_type": "code",
      "metadata": {
        "colab": {
          "background_save": true,
          "base_uri": "https://localhost:8080/"
        },
        "id": "bDI0PR_Pq2Vw",
        "outputId": "9bc022fd-e983-4f25-beec-d2d499a45aa6"
      },
      "source": [
        "compute_all_measures(principalComponents_cifar, PCA_Y_cifar)"
      ],
      "execution_count": null,
      "outputs": [
        {
          "output_type": "stream",
          "text": [
            "F1 score:  0.8593337119300521\n",
            "F1v score:  0.04442644318520849\n",
            "F2 score:  3.00057906810976e-08\n",
            "F3 score:  4.902795564973681\n",
            "F4 score:  0.6822646324459863\n",
            "R1 score:  0.17487009631787248\n",
            "R2 score:  0.5517\n",
            "R3 score:  0.472\n",
            "N1 score:  0.7992\n",
            "N2 score:  0.507231135804327\n",
            "N3 score:  0.7303999999999999\n",
            "N4 score:  0.24439999999999995\n",
            "LSC score:  0.99992041\n",
            "Density score:  0.9047292929292929\n",
            "ClsCoef score:  0.904920420662385\n",
            "Hubs score:  0.9905723421217026\n",
            "T2 score:  0.0096\n",
            "T3 score:  1.0434782608695652\n",
            "T4 score:  104.16666666666667\n",
            "C1 score:  0.00017168016136659414\n",
            "C2 score:  9.649163956748641e-05\n"
          ],
          "name": "stdout"
        }
      ]
    },
    {
      "cell_type": "code",
      "metadata": {
        "id": "RkNJhkUQh8aC"
      },
      "source": [
        "FTR_X_mnist = np.load(\"vgg16_features.npy\")\n",
        "Y_mnist = y_train_cifar[0:1000]"
      ],
      "execution_count": null,
      "outputs": []
    },
    {
      "cell_type": "code",
      "metadata": {
        "colab": {
          "base_uri": "https://localhost:8080/"
        },
        "id": "9dMO5pW7AOGV",
        "outputId": "b9e79570-8b84-455e-f7fe-6fb27f4f5d96"
      },
      "source": [
        "compute_all_measures(FTR_X_mnist, Y_mnist)"
      ],
      "execution_count": null,
      "outputs": [
        {
          "output_type": "stream",
          "text": [
            "MNIST(PCA) F1 score:  0.3622180935427966\n"
          ],
          "name": "stdout"
        },
        {
          "output_type": "stream",
          "text": [
            "/usr/local/lib/python3.7/dist-packages/numpy/core/fromnumeric.py:3373: RuntimeWarning: Mean of empty slice.\n",
            "  out=out, **kwargs)\n",
            "/usr/local/lib/python3.7/dist-packages/numpy/core/_methods.py:170: RuntimeWarning: invalid value encountered in double_scalars\n",
            "  ret = ret.dtype.type(ret / rcount)\n",
            "/content/drive/MyDrive/Complexity-Measure/measures.py:159: RuntimeWarning: invalid value encountered in true_divide\n",
            "  ratio = overlap_/range_\n"
          ],
          "name": "stderr"
        },
        {
          "output_type": "stream",
          "text": [
            "MNIST(PCA) F1v score:  nan\n",
            "MNIST(PCA) F2 score:  0.0\n",
            "MNIST(PCA) F3 score:  0.0\n",
            "\n",
            "\n",
            "MNIST(PCA) F4 score:  0.0\n",
            "MNIST(PCA) R1 score:  0.0\n",
            "MNIST(PCA) R2 score:  0.0\n",
            "MNIST(PCA) R3 score:  0.0\n",
            "MNIST(PCA) N1 score:  0.187\n",
            "MNIST(PCA) N2 score:  0.4569347842733395\n",
            "MNIST(PCA) N3 score:  0.10899999999999999\n",
            "MNIST(PCA) N4 score:  0.0050000000000000044\n",
            "MNIST(PCA) LSC score:  0.990399\n",
            "MNIST(PCA) Density score:  0.900002002002002\n",
            "MNIST(PCA) ClsCoef score:  0.9010702312042197\n",
            "MNIST(PCA) Hubs score:  0.9743793037518604\n",
            "MNIST(PCA) T2 score:  2.048\n",
            "MNIST(PCA) T3 score:  4.266666666666667\n",
            "MNIST(PCA) T4 score:  0.48828125\n",
            "MNIST(PCA) C1 score:  0.001914079013448755\n",
            "MNIST(PCA) C2 score:  0.001115691269140795\n"
          ],
          "name": "stdout"
        }
      ]
    },
    {
      "cell_type": "code",
      "metadata": {
        "id": "imGSOgSQwGEa"
      },
      "source": [
        "FTR_X_cifar = np.load(\"vgg16_features.npy\")\n",
        "Y_cifar = y_train_cifar[0:1000]"
      ],
      "execution_count": null,
      "outputs": []
    },
    {
      "cell_type": "code",
      "metadata": {
        "id": "1XsfNNRowS-E"
      },
      "source": [
        "compute_all_measures(FTR_X_cifar, Y_cifar)"
      ],
      "execution_count": null,
      "outputs": []
    },
    {
      "cell_type": "code",
      "metadata": {
        "id": "61Tc5BlNwXMu"
      },
      "source": [
        ""
      ],
      "execution_count": null,
      "outputs": []
    }
  ]
}