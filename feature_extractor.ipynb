{
  "nbformat": 4,
  "nbformat_minor": 0,
  "metadata": {
    "colab": {
      "name": "feature-extractor.ipynb",
      "provenance": [],
      "collapsed_sections": [],
      "mount_file_id": "1urLjcH6ZDZ01YubKOzNG0ZIT8JeGp5U4",
      "authorship_tag": "ABX9TyPfhxuiPyex+BzMYqd41lot",
      "include_colab_link": true
    },
    "kernelspec": {
      "display_name": "Python 3",
      "name": "python3"
    },
    "language_info": {
      "name": "python"
    }
  },
  "cells": [
    {
      "cell_type": "markdown",
      "metadata": {
        "id": "view-in-github",
        "colab_type": "text"
      },
      "source": [
        "<a href=\"https://colab.research.google.com/github/farkoo/Classification-Complexity-Measures/blob/master/feature_extractor.ipynb\" target=\"_parent\"><img src=\"https://colab.research.google.com/assets/colab-badge.svg\" alt=\"Open In Colab\"/></a>"
      ]
    },
    {
      "cell_type": "code",
      "metadata": {
        "colab": {
          "base_uri": "https://localhost:8080/"
        },
        "id": "9NhiWBVyAwgn",
        "outputId": "e2321b71-1695-438d-c690-f9c6a2618f23"
      },
      "source": [
        "%cd drive/MyDrive/Complexity-Measure/"
      ],
      "execution_count": 1,
      "outputs": [
        {
          "output_type": "stream",
          "text": [
            "/content/drive/MyDrive/Complexity-Measure\n"
          ],
          "name": "stdout"
        }
      ]
    },
    {
      "cell_type": "code",
      "metadata": {
        "colab": {
          "base_uri": "https://localhost:8080/"
        },
        "id": "iD1ka41M21Da",
        "outputId": "24b7ffaf-89d8-4ce5-e1ee-bc46aa9e3ed4"
      },
      "source": [
        "!pip install gower;"
      ],
      "execution_count": 2,
      "outputs": [
        {
          "output_type": "stream",
          "text": [
            "Collecting gower\n",
            "  Downloading gower-0.0.5.tar.gz (4.4 kB)\n",
            "Requirement already satisfied: numpy in /usr/local/lib/python3.7/dist-packages (from gower) (1.19.5)\n",
            "Requirement already satisfied: scipy in /usr/local/lib/python3.7/dist-packages (from gower) (1.4.1)\n",
            "Building wheels for collected packages: gower\n",
            "  Building wheel for gower (setup.py) ... \u001b[?25l\u001b[?25hdone\n",
            "  Created wheel for gower: filename=gower-0.0.5-py3-none-any.whl size=4231 sha256=f48cfc67e12b1799803cbf76aec957f29bef29b02ce4038f937eac080d5ce730\n",
            "  Stored in directory: /root/.cache/pip/wheels/3e/f9/9a/67122a959a424e9cbb4557a8366c871a30e31cd75f0d003db4\n",
            "Successfully built gower\n",
            "Installing collected packages: gower\n",
            "Successfully installed gower-0.0.5\n"
          ],
          "name": "stdout"
        }
      ]
    },
    {
      "cell_type": "code",
      "metadata": {
        "id": "V97iWnn8tr0O"
      },
      "source": [
        "from tensorflow.keras.applications import VGG16, Xception, ResNet50V2\n",
        "from tensorflow.keras.layers import *\n",
        "from tensorflow.keras.models import Model, Sequential\n",
        "from tensorflow.keras import optimizers\n",
        "from tensorflow.keras import regularizers\n",
        "import numpy as np\n",
        "import cv2\n",
        "from tensorflow.keras.datasets import mnist, cifar10\n",
        "from measures import *\n",
        "import math\n",
        "from sklearn.preprocessing import StandardScaler\n",
        "from sklearn.decomposition import PCA, KernelPCA\n",
        "from sklearn.svm import SVC\n",
        "from sklearn import svm"
      ],
      "execution_count": 3,
      "outputs": []
    },
    {
      "cell_type": "code",
      "metadata": {
        "colab": {
          "base_uri": "https://localhost:8080/"
        },
        "id": "vSHKF5twdfY5",
        "outputId": "bb8d522a-03c7-4023-892e-952d4499bea3"
      },
      "source": [
        "# %cd drive/MyDrive/Complexity-Measure/ \n",
        "from sklearn.datasets import load_iris \n",
        "data_iris = load_iris() \n",
        "Y_iris = data_iris.target \n",
        "X_iris = data_iris.data\n",
        "\n",
        "from measures import * \n",
        "compute_all_measures(X_iris, Y_iris)"
      ],
      "execution_count": null,
      "outputs": [
        {
          "output_type": "stream",
          "text": [
            "/content/drive/MyDrive/Complexity-Measure\n",
            "F1 score:  0.05862828094263205\n",
            "F1v score:  0.009504560529310946\n",
            "F2 score:  0.0063817663817663794\n",
            "F3 score:  0.12333333333333334\n",
            "F4 score:  0.043333333333333335\n",
            "R1 score:  0.0024530613906084773\n",
            "R2 score:  0.006666666666666667\n",
            "R3 score:  0.0\n",
            "N1 score:  0.10666666666666667\n",
            "N2 score:  0.1579103939429765\n",
            "N3 score:  0.06000000000000005\n",
            "N4 score:  0.020000000000000018\n",
            "LSC score:  0.8166222222222222\n",
            "Density score:  0.8659060402684564\n",
            "ClsCoef score:  0.5841352870269286\n",
            "Hubs score:  0.9254792751658363\n",
            "T2 score:  0.02666666666666667\n",
            "T3 score:  0.013333333333333334\n",
            "T4 score:  0.5\n",
            "C1 score:  2.220446049250313e-16\n",
            "C2 score:  0.0\n"
          ],
          "name": "stdout"
        }
      ]
    },
    {
      "cell_type": "code",
      "metadata": {
        "colab": {
          "base_uri": "https://localhost:8080/"
        },
        "id": "a3sFVUrggRDo",
        "outputId": "bf589e25-7323-4ad6-d62b-da5486c3ca95"
      },
      "source": [
        "from sklearn.datasets import load_wine \n",
        "data_wine = load_wine() \n",
        "Y_wine = data_wine.target \n",
        "X_wine = data_wine.data\n",
        "\n",
        "from measures import * \n",
        "compute_all_measures(X_wine, Y_wine)"
      ],
      "execution_count": null,
      "outputs": [
        {
          "output_type": "stream",
          "text": [
            "F1 score:  0.27222450784691526\n",
            "F1v score:  0.01743848073837549\n",
            "F2 score:  2.0354274454154463e-05\n",
            "F3 score:  0.1372549019607843\n",
            "F4 score:  0.0\n",
            "R1 score:  0.002329407621616425\n",
            "R2 score:  0.0056179775280898875\n",
            "R3 score:  0.0\n",
            "N1 score:  0.0898876404494382\n",
            "N2 score:  0.35864303609884296\n",
            "N3 score:  0.0393258426966292\n",
            "N4 score:  0.011235955056179803\n",
            "LSC score:  0.8547531877288221\n",
            "Density score:  0.866215958864978\n",
            "ClsCoef score:  0.6069426319915487\n",
            "Hubs score:  0.9274773940547012\n",
            "T2 score:  0.07303370786516854\n",
            "T3 score:  0.056179775280898875\n",
            "T4 score:  0.7692307692307693\n",
            "C1 score:  0.011445206973490718\n",
            "C2 score:  0.018697406258052607\n"
          ],
          "name": "stdout"
        }
      ]
    },
    {
      "cell_type": "code",
      "metadata": {
        "id": "g0tDspU5pZQQ"
      },
      "source": [
        "from sklearn.model_selection import train_test_split\n",
        "X_train_iris, X_test_iris, Y_train_iris, Y_test_iris = train_test_split(X_iris, Y_iris, test_size = 0.1)\n",
        "X_train_wine, X_test_wine, Y_train_wine, Y_test_wine = train_test_split(X_wine, Y_wine, test_size = 0.1)"
      ],
      "execution_count": null,
      "outputs": []
    },
    {
      "cell_type": "code",
      "metadata": {
        "colab": {
          "base_uri": "https://localhost:8080/"
        },
        "id": "a4IsMPBBpeCy",
        "outputId": "789da85b-e979-4cc9-c57e-6677933ee4d1"
      },
      "source": [
        "from sklearn.svm import SVC\n",
        "model_iris = SVC(kernel = 'linear')\n",
        "model_iris.fit(X_train_iris, Y_train_iris)\n",
        "print(\"Iris dataset train accuracy: \" + str(model_iris.score(X_train_iris, Y_train_iris)))\n",
        "print(\"Iris dataset test accuracy: \" + str(model_iris.score(X_test_iris, Y_test_iris)))\n",
        "print(\"-----------------------------------------------\")\n",
        "model_wine = SVC(kernel = 'linear')\n",
        "model_wine.fit(X_train_wine, Y_train_wine)\n",
        "print(\"wine dataset train accuracy: \" + str(model_wine.score(X_train_wine, Y_train_wine)))\n",
        "print(\"wine dataset test accuracy: \" + str(model_wine.score(X_test_wine, Y_test_wine)))"
      ],
      "execution_count": null,
      "outputs": [
        {
          "output_type": "stream",
          "text": [
            "Iris dataset train accuracy: 0.9925925925925926\n",
            "Iris dataset test accuracy: 1.0\n",
            "-----------------------------------------------\n",
            "wine dataset train accuracy: 1.0\n",
            "wine dataset test accuracy: 0.8888888888888888\n"
          ],
          "name": "stdout"
        }
      ]
    },
    {
      "cell_type": "code",
      "metadata": {
        "id": "HIuFxoEMiDA-"
      },
      "source": [
        "from keras import backend as K\n",
        "\n",
        "K.clear_session()"
      ],
      "execution_count": null,
      "outputs": []
    },
    {
      "cell_type": "markdown",
      "metadata": {
        "id": "NxZVNOCJhOX0"
      },
      "source": [
        "# Classify datasets using neural network\n",
        "\n"
      ]
    },
    {
      "cell_type": "code",
      "metadata": {
        "id": "6PiCryAeT5uD"
      },
      "source": [
        "from tensorflow.keras.datasets import mnist, cifar10\n",
        "import keras\n",
        "from keras.models import Sequential, Input, Model \n",
        "from keras.layers import Dense, Dropout, Flatten\n",
        "from keras.layers import Conv2D, MaxPooling2D\n",
        "# from keras.layers.normalization import BatchNormalization\n",
        "from keras.layers.advanced_activations import LeakyReLU\n",
        "from sklearn.metrics import classification_report\n",
        "from tensorflow.keras.optimizers import Adam\n",
        "from tensorflow.keras import optimizers\n",
        "import matplotlib.pyplot as plt\n"
      ],
      "execution_count": null,
      "outputs": []
    },
    {
      "cell_type": "code",
      "metadata": {
        "id": "8WL9EQ18T9X7"
      },
      "source": [
        "batch_size = 64\n",
        "epochs = 20\n",
        "num_classes = 10\n",
        "classes = 10"
      ],
      "execution_count": null,
      "outputs": []
    },
    {
      "cell_type": "markdown",
      "metadata": {
        "id": "nwVdaqfshlVi"
      },
      "source": [
        "## Generate the base model"
      ]
    },
    {
      "cell_type": "code",
      "metadata": {
        "id": "6O0sZKRiUFjA"
      },
      "source": [
        "def train_model(x, y, z,train_X, train_label, valid_X, valid_label, test_X, test_Y_one_hot, Y_test_label):\n",
        "  model = Sequential()\n",
        "  model.add(Conv2D(32, kernel_size = (3, 3), activation = 'linear', input_shape=(x,y,z), padding = 'same'))\n",
        "  model.add(LeakyReLU(alpha = 0.1))\n",
        "  model.add(MaxPooling2D((2,2), padding = 'same'))\n",
        "  model.add(Dropout(0.25))\n",
        "\n",
        "  model.add(Conv2D(64, (3, 3), activation = 'linear', padding = 'same'))\n",
        "  model.add(LeakyReLU(alpha = 0.1))\n",
        "  model.add(MaxPooling2D(pool_size = (2,2), padding = 'same'))\n",
        "  model.add(Dropout(0.25))\n",
        "\n",
        "  model.add(Conv2D(128, (3, 3), activation = 'linear', padding = 'same'))\n",
        "  model.add(LeakyReLU(alpha = 0.1))                  \n",
        "  model.add(MaxPooling2D(pool_size=(2, 2), padding = 'same'))\n",
        "  model.add(Dropout(0.4))\n",
        "\n",
        "  model.add(Flatten())\n",
        "  model.add(Dense(128, activation = 'linear'))\n",
        "  model.add(LeakyReLU(alpha = 0.1)) \n",
        "  model.add(Dropout(0.3))\n",
        "  model.add(Dense(num_classes, activation = 'softmax'))\n",
        "\n",
        "  model.compile(loss = keras.losses.categorical_crossentropy, optimizer = Adam(), metrics = ['accuracy'])\n",
        "\n",
        "  history = model.fit(train_X, train_label, batch_size=batch_size,epochs=epochs,verbose=1,validation_data=(valid_X, valid_label)) \n",
        "\n",
        "  plt.plot(history.history['accuracy'])\n",
        "  plt.plot(history.history['val_accuracy'])\n",
        "  plt.title('Model Accuracy')\n",
        "  plt.ylabel('accuracy')\n",
        "  plt.xlabel('epoch')\n",
        "  plt.legend(['train','validation'],loc='lower right')\n",
        "  plt.show()\n",
        "\n",
        "  test_eval = model.evaluate(test_X, test_Y_one_hot, verbose = 0)\n",
        "  print('Test loss: ', test_eval[0])\n",
        "  print('Test accuracy: ', test_eval[1])\n",
        "\n",
        "  predictes_classes = model.predict(test_X)\n",
        "  predicted_classes = np.argmax(np.round(predictes_classes), axis = 1)\n",
        "\n",
        "  target_names = [\"Class {}\".format(i) for i in range(classes)]\n",
        "  print(classification_report(Y_test_label, predicted_classes, target_names = target_names))\n",
        "\n",
        "  return model"
      ],
      "execution_count": null,
      "outputs": []
    },
    {
      "cell_type": "markdown",
      "metadata": {
        "id": "tvPYuJdehuwr"
      },
      "source": [
        "## Classify MNIST dataset"
      ]
    },
    {
      "cell_type": "code",
      "metadata": {
        "id": "MZtnFOUvwEfu",
        "colab": {
          "base_uri": "https://localhost:8080/"
        },
        "outputId": "8e1a5f27-efba-416a-c586-a8437658d34e"
      },
      "source": [
        "(X_train_mnist, Y_train_mnist), (X_test_mnist, Y_test_mnist) = mnist.load_data()\n",
        "X_train_mnist.shape, Y_train_mnist.shape, X_test_mnist.shape, Y_test_mnist.shape"
      ],
      "execution_count": 4,
      "outputs": [
        {
          "output_type": "stream",
          "text": [
            "Downloading data from https://storage.googleapis.com/tensorflow/tf-keras-datasets/mnist.npz\n",
            "11493376/11490434 [==============================] - 0s 0us/step\n",
            "11501568/11490434 [==============================] - 0s 0us/step\n"
          ],
          "name": "stdout"
        },
        {
          "output_type": "execute_result",
          "data": {
            "text/plain": [
              "((60000, 28, 28), (60000,), (10000, 28, 28), (10000,))"
            ]
          },
          "metadata": {},
          "execution_count": 4
        }
      ]
    },
    {
      "cell_type": "code",
      "metadata": {
        "id": "3jkQ7Vt57Wlg"
      },
      "source": [
        "import random\n",
        "joined_lists = list(zip(X_train_mnist, Y_train_mnist))\n",
        "random.shuffle(joined_lists) \n",
        "X_train_mnist, Y_train_mnist = zip(*joined_lists)\n",
        "X_train_mnist = np.asarray(X_train_mnist[0:3000])\n",
        "Y_train_mnist = np.asarray(Y_train_mnist[0:3000])\n",
        "\n",
        "joined_lists = list(zip(X_test_mnist, Y_test_mnist))\n",
        "random.shuffle(joined_lists)\n",
        "X_test_mnist, Y_test_mnist = zip(*joined_lists)\n",
        "X_test_mnist = np.asarray(X_test_mnist[0:600])\n",
        "Y_test_mnist = np.asarray(Y_test_mnist[0:600])"
      ],
      "execution_count": 5,
      "outputs": []
    },
    {
      "cell_type": "code",
      "metadata": {
        "id": "inMJzRiXS_fy",
        "colab": {
          "base_uri": "https://localhost:8080/"
        },
        "outputId": "4210ee9a-3d6c-4cea-f734-3df9113209c2"
      },
      "source": [
        "train_X = X_train_mnist.reshape(-1, 28, 28, 1)\n",
        "test_X = X_test_mnist.reshape(-1, 28, 28, 1)\n",
        "\n",
        "train_X = train_X.astype('float32')\n",
        "test_X = test_X.astype('float32')\n",
        "train_X = train_X / 255\n",
        "test_X = test_X / 255\n",
        "\n",
        "from tensorflow.keras.utils import to_categorical\n",
        "\n",
        "train_Y_one_hot = to_categorical(Y_train_mnist)\n",
        "test_Y_one_hot = to_categorical(Y_test_mnist)\n",
        "\n",
        "\n",
        "from sklearn.model_selection import train_test_split\n",
        "train_X, valid_X, train_label, valid_label = train_test_split(train_X, train_Y_one_hot, test_size = 0.2)\n",
        "\n",
        "train_X.shape, valid_X.shape, train_label.shape, valid_label.shape"
      ],
      "execution_count": null,
      "outputs": [
        {
          "output_type": "execute_result",
          "data": {
            "text/plain": [
              "((2400, 28, 28, 1), (600, 28, 28, 1), (2400, 10), (600, 10))"
            ]
          },
          "metadata": {},
          "execution_count": 83
        }
      ]
    },
    {
      "cell_type": "code",
      "metadata": {
        "id": "KfksHtCfGyMt",
        "colab": {
          "base_uri": "https://localhost:8080/",
          "height": 1000
        },
        "outputId": "c36978b1-3842-4189-b8f7-94e457a99014"
      },
      "source": [
        "model = train_model(28,28,1,train_X, train_label,valid_X, valid_label, test_X, test_Y_one_hot, Y_test_mnist)"
      ],
      "execution_count": null,
      "outputs": [
        {
          "output_type": "stream",
          "text": [
            "Epoch 1/20\n",
            "38/38 [==============================] - 5s 121ms/step - loss: 1.8011 - accuracy: 0.3812 - val_loss: 0.7927 - val_accuracy: 0.7783\n",
            "Epoch 2/20\n",
            "38/38 [==============================] - 4s 115ms/step - loss: 0.7206 - accuracy: 0.7721 - val_loss: 0.3287 - val_accuracy: 0.8917\n",
            "Epoch 3/20\n",
            "38/38 [==============================] - 4s 115ms/step - loss: 0.3480 - accuracy: 0.8908 - val_loss: 0.1609 - val_accuracy: 0.9467\n",
            "Epoch 4/20\n",
            "38/38 [==============================] - 4s 115ms/step - loss: 0.2396 - accuracy: 0.9200 - val_loss: 0.1450 - val_accuracy: 0.9500\n",
            "Epoch 5/20\n",
            "38/38 [==============================] - 4s 115ms/step - loss: 0.2086 - accuracy: 0.9362 - val_loss: 0.1210 - val_accuracy: 0.9600\n",
            "Epoch 6/20\n",
            "38/38 [==============================] - 4s 114ms/step - loss: 0.1686 - accuracy: 0.9488 - val_loss: 0.1238 - val_accuracy: 0.9600\n",
            "Epoch 7/20\n",
            "38/38 [==============================] - 4s 115ms/step - loss: 0.1451 - accuracy: 0.9558 - val_loss: 0.0903 - val_accuracy: 0.9733\n",
            "Epoch 8/20\n",
            "38/38 [==============================] - 4s 114ms/step - loss: 0.1228 - accuracy: 0.9604 - val_loss: 0.0825 - val_accuracy: 0.9733\n",
            "Epoch 9/20\n",
            "38/38 [==============================] - 4s 115ms/step - loss: 0.1115 - accuracy: 0.9604 - val_loss: 0.0764 - val_accuracy: 0.9750\n",
            "Epoch 10/20\n",
            "38/38 [==============================] - 4s 115ms/step - loss: 0.0822 - accuracy: 0.9758 - val_loss: 0.0733 - val_accuracy: 0.9750\n",
            "Epoch 11/20\n",
            "38/38 [==============================] - 4s 116ms/step - loss: 0.0874 - accuracy: 0.9667 - val_loss: 0.0999 - val_accuracy: 0.9683\n",
            "Epoch 12/20\n",
            "38/38 [==============================] - 4s 116ms/step - loss: 0.0767 - accuracy: 0.9721 - val_loss: 0.0889 - val_accuracy: 0.9700\n",
            "Epoch 13/20\n",
            "38/38 [==============================] - 4s 115ms/step - loss: 0.0827 - accuracy: 0.9717 - val_loss: 0.0528 - val_accuracy: 0.9783\n",
            "Epoch 14/20\n",
            "38/38 [==============================] - 4s 115ms/step - loss: 0.0726 - accuracy: 0.9746 - val_loss: 0.0797 - val_accuracy: 0.9783\n",
            "Epoch 15/20\n",
            "38/38 [==============================] - 4s 115ms/step - loss: 0.0653 - accuracy: 0.9787 - val_loss: 0.1081 - val_accuracy: 0.9650\n",
            "Epoch 16/20\n",
            "38/38 [==============================] - 4s 116ms/step - loss: 0.0632 - accuracy: 0.9792 - val_loss: 0.0703 - val_accuracy: 0.9767\n",
            "Epoch 17/20\n",
            "38/38 [==============================] - 4s 115ms/step - loss: 0.0450 - accuracy: 0.9858 - val_loss: 0.0744 - val_accuracy: 0.9717\n",
            "Epoch 18/20\n",
            "38/38 [==============================] - 4s 116ms/step - loss: 0.0481 - accuracy: 0.9854 - val_loss: 0.0685 - val_accuracy: 0.9750\n",
            "Epoch 19/20\n",
            "38/38 [==============================] - 4s 115ms/step - loss: 0.0375 - accuracy: 0.9858 - val_loss: 0.0920 - val_accuracy: 0.9717\n",
            "Epoch 20/20\n",
            "38/38 [==============================] - 4s 115ms/step - loss: 0.0318 - accuracy: 0.9904 - val_loss: 0.0647 - val_accuracy: 0.9750\n"
          ],
          "name": "stdout"
        },
        {
          "output_type": "display_data",
          "data": {
            "image/png": "[encoded data removed]",
            "text/plain": [
              "<Figure size 432x288 with 1 Axes>"
            ]
          },
          "metadata": {
            "needs_background": "light"
          }
        },
        {
          "output_type": "stream",
          "text": [
            "Test loss:  0.06568752229213715\n",
            "Test accuracy:  0.9833333492279053\n",
            "              precision    recall  f1-score   support\n",
            "\n",
            "     Class 0       0.94      1.00      0.97        58\n",
            "     Class 1       1.00      0.98      0.99        53\n",
            "     Class 2       1.00      1.00      1.00        63\n",
            "     Class 3       1.00      1.00      1.00        63\n",
            "     Class 4       1.00      0.97      0.98        61\n",
            "     Class 5       0.95      1.00      0.98        40\n",
            "     Class 6       0.99      0.99      0.99        67\n",
            "     Class 7       0.99      1.00      0.99        68\n",
            "     Class 8       0.98      0.98      0.98        64\n",
            "     Class 9       0.98      0.92      0.95        63\n",
            "\n",
            "    accuracy                           0.98       600\n",
            "   macro avg       0.98      0.98      0.98       600\n",
            "weighted avg       0.98      0.98      0.98       600\n",
            "\n"
          ],
          "name": "stdout"
        }
      ]
    },
    {
      "cell_type": "markdown",
      "metadata": {
        "id": "7t8Lvg7nh9bc"
      },
      "source": [
        "##Classify CIFAR dataset"
      ]
    },
    {
      "cell_type": "code",
      "metadata": {
        "id": "U4oz6zDJf9wt",
        "colab": {
          "base_uri": "https://localhost:8080/"
        },
        "outputId": "13fcc456-187f-401c-b230-fc33bb659549"
      },
      "source": [
        "(X_train_cifar, Y_train_cifar), (X_test_cifar, Y_test_cifar) = cifar10.load_data()\n",
        "X_train_cifar.shape, Y_train_cifar.shape"
      ],
      "execution_count": 6,
      "outputs": [
        {
          "output_type": "stream",
          "text": [
            "Downloading data from https://www.cs.toronto.edu/~kriz/cifar-10-python.tar.gz\n",
            "170500096/170498071 [==============================] - 2s 0us/step\n",
            "170508288/170498071 [==============================] - 2s 0us/step\n"
          ],
          "name": "stdout"
        },
        {
          "output_type": "execute_result",
          "data": {
            "text/plain": [
              "((50000, 32, 32, 3), (50000, 1))"
            ]
          },
          "metadata": {},
          "execution_count": 6
        }
      ]
    },
    {
      "cell_type": "code",
      "metadata": {
        "id": "gnwhTH6X6qmg"
      },
      "source": [
        "import random\n",
        "joined_lists = list(zip(X_train_cifar, Y_train_cifar))\n",
        "random.shuffle(joined_lists) \n",
        "X_train_cifar, Y_train_cifar = zip(*joined_lists)\n",
        "X_train_cifar = np.asarray(X_train_cifar[0:3000])\n",
        "Y_train_cifar = np.asarray(Y_train_cifar[0:3000])\n",
        "\n",
        "joined_lists = list(zip(X_test_cifar, Y_test_cifar))\n",
        "random.shuffle(joined_lists)\n",
        "X_test_cifar, Y_test_cifar = zip(*joined_lists)\n",
        "X_test_cifar = np.asarray(X_test_cifar[0:600])\n",
        "Y_test_cifar = np.asarray(Y_test_cifar[0:600])"
      ],
      "execution_count": 7,
      "outputs": []
    },
    {
      "cell_type": "code",
      "metadata": {
        "id": "5NQKisxPHzJD",
        "colab": {
          "base_uri": "https://localhost:8080/"
        },
        "outputId": "8546f2a8-fb8e-46c7-ee42-8e80bcda993d"
      },
      "source": [
        "train_X = X_train_cifar.reshape(-1, 32, 32, 3)\n",
        "test_X = X_test_cifar.reshape(-1, 32, 32, 3)\n",
        "\n",
        "train_X = train_X.astype('float32')\n",
        "test_X = test_X.astype('float32')\n",
        "train_X = train_X / 255\n",
        "test_X = test_X / 255\n",
        "\n",
        "from tensorflow.keras.utils import to_categorical\n",
        "\n",
        "train_Y_one_hot = to_categorical(Y_train_cifar)\n",
        "test_Y_one_hot = to_categorical(Y_test_cifar)\n",
        "\n",
        "from sklearn.model_selection import train_test_split\n",
        "train_X, valid_X, train_label, valid_label = train_test_split(train_X, train_Y_one_hot, test_size = 0.2)\n",
        "\n",
        "train_X.shape, valid_X.shape, train_label.shape, valid_label.shape"
      ],
      "execution_count": null,
      "outputs": [
        {
          "output_type": "execute_result",
          "data": {
            "text/plain": [
              "((2400, 32, 32, 3), (600, 32, 32, 3), (2400, 10), (600, 10))"
            ]
          },
          "metadata": {},
          "execution_count": 87
        }
      ]
    },
    {
      "cell_type": "code",
      "metadata": {
        "id": "hR9zfom83qBl",
        "colab": {
          "base_uri": "https://localhost:8080/",
          "height": 1000
        },
        "outputId": "c83a631f-b824-414a-dbdf-859ea5219b25"
      },
      "source": [
        "model = train_model(32,32,3,train_X, train_label,valid_X, valid_label, test_X, test_Y_one_hot, Y_test_cifar)"
      ],
      "execution_count": null,
      "outputs": [
        {
          "output_type": "stream",
          "text": [
            "Epoch 1/20\n",
            "38/38 [==============================] - 7s 162ms/step - loss: 2.2863 - accuracy: 0.1300 - val_loss: 2.2429 - val_accuracy: 0.1817\n",
            "Epoch 2/20\n",
            "38/38 [==============================] - 6s 157ms/step - loss: 2.0965 - accuracy: 0.2271 - val_loss: 1.9446 - val_accuracy: 0.2883\n",
            "Epoch 3/20\n",
            "38/38 [==============================] - 6s 158ms/step - loss: 1.8766 - accuracy: 0.3029 - val_loss: 1.8184 - val_accuracy: 0.3950\n",
            "Epoch 4/20\n",
            "38/38 [==============================] - 6s 158ms/step - loss: 1.7518 - accuracy: 0.3550 - val_loss: 1.7094 - val_accuracy: 0.3850\n",
            "Epoch 5/20\n",
            "38/38 [==============================] - 6s 156ms/step - loss: 1.6658 - accuracy: 0.3946 - val_loss: 1.6601 - val_accuracy: 0.4017\n",
            "Epoch 6/20\n",
            "38/38 [==============================] - 6s 156ms/step - loss: 1.5836 - accuracy: 0.4200 - val_loss: 1.5855 - val_accuracy: 0.4550\n",
            "Epoch 7/20\n",
            "38/38 [==============================] - 6s 155ms/step - loss: 1.4973 - accuracy: 0.4475 - val_loss: 1.5751 - val_accuracy: 0.4433\n",
            "Epoch 8/20\n",
            "38/38 [==============================] - 6s 157ms/step - loss: 1.4141 - accuracy: 0.4817 - val_loss: 1.5022 - val_accuracy: 0.4833\n",
            "Epoch 9/20\n",
            "38/38 [==============================] - 6s 162ms/step - loss: 1.3597 - accuracy: 0.5038 - val_loss: 1.4860 - val_accuracy: 0.4650\n",
            "Epoch 10/20\n",
            "38/38 [==============================] - 7s 196ms/step - loss: 1.3020 - accuracy: 0.5267 - val_loss: 1.5229 - val_accuracy: 0.4717\n",
            "Epoch 11/20\n",
            "38/38 [==============================] - 6s 156ms/step - loss: 1.2352 - accuracy: 0.5579 - val_loss: 1.4522 - val_accuracy: 0.4933\n",
            "Epoch 12/20\n",
            "38/38 [==============================] - 6s 157ms/step - loss: 1.1486 - accuracy: 0.5804 - val_loss: 1.4408 - val_accuracy: 0.5150\n",
            "Epoch 13/20\n",
            "38/38 [==============================] - 6s 157ms/step - loss: 1.1095 - accuracy: 0.6104 - val_loss: 1.4222 - val_accuracy: 0.5283\n",
            "Epoch 14/20\n",
            "38/38 [==============================] - 6s 157ms/step - loss: 1.0655 - accuracy: 0.6146 - val_loss: 1.3815 - val_accuracy: 0.5233\n",
            "Epoch 15/20\n",
            "38/38 [==============================] - 6s 156ms/step - loss: 1.0135 - accuracy: 0.6363 - val_loss: 1.4135 - val_accuracy: 0.5283\n",
            "Epoch 16/20\n",
            "38/38 [==============================] - 6s 156ms/step - loss: 0.9567 - accuracy: 0.6525 - val_loss: 1.4427 - val_accuracy: 0.5117\n",
            "Epoch 17/20\n",
            "38/38 [==============================] - 6s 156ms/step - loss: 0.9211 - accuracy: 0.6783 - val_loss: 1.5093 - val_accuracy: 0.5167\n",
            "Epoch 18/20\n",
            "38/38 [==============================] - 6s 157ms/step - loss: 0.9033 - accuracy: 0.6742 - val_loss: 1.4054 - val_accuracy: 0.5400\n",
            "Epoch 19/20\n",
            "38/38 [==============================] - 6s 157ms/step - loss: 0.9091 - accuracy: 0.6687 - val_loss: 1.4118 - val_accuracy: 0.5300\n",
            "Epoch 20/20\n",
            "38/38 [==============================] - 6s 156ms/step - loss: 0.8049 - accuracy: 0.7113 - val_loss: 1.4019 - val_accuracy: 0.5517\n"
          ],
          "name": "stdout"
        },
        {
          "output_type": "display_data",
          "data": {
            "image/png": "[encoded data removed]",
            "text/plain": [
              "<Figure size 432x288 with 1 Axes>"
            ]
          },
          "metadata": {
            "needs_background": "light"
          }
        },
        {
          "output_type": "stream",
          "text": [
            "Test loss:  1.4109934568405151\n",
            "Test accuracy:  0.5199999809265137\n",
            "              precision    recall  f1-score   support\n",
            "\n",
            "     Class 0       0.18      0.74      0.30        61\n",
            "     Class 1       0.61      0.64      0.62        47\n",
            "     Class 2       0.54      0.31      0.40        61\n",
            "     Class 3       0.36      0.07      0.11        61\n",
            "     Class 4       0.53      0.37      0.44        70\n",
            "     Class 5       0.64      0.29      0.40        56\n",
            "     Class 6       0.68      0.57      0.62        56\n",
            "     Class 7       0.62      0.54      0.58        59\n",
            "     Class 8       0.67      0.51      0.58        67\n",
            "     Class 9       0.84      0.50      0.63        62\n",
            "\n",
            "    accuracy                           0.45       600\n",
            "   macro avg       0.57      0.45      0.47       600\n",
            "weighted avg       0.57      0.45      0.46       600\n",
            "\n"
          ],
          "name": "stdout"
        }
      ]
    },
    {
      "cell_type": "markdown",
      "metadata": {
        "id": "7CO_MdcViCRD"
      },
      "source": [
        "# Classify datasets using PCA and SVM"
      ]
    },
    {
      "cell_type": "markdown",
      "metadata": {
        "id": "-VF2A17wiWLw"
      },
      "source": [
        "## MNIST:"
      ]
    },
    {
      "cell_type": "code",
      "metadata": {
        "id": "ltpobGQSSgMI"
      },
      "source": [
        "PCA_X_mnist = X_train_mnist\n",
        "PCA_Y_mnist = Y_train_mnist\n",
        "PCA_X_mnist = PCA_X_mnist/255\n",
        "X_mnist_flat = PCA_X_mnist.reshape(-1, 28*28)\n",
        "pca_mnist = PCA(0.9)\n",
        "principalComponents_mnist = pca_mnist.fit_transform(X_mnist_flat)\n",
        "\n",
        "PCA_X_mnist_test = X_test_mnist\n",
        "PCA_Y_mnist_test = Y_test_mnist\n",
        "PCA_X_mnist_test = PCA_X_mnist_test/255\n",
        "X_mnist_flat = PCA_X_mnist_test.reshape(-1, 28*28)\n",
        "principalComponents_mnist_test = pca_mnist.transform(X_mnist_flat)"
      ],
      "execution_count": 7,
      "outputs": []
    },
    {
      "cell_type": "code",
      "metadata": {
        "id": "g7bqOK58Boch",
        "colab": {
          "base_uri": "https://localhost:8080/"
        },
        "outputId": "ebe061eb-8131-4dba-ea82-200ff8ca2e6c"
      },
      "source": [
        "pca_model_mnist = SVC(kernel = 'linear')\n",
        "pca_model_mnist.fit(principalComponents_mnist, PCA_Y_mnist)\n",
        "print(\"MNIST(linear SVM) dataset train accuracy: \" + str(pca_model_mnist.score(principalComponents_mnist, PCA_Y_mnist)))\n",
        "print(\"MNIST(linear SVM) dataset test accuracy: \" + str(pca_model_mnist.score(principalComponents_mnist_test, PCA_Y_mnist_test)))"
      ],
      "execution_count": null,
      "outputs": [
        {
          "output_type": "stream",
          "text": [
            "MNIST(linear SVM) dataset train accuracy: 0.9893333333333333\n",
            "MNIST(linear SVM) dataset test accuracy: 0.875\n"
          ],
          "name": "stdout"
        }
      ]
    },
    {
      "cell_type": "code",
      "metadata": {
        "id": "l6WSt_q_UoPd",
        "colab": {
          "base_uri": "https://localhost:8080/"
        },
        "outputId": "d29e0de4-1373-4107-f14a-360909d1ec7b"
      },
      "source": [
        "pca_model_mnist_l = svm.NuSVC(gamma='auto')\n",
        "pca_model_mnist_l.fit(principalComponents_mnist, PCA_Y_mnist)\n",
        "print(\"MNIST dataset train accuracy: \" + str(pca_model_mnist_l.score(principalComponents_mnist, PCA_Y_mnist)))\n",
        "print(\"MNIST dataset test accuracy: \" + str(pca_model_mnist_l.score(principalComponents_mnist_test, PCA_Y_mnist_test)))"
      ],
      "execution_count": null,
      "outputs": [
        {
          "output_type": "stream",
          "text": [
            "MNIST dataset train accuracy: 0.9146666666666666\n",
            "MNIST dataset test accuracy: 0.9083333333333333\n"
          ],
          "name": "stdout"
        }
      ]
    },
    {
      "cell_type": "markdown",
      "metadata": {
        "id": "MULAxysLlisd"
      },
      "source": [
        "## CIFAR:"
      ]
    },
    {
      "cell_type": "code",
      "metadata": {
        "id": "Zrb_T4O7SiF1"
      },
      "source": [
        "PCA_X_cifar = X_train_cifar\n",
        "PCA_Y_cifar = Y_train_cifar\n",
        "PCA_X_cifar = PCA_X_cifar/255\n",
        "X_cifar_flat = PCA_X_cifar.reshape(-1, 32*32*3)\n",
        "pca_cifar = PCA(0.9)\n",
        "principalComponents_cifar = pca_cifar.fit_transform(X_cifar_flat)\n",
        "\n",
        "PCA_X_cifar_test = X_test_cifar\n",
        "PCA_Y_cifar_test = Y_test_cifar\n",
        "PCA_X_cifar_test = PCA_X_cifar_test/255\n",
        "X_cifar_flat = PCA_X_cifar_test.reshape(-1, 32*32*3)\n",
        "principalComponents_cifar_test = pca_cifar.transform(X_cifar_flat)"
      ],
      "execution_count": 8,
      "outputs": []
    },
    {
      "cell_type": "code",
      "metadata": {
        "id": "cRiX0lcxB5qV",
        "colab": {
          "base_uri": "https://localhost:8080/"
        },
        "outputId": "3c97ac58-cc39-42d1-a4b7-c802b5ec5138"
      },
      "source": [
        "pca_model_cifar_l = SVC(kernel = 'linear')\n",
        "pca_model_cifar_l.fit(principalComponents_cifar, PCA_Y_cifar)\n",
        "print(\"CIFAR(linear SVM) dataset train accuracy: \" + str(pca_model_cifar_l.score(principalComponents_cifar, PCA_Y_cifar)))\n",
        "print(\"CIFAR(linear SVM) dataset test accuracy: \" + str(pca_model_cifar_l.score(principalComponents_cifar_test, PCA_Y_cifar_test)))"
      ],
      "execution_count": null,
      "outputs": [
        {
          "output_type": "stream",
          "text": [
            "/usr/local/lib/python3.7/dist-packages/sklearn/utils/validation.py:760: DataConversionWarning: A column-vector y was passed when a 1d array was expected. Please change the shape of y to (n_samples, ), for example using ravel().\n",
            "  y = column_or_1d(y, warn=True)\n"
          ],
          "name": "stderr"
        },
        {
          "output_type": "stream",
          "text": [
            "CIFAR(linear SVM) dataset train accuracy: 0.5203333333333333\n",
            "CIFAR(linear SVM) dataset test accuracy: 0.32\n"
          ],
          "name": "stdout"
        }
      ]
    },
    {
      "cell_type": "code",
      "metadata": {
        "id": "MazWKYnEeFuX",
        "colab": {
          "base_uri": "https://localhost:8080/"
        },
        "outputId": "8a62348b-c5f0-49df-ccdf-ad3f642aa9d7"
      },
      "source": [
        "pca_model_cifar = svm.NuSVC(gamma='auto')\n",
        "pca_model_cifar.fit(principalComponents_cifar, PCA_Y_cifar)\n",
        "print(\"CIFAR dataset train accuracy: \" + str(pca_model_cifar.score(principalComponents_cifar, PCA_Y_cifar)))\n",
        "print(\"CIFAR dataset test accuracy: \" + str(pca_model_cifar.score(principalComponents_cifar_test, PCA_Y_cifar_test)))"
      ],
      "execution_count": null,
      "outputs": [
        {
          "output_type": "stream",
          "text": [
            "/usr/local/lib/python3.7/dist-packages/sklearn/utils/validation.py:760: DataConversionWarning: A column-vector y was passed when a 1d array was expected. Please change the shape of y to (n_samples, ), for example using ravel().\n",
            "  y = column_or_1d(y, warn=True)\n"
          ],
          "name": "stderr"
        },
        {
          "output_type": "stream",
          "text": [
            "CIFAR dataset train accuracy: 0.9\n",
            "CIFAR dataset test accuracy: 0.385\n"
          ],
          "name": "stdout"
        }
      ]
    },
    {
      "cell_type": "code",
      "metadata": {
        "id": "Op4M_9YrStZZ"
      },
      "source": [
        "FTR_X_mnist = np.load(\"vgg16_features_mnist.npy\")\n",
        "FTR_X_mnist = FTR_X_mnist\n",
        "Y_mnist = Y_train_mnist"
      ],
      "execution_count": 8,
      "outputs": []
    },
    {
      "cell_type": "code",
      "metadata": {
        "id": "n6OwXj5IStSi"
      },
      "source": [
        "FTR_X_cifar = np.load(\"vgg16_features_cifar.npy\")\n",
        "FTR_X_cifar = FTR_X_cifar\n",
        "Y_cifar = Y_train_cifar"
      ],
      "execution_count": 9,
      "outputs": []
    },
    {
      "cell_type": "code",
      "metadata": {
        "id": "EtOWpBcK-SK7"
      },
      "source": [
        "def one_to_three_dim(x_train, dim):\n",
        "  img_lst = []\n",
        "  for i in range(len(x_train)):\n",
        "    img = cv2.resize(x_train[i], dim, interpolation = cv2.INTER_AREA) \n",
        "    img = np.asarray(np.dstack((img, img, img)), dtype=np.uint8)\n",
        "    img_lst.append(img)\n",
        "  rgb_arr = np.stack([img_lst],axis=4)\n",
        "  rgb_arr_to_3d = np.squeeze(rgb_arr, axis=4)\n",
        "  return rgb_arr_to_3d"
      ],
      "execution_count": null,
      "outputs": []
    },
    {
      "cell_type": "code",
      "metadata": {
        "id": "ZCo4LOq2_Gnr"
      },
      "source": [
        "def feature_extractor(images, model, x, y, z):\n",
        "  feature_list = []\n",
        "  for i in range(len(images)):\n",
        "    img_array = np.expand_dims(images[i], axis=0)\n",
        "    features = model.predict(img_array)\n",
        "    feature_list.append(features)\n",
        "  feat_lt = np.reshape(feature_list, (-1, x*y*z))\n",
        "  return feat_lt"
      ],
      "execution_count": null,
      "outputs": []
    },
    {
      "cell_type": "code",
      "metadata": {
        "id": "05__77bX2JmS",
        "colab": {
          "base_uri": "https://localhost:8080/"
        },
        "outputId": "ccd91d05-0837-484c-e14e-a9855010b6ae"
      },
      "source": [
        "dim = (32, 32)\n",
        "rgb_list = one_to_three_dim(X_train_mnist, dim)\n",
        "print(rgb_list.shape)"
      ],
      "execution_count": null,
      "outputs": [
        {
          "output_type": "stream",
          "text": [
            "(3000, 32, 32, 3)\n"
          ],
          "name": "stdout"
        }
      ]
    },
    {
      "cell_type": "code",
      "metadata": {
        "id": "jutDBsFZ3pu7",
        "colab": {
          "base_uri": "https://localhost:8080/"
        },
        "outputId": "3eb6ca7d-33f3-4296-f9d4-f58ceffd4769"
      },
      "source": [
        "vgg = VGG16(weights='imagenet',\n",
        "            include_top=False,\n",
        "            input_shape=(32, 32, 3))\n",
        "\n",
        "for layers in vgg.layers:\n",
        "  layers.trainable=False\n",
        "\n",
        "print(vgg.output)\n"
      ],
      "execution_count": null,
      "outputs": [
        {
          "output_type": "stream",
          "text": [
            "Downloading data from https://storage.googleapis.com/tensorflow/keras-applications/vgg16/vgg16_weights_tf_dim_ordering_tf_kernels_notop.h5\n",
            "58892288/58889256 [==============================] - 1s 0us/step\n",
            "58900480/58889256 [==============================] - 1s 0us/step\n",
            "KerasTensor(type_spec=TensorSpec(shape=(None, 1, 1, 512), dtype=tf.float32, name=None), name='block5_pool/MaxPool:0', description=\"created by layer 'block5_pool'\")\n"
          ],
          "name": "stdout"
        }
      ]
    },
    {
      "cell_type": "code",
      "metadata": {
        "id": "Q_h5s7fQCNlS"
      },
      "source": [
        "vgg_features_mnist = feature_extractor(rgb_list, vgg, 1, 1, 512)\n",
        "np.save(\"vgg16_features_mnist.npy\", vgg_features_mnist)\n",
        "vgg_features_cifar = feature_extractor(X_train_cifar, vgg, 1, 1, 512)\n",
        "np.save(\"vgg16_features_cifar.npy\", vgg_features_cifar)"
      ],
      "execution_count": null,
      "outputs": []
    },
    {
      "cell_type": "code",
      "metadata": {
        "id": "uh1xqV5a_O9E",
        "colab": {
          "base_uri": "https://localhost:8080/"
        },
        "outputId": "5fc640c2-2a22-4326-cfc1-5dd76f9516fe"
      },
      "source": [
        "compute_all_measures(principalComponents_mnist, PCA_Y_mnist)"
      ],
      "execution_count": 11,
      "outputs": [
        {
          "output_type": "stream",
          "text": [
            "F1 score:  0.32151394927603233\n",
            "F1v score:  0.024120391981815235\n",
            "F2 score:  2.52563872753305e-08\n",
            "F3 score:  0.3257799671592775\n",
            "\n",
            "\n",
            "\n",
            "\n",
            "F4 score:  0.0\n",
            "R1 score:  0.0018479128545658727\n",
            "R2 score:  0.004\n",
            "R3 score:  0.0003333333333333333\n",
            "N1 score:  0.25466666666666665\n",
            "N2 score:  0.44953934218645114\n",
            "N3 score:  0.131\n",
            "N4 score:  0.347\n",
            "LSC score:  0.9940182222222222\n",
            "Density score:  0.9693448927420251\n",
            "ClsCoef score:  0.9757661724609475\n",
            "Hubs score:  0.9938878942811648\n",
            "T2 score:  0.028\n",
            "T3 score:  0.02666666666666667\n",
            "T4 score:  0.9523809523809523\n",
            "C1 score:  0.0007879910123644862\n",
            "C2 score:  0.000451743800870541\n"
          ],
          "name": "stdout"
        }
      ]
    },
    {
      "cell_type": "code",
      "metadata": {
        "colab": {
          "base_uri": "https://localhost:8080/"
        },
        "id": "556xWZsUn0SR",
        "outputId": "168fd0e9-d587-4a48-8fc3-9f21a71cf7b4"
      },
      "source": [
        "principalComponents_cifar.shape, PCA_Y_cifar.shape"
      ],
      "execution_count": 16,
      "outputs": [
        {
          "output_type": "execute_result",
          "data": {
            "text/plain": [
              "((3000, 94), (3000,))"
            ]
          },
          "metadata": {},
          "execution_count": 16
        }
      ]
    },
    {
      "cell_type": "code",
      "metadata": {
        "id": "eBSE-L13n-GL"
      },
      "source": [
        "PCA_Y_cifar = np.reshape(PCA_Y_cifar,3000)"
      ],
      "execution_count": 15,
      "outputs": []
    },
    {
      "cell_type": "code",
      "metadata": {
        "id": "bDI0PR_Pq2Vw",
        "colab": {
          "base_uri": "https://localhost:8080/"
        },
        "outputId": "95d82c8d-b804-4b7a-d452-54ee8e7edecc"
      },
      "source": [
        "compute_all_measures(principalComponents_cifar, PCA_Y_cifar)"
      ],
      "execution_count": 17,
      "outputs": [
        {
          "output_type": "stream",
          "text": [
            "F1 score:  0.832094757437763\n",
            "F1v score:  0.17966589159310556\n",
            "F2 score:  1.1002582465259495e-09\n",
            "F3 score:  0.4651591289782244\n",
            "\n",
            "\n",
            "\n",
            "\n",
            "\n",
            "\n",
            "\n",
            "\n",
            "\n",
            "\n",
            "F4 score:  0.0\n",
            "R1 score:  0.14105928481626648\n",
            "R2 score:  0.4673333333333333\n",
            "R3 score:  0.391\n",
            "N1 score:  0.8366666666666667\n",
            "N2 score:  0.5112758524175682\n",
            "N3 score:  0.7726666666666666\n",
            "N4 score:  0.45266666666666666\n",
            "LSC score:  0.9995472222222223\n",
            "Density score:  0.9826118706235412\n",
            "ClsCoef score:  0.9811874570340464\n",
            "Hubs score:  0.9927156414824042\n",
            "T2 score:  0.03133333333333333\n",
            "T3 score:  0.03\n",
            "T4 score:  0.9574468085106383\n",
            "C1 score:  0.0006000397898764387\n",
            "C2 score:  0.0003468792544955024\n"
          ],
          "name": "stdout"
        }
      ]
    },
    {
      "cell_type": "code",
      "metadata": {
        "id": "9dMO5pW7AOGV",
        "colab": {
          "base_uri": "https://localhost:8080/"
        },
        "outputId": "d217bba2-05bd-43de-cd6f-cd8c25df8c59"
      },
      "source": [
        "compute_all_measures(FTR_X_mnist, Y_mnist)"
      ],
      "execution_count": 10,
      "outputs": [
        {
          "output_type": "stream",
          "text": [
            "F1 score:  0.9921250362016055\n"
          ],
          "name": "stdout"
        },
        {
          "output_type": "stream",
          "text": [
            "/usr/local/lib/python3.7/dist-packages/numpy/core/fromnumeric.py:3373: RuntimeWarning: Mean of empty slice.\n",
            "  out=out, **kwargs)\n",
            "/usr/local/lib/python3.7/dist-packages/numpy/core/_methods.py:170: RuntimeWarning: invalid value encountered in double_scalars\n",
            "  ret = ret.dtype.type(ret / rcount)\n"
          ],
          "name": "stderr"
        },
        {
          "output_type": "stream",
          "text": [
            "F1v score:  nan\n"
          ],
          "name": "stdout"
        },
        {
          "output_type": "stream",
          "text": [
            "/content/drive/MyDrive/Complexity-Measure/overlapping.py:150: RuntimeWarning: invalid value encountered in true_divide\n",
            "  ratio = overlap_/range_\n"
          ],
          "name": "stderr"
        },
        {
          "output_type": "stream",
          "text": [
            "F2 score:  nan\n",
            "F3 score:  0.49780405405405403\n",
            "\n",
            "\n",
            "\n",
            "\n",
            "\n",
            "\n",
            "\n",
            "\n",
            "\n",
            "\n",
            "\n",
            "\n",
            "\n",
            "\n",
            "\n",
            "\n",
            "\n",
            "\n",
            "\n",
            "\n",
            "\n",
            "\n",
            "\n",
            "\n",
            "\n",
            "\n",
            "\n",
            "\n",
            "\n",
            "\n",
            "\n",
            "\n",
            "\n",
            "\n",
            "\n",
            "\n",
            "\n",
            "\n",
            "\n",
            "\n",
            "\n",
            "\n",
            "\n",
            "\n",
            "\n",
            "\n",
            "\n",
            "\n",
            "\n",
            "\n",
            "\n",
            "\n",
            "\n",
            "\n",
            "\n",
            "\n",
            "\n",
            "\n",
            "\n",
            "\n",
            "\n",
            "\n",
            "\n",
            "\n",
            "\n",
            "\n",
            "\n",
            "\n",
            "\n",
            "\n",
            "\n",
            "\n",
            "\n",
            "\n",
            "\n",
            "\n",
            "\n",
            "\n",
            "\n",
            "\n",
            "\n",
            "\n",
            "\n",
            "\n",
            "\n",
            "\n",
            "\n",
            "\n",
            "\n",
            "\n",
            "\n",
            "\n",
            "\n",
            "\n",
            "\n",
            "\n",
            "\n",
            "\n",
            "\n",
            "\n",
            "\n",
            "\n",
            "\n",
            "\n",
            "\n",
            "\n",
            "\n",
            "\n",
            "\n",
            "\n",
            "\n",
            "\n",
            "\n",
            "\n",
            "\n",
            "\n",
            "\n",
            "\n",
            "\n",
            "\n",
            "\n",
            "\n",
            "\n",
            "\n",
            "\n",
            "\n",
            "\n",
            "\n",
            "\n",
            "\n",
            "\n",
            "\n",
            "\n",
            "\n",
            "\n",
            "\n",
            "\n",
            "\n",
            "\n",
            "\n",
            "\n",
            "\n",
            "\n",
            "\n",
            "\n",
            "\n",
            "\n",
            "\n",
            "\n",
            "\n",
            "\n",
            "\n",
            "\n",
            "\n",
            "\n",
            "\n",
            "\n",
            "\n",
            "\n",
            "\n",
            "\n",
            "\n",
            "\n",
            "\n",
            "\n",
            "\n",
            "\n",
            "\n",
            "\n",
            "\n",
            "\n",
            "\n",
            "\n",
            "\n",
            "\n",
            "\n",
            "\n",
            "\n",
            "\n",
            "\n",
            "\n",
            "\n",
            "\n",
            "\n",
            "\n",
            "\n",
            "\n",
            "\n",
            "\n",
            "\n",
            "\n",
            "\n",
            "\n",
            "\n",
            "\n",
            "\n",
            "\n",
            "\n",
            "\n",
            "\n",
            "\n",
            "\n",
            "\n",
            "\n",
            "\n",
            "\n",
            "\n",
            "\n",
            "\n",
            "\n",
            "\n",
            "\n",
            "\n",
            "\n",
            "\n",
            "\n",
            "\n",
            "\n",
            "\n",
            "\n",
            "\n",
            "\n",
            "\n",
            "\n",
            "\n",
            "\n",
            "\n",
            "\n",
            "\n",
            "\n",
            "\n",
            "\n",
            "\n",
            "\n",
            "\n",
            "\n",
            "\n",
            "\n",
            "\n",
            "\n",
            "\n",
            "\n",
            "\n",
            "\n",
            "\n",
            "\n",
            "\n",
            "\n",
            "\n",
            "\n",
            "\n",
            "\n",
            "\n",
            "\n",
            "\n",
            "\n",
            "\n",
            "\n",
            "\n",
            "\n",
            "\n",
            "\n",
            "\n",
            "\n",
            "\n",
            "\n",
            "\n",
            "\n",
            "\n",
            "\n",
            "\n",
            "\n",
            "\n",
            "\n",
            "\n",
            "\n",
            "\n",
            "\n",
            "\n",
            "\n",
            "\n",
            "\n",
            "\n",
            "\n",
            "\n",
            "\n",
            "\n",
            "\n",
            "\n",
            "\n",
            "\n",
            "\n",
            "\n",
            "\n",
            "\n",
            "\n",
            "\n",
            "\n",
            "\n",
            "\n",
            "\n",
            "\n",
            "\n",
            "\n",
            "\n",
            "\n",
            "\n",
            "\n",
            "\n",
            "\n",
            "\n",
            "\n",
            "\n",
            "\n",
            "\n",
            "\n",
            "\n",
            "\n",
            "\n",
            "\n",
            "\n",
            "\n",
            "\n",
            "\n",
            "\n",
            "\n",
            "\n",
            "\n",
            "\n",
            "\n",
            "\n",
            "\n",
            "\n",
            "\n",
            "\n",
            "\n",
            "\n",
            "\n",
            "\n",
            "\n",
            "\n",
            "\n",
            "\n",
            "\n",
            "\n",
            "\n",
            "\n",
            "\n",
            "\n",
            "\n",
            "\n",
            "\n",
            "\n",
            "\n",
            "\n",
            "\n",
            "\n",
            "\n",
            "\n",
            "\n",
            "\n",
            "\n",
            "\n",
            "\n",
            "\n",
            "\n",
            "\n",
            "\n",
            "\n",
            "\n",
            "\n",
            "\n",
            "\n",
            "\n",
            "\n",
            "\n",
            "\n",
            "\n",
            "\n",
            "\n",
            "\n",
            "\n",
            "\n",
            "\n",
            "\n",
            "\n",
            "\n",
            "\n",
            "\n",
            "\n",
            "\n",
            "\n",
            "\n",
            "\n",
            "\n",
            "\n",
            "\n",
            "\n",
            "\n",
            "\n",
            "\n",
            "\n",
            "\n",
            "\n",
            "\n",
            "\n",
            "\n",
            "\n",
            "\n",
            "\n",
            "\n",
            "\n",
            "\n",
            "\n",
            "\n",
            "\n",
            "\n",
            "\n",
            "\n",
            "\n",
            "\n",
            "\n",
            "\n",
            "\n",
            "\n",
            "\n",
            "\n",
            "\n",
            "\n",
            "\n",
            "\n",
            "\n",
            "\n",
            "\n",
            "\n",
            "\n",
            "\n",
            "\n",
            "\n",
            "\n",
            "\n",
            "\n",
            "\n",
            "\n",
            "\n",
            "\n",
            "\n",
            "\n",
            "\n",
            "\n",
            "\n",
            "\n",
            "\n",
            "\n",
            "\n",
            "\n",
            "\n",
            "\n",
            "\n",
            "\n",
            "\n",
            "\n",
            "\n",
            "\n",
            "\n",
            "\n",
            "\n",
            "\n",
            "\n",
            "\n",
            "\n",
            "\n",
            "\n",
            "\n",
            "\n",
            "\n",
            "\n",
            "\n",
            "\n",
            "\n",
            "\n",
            "\n",
            "\n",
            "\n",
            "\n",
            "\n",
            "\n",
            "\n",
            "\n",
            "\n",
            "\n",
            "\n",
            "\n",
            "\n",
            "\n",
            "\n",
            "\n",
            "\n",
            "\n",
            "\n",
            "\n",
            "\n",
            "\n",
            "\n",
            "\n",
            "\n",
            "\n",
            "\n",
            "\n",
            "\n",
            "\n",
            "\n",
            "\n",
            "\n",
            "\n",
            "\n",
            "\n",
            "\n",
            "\n",
            "\n",
            "\n",
            "\n",
            "\n",
            "\n",
            "\n",
            "\n",
            "\n",
            "\n",
            "\n",
            "\n",
            "\n",
            "\n",
            "\n",
            "\n",
            "\n",
            "\n",
            "\n",
            "\n",
            "\n",
            "\n",
            "\n",
            "\n",
            "\n",
            "\n",
            "\n",
            "\n",
            "\n",
            "\n",
            "\n",
            "\n",
            "\n",
            "\n",
            "\n",
            "\n",
            "\n",
            "\n",
            "\n",
            "\n",
            "\n",
            "\n",
            "\n",
            "\n",
            "\n",
            "\n",
            "\n",
            "\n",
            "\n",
            "\n",
            "\n",
            "\n",
            "\n",
            "\n",
            "\n",
            "\n",
            "\n",
            "\n",
            "\n",
            "\n",
            "\n",
            "\n",
            "\n",
            "\n",
            "\n",
            "\n",
            "\n",
            "\n",
            "\n",
            "\n",
            "\n",
            "\n",
            "\n",
            "\n",
            "\n",
            "\n",
            "\n",
            "\n",
            "\n",
            "\n",
            "\n",
            "\n",
            "\n",
            "\n",
            "\n",
            "\n",
            "\n",
            "\n",
            "\n",
            "\n",
            "\n",
            "\n",
            "\n",
            "\n",
            "\n",
            "\n",
            "\n",
            "\n",
            "\n",
            "\n",
            "\n",
            "\n",
            "\n",
            "\n",
            "\n",
            "\n",
            "\n",
            "\n",
            "\n",
            "\n",
            "\n",
            "\n",
            "\n",
            "\n",
            "\n",
            "\n",
            "\n",
            "\n",
            "\n",
            "\n",
            "\n",
            "\n",
            "\n",
            "\n",
            "\n",
            "\n",
            "\n",
            "\n",
            "\n",
            "\n",
            "\n",
            "\n",
            "\n",
            "\n",
            "\n",
            "\n",
            "\n",
            "\n",
            "\n",
            "\n",
            "\n",
            "\n",
            "\n",
            "\n",
            "\n",
            "\n",
            "\n",
            "\n",
            "\n",
            "\n",
            "\n",
            "\n",
            "\n",
            "\n",
            "\n",
            "\n",
            "\n",
            "\n",
            "\n",
            "\n",
            "\n",
            "\n",
            "\n",
            "\n",
            "\n",
            "\n",
            "\n",
            "\n",
            "\n",
            "\n",
            "\n",
            "\n",
            "\n",
            "\n",
            "\n",
            "\n",
            "\n",
            "\n",
            "\n",
            "\n",
            "\n",
            "\n",
            "\n",
            "\n",
            "\n",
            "\n",
            "\n",
            "\n",
            "\n",
            "\n",
            "\n",
            "\n",
            "\n",
            "\n",
            "\n",
            "\n",
            "\n",
            "\n",
            "\n",
            "\n",
            "\n",
            "\n",
            "\n",
            "\n",
            "\n",
            "\n",
            "\n",
            "\n",
            "\n",
            "\n",
            "\n",
            "\n",
            "\n",
            "\n",
            "\n",
            "\n",
            "\n",
            "\n",
            "\n",
            "\n",
            "\n",
            "\n",
            "\n",
            "\n",
            "\n",
            "\n",
            "\n",
            "\n",
            "\n",
            "\n",
            "\n",
            "\n",
            "\n",
            "\n",
            "\n",
            "\n",
            "\n",
            "\n",
            "\n",
            "\n",
            "\n",
            "\n",
            "\n",
            "\n",
            "\n",
            "\n",
            "\n",
            "\n",
            "\n",
            "\n",
            "\n",
            "\n",
            "\n",
            "\n",
            "\n",
            "\n",
            "\n",
            "\n",
            "\n",
            "\n",
            "\n",
            "\n",
            "\n",
            "\n",
            "\n",
            "\n",
            "\n",
            "\n",
            "\n",
            "\n",
            "\n",
            "\n",
            "\n",
            "\n",
            "\n",
            "\n",
            "\n",
            "\n",
            "\n",
            "\n",
            "\n",
            "\n",
            "\n",
            "\n",
            "\n",
            "\n",
            "F4 score:  0.0014062282868722634\n",
            "R1 score:  0.05200790711063498\n",
            "R2 score:  0.3596666666666667\n",
            "R3 score:  0.3016666666666667\n",
            "N1 score:  0.9513333333333334\n",
            "N2 score:  0.5573933021235754\n",
            "N3 score:  0.9016666666666666\n",
            "N4 score:  0.754\n",
            "LSC score:  0.9996303333333333\n",
            "Density score:  0.9850784706013116\n",
            "ClsCoef score:  0.977615519312122\n",
            "Hubs score:  0.9830197839345566\n",
            "T2 score:  0.17066666666666666\n",
            "T3 score:  0.07433333333333333\n",
            "T4 score:  0.435546875\n",
            "C1 score:  0.0004410374307189935\n",
            "C2 score:  0.0002507767835950858\n"
          ],
          "name": "stdout"
        }
      ]
    },
    {
      "cell_type": "code",
      "metadata": {
        "id": "4-64xCbq9i7b"
      },
      "source": [
        "Y_cifar = np.reshape(Y_cifar, 3000)"
      ],
      "execution_count": 13,
      "outputs": []
    },
    {
      "cell_type": "code",
      "metadata": {
        "id": "1XsfNNRowS-E",
        "colab": {
          "base_uri": "https://localhost:8080/"
        },
        "outputId": "bb30c30f-08af-4407-f56b-e0482bbec2a9"
      },
      "source": [
        "compute_all_measures(FTR_X_cifar, Y_cifar)"
      ],
      "execution_count": 14,
      "outputs": [
        {
          "output_type": "stream",
          "text": [
            "F1 score:  0.989445979863543\n"
          ],
          "name": "stdout"
        },
        {
          "output_type": "stream",
          "text": [
            "/usr/local/lib/python3.7/dist-packages/numpy/core/fromnumeric.py:3373: RuntimeWarning: Mean of empty slice.\n",
            "  out=out, **kwargs)\n",
            "/usr/local/lib/python3.7/dist-packages/numpy/core/_methods.py:170: RuntimeWarning: invalid value encountered in double_scalars\n",
            "  ret = ret.dtype.type(ret / rcount)\n",
            "/content/drive/MyDrive/Complexity-Measure/overlapping.py:150: RuntimeWarning: invalid value encountered in true_divide\n",
            "  ratio = overlap_/range_\n"
          ],
          "name": "stderr"
        },
        {
          "output_type": "stream",
          "text": [
            "F1v score:  nan\n",
            "F2 score:  nan\n",
            "F3 score:  0.49626485568760614\n",
            "\n",
            "\n",
            "\n",
            "\n",
            "\n",
            "\n",
            "\n",
            "\n",
            "\n",
            "\n",
            "\n",
            "\n",
            "\n",
            "\n",
            "F4 score:  0.0\n",
            "R1 score:  0.0\n",
            "R2 score:  0.0\n",
            "R3 score:  0.0\n",
            "N1 score:  0.94\n",
            "N2 score:  0.5285388532462939\n",
            "N3 score:  0.8983333333333333\n",
            "N4 score:  0.5273333333333333\n",
            "LSC score:  0.9996283333333333\n",
            "Density score:  0.9848840724686007\n",
            "ClsCoef score:  0.9828816540469674\n",
            "Hubs score:  0.9875499295278751\n",
            "T2 score:  0.17066666666666666\n",
            "T3 score:  0.12266666666666666\n",
            "T4 score:  0.71875\n",
            "C1 score:  0.001061196508135298\n",
            "C2 score:  0.0005959330399840645\n"
          ],
          "name": "stdout"
        }
      ]
    },
    {
      "cell_type": "markdown",
      "metadata": {
        "id": "EpHIFM-wnCbD"
      },
      "source": [
        "# Classify balanced wine dataset using SVM"
      ]
    },
    {
      "cell_type": "code",
      "metadata": {
        "id": "OyHoLHkEUTAh"
      },
      "source": [
        "from sklearn.datasets import load_wine\n",
        "\n",
        "data_wine = load_wine()\n",
        "Y_wine = data_wine.target\n",
        "X_wine = data_wine.data\n",
        "X_wine = X_wine[:,0:4]\n",
        "\n",
        "X_wine_bal = X_wine\n",
        "Y_wine_bal = Y_wine"
      ],
      "execution_count": null,
      "outputs": []
    },
    {
      "cell_type": "code",
      "metadata": {
        "id": "2G4xXRLCl7h-"
      },
      "source": [
        "classes, class_freqs = np.unique(Y_wine, return_counts=True)\n",
        "a = max(class_freqs) - class_freqs[0]\n",
        "b = max(class_freqs) - class_freqs[1]\n",
        "c = max(class_freqs) - class_freqs[2]\n",
        "counter =  a + b + c\n",
        "while counter > 0:\n",
        "    r = random.randint(0, X_wine.shape[0])\n",
        "    if Y_wine[r] == classes[0] and a > 0:\n",
        "        a = a -1\n",
        "        X_wine_bal = np.append(X_wine_bal, [X_wine[r]], axis=0)\n",
        "        Y_wine_bal = np.append(Y_wine_bal, [Y_wine[r]], axis=0)\n",
        "        counter = counter - 1\n",
        "    elif Y_wine[r] == classes[1] and b > 0:\n",
        "        b = b - 1\n",
        "        X_wine_bal = np.append(X_wine_bal, [X_wine[r]], axis=0)\n",
        "        Y_wine_bal = np.append(Y_wine_bal, [Y_wine[r]], axis=0)\n",
        "        counter = counter - 1\n",
        "    elif Y_wine[r] == classes[2] and c > 0:\n",
        "        c = c - 1\n",
        "        X_wine_bal = np.append(X_wine_bal, [X_wine[r]], axis=0)\n",
        "        Y_wine_bal = np.append(Y_wine_bal, [Y_wine[r]], axis=0)\n",
        "        counter = counter - 1\n",
        "classes, class_freqs = np.unique(Y_wine_bal, return_counts=True)\n",
        "print(classes, class_freqs)"
      ],
      "execution_count": null,
      "outputs": []
    },
    {
      "cell_type": "code",
      "metadata": {
        "id": "frfM8ia_l7aR"
      },
      "source": [
        "from sklearn.model_selection import train_test_split\n",
        "X_train_wine, X_test_wine, Y_train_wine, Y_test_wine = train_test_split(X_wine, Y_wine, test_size = 0.1)\n",
        "X_train_wine_bal, X_test_wine_bal, Y_train_wine_bal, Y_test_wine_bal = train_test_split(X_wine_bal, Y_wine_bal, test_size = 0.1)"
      ],
      "execution_count": null,
      "outputs": []
    },
    {
      "cell_type": "code",
      "metadata": {
        "id": "K5rDR_yYl7Qy"
      },
      "source": [
        "model_wine = SVC(kernel = 'linear')\n",
        "model_wine.fit(X_train_wine, Y_train_wine)\n",
        "print(\"wine dataset train accuracy: \" + str(model_wine.score(X_train_wine, Y_train_wine)))\n",
        "print(\"wine dataset test accuracy: \" + str(model_wine.score(X_test_wine, Y_test_wine)))\n",
        "print(\"-----------------------------------------------\")\n",
        "model_wine_bl = SVC(kernel = 'linear')\n",
        "model_wine_bl.fit(X_train_wine_bal, Y_train_wine_bal)\n",
        "print(\"wine(balanced) dataset train accuracy: \" + str(model_wine_bl.score(X_train_wine_bal, Y_train_wine_bal)))\n",
        "print(\"wine(balanced) dataset test accuracy: \" + str(model_wine_bl.score(X_test_wine, Y_test_wine)))"
      ],
      "execution_count": null,
      "outputs": []
    },
    {
      "cell_type": "code",
      "metadata": {
        "id": "eNBSTqgKcV-C"
      },
      "source": [
        ""
      ],
      "execution_count": null,
      "outputs": []
    }
  ]
}